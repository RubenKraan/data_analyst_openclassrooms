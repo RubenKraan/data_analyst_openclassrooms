{
 "cells": [
  {
   "cell_type": "markdown",
   "id": "97dccc01",
   "metadata": {},
   "source": [
    "<div style=\"display: flex; background-color: RGB(255,114,0);\" >\n",
    "<h1 style=\"margin: auto; padding: 30px; \">ANALYSE DU STOCK ET DES VENTES DU SITE BOTTLENECK</h1>\n",
    "</div>"
   ]
  },
  {
   "cell_type": "markdown",
   "id": "4d0d1bb8",
   "metadata": {},
   "source": [
    "# OBJECTIF DE CE NOTEBOOK\n",
    "\n",
    "Bienvenue dans l'outil plébiscité par les analystes de données Jupyter.\n",
    "\n",
    "Il s'agit d'un outil permettant de mixer et d'alterner codes, textes et graphique.\n",
    "\n",
    "Cet outil est formidable pour plusieurs raisons:\n",
    "\n",
    "+ il permet de tester des lignes de codes au fur et à mesure de votre rédaction, de constater immédiatement le résultat d'un instruction, de la corriger si nécessaire.\n",
    "+ De rédiger du texte pour expliquer l'approche suivie ou les résultats d'une analyse et de le mettre en forme grâce à du code html ou plus simple avec **Markdown**\n",
    "+ d'agrémenter de graphiques\n",
    "\n",
    "Pour vous aider dans vos premiers pas à l'usage de Jupyter et de Python, nous avons rédigé ce notebook en vous indiquant les instructions à suivre.\n",
    "\n",
    "Il vous suffit pour cela de saisir le code Python répondant à l'instruction donnée.\n",
    "\n",
    "Vous verrez de temps à autre le code Python répondant à une instruction donnée mais cela est fait pour vous aider à comprendre la nature du travail qui vous est demandée.\n",
    "\n",
    "Et garder à l'esprit, qu'il n'y a pas de solution unique pour résoudre un problème et qu'il y a autant de résolutions de problèmes que de développeurs ;)...\n",
    "\n"
   ]
  },
  {
   "cell_type": "markdown",
   "id": "b85efb87",
   "metadata": {},
   "source": [
    "<div style=\"background-color: RGB(51,165,182);\" >\n",
    "<h2 style=\"margin: auto; padding: 20px; color:#fff; \">Etape 1 - Importation des librairies et chargement des fichiers</h2>\n",
    "</div>"
   ]
  },
  {
   "cell_type": "markdown",
   "id": "b5449401",
   "metadata": {},
   "source": [
    "<div style=\"border: 1px solid RGB(51,165,182);\" >\n",
    "<h3 style=\"margin: auto; padding: 20px; color: RGB(51,165,182); \">1.1 - Importation des librairies</h3>\n",
    "</div>"
   ]
  },
  {
   "cell_type": "code",
   "execution_count": 1,
   "id": "e6ef06ec",
   "metadata": {},
   "outputs": [],
   "source": [
    "#Importation de la librairie Pandas\n",
    "import pandas as pd\n",
    "import numpy as np\n",
    "import seaborn as sns"
   ]
  },
  {
   "cell_type": "code",
   "execution_count": 2,
   "id": "a38ce0fc",
   "metadata": {},
   "outputs": [],
   "source": [
    "#Importation de la librairie plotly express\n",
    "import plotly.express as px\n",
    "import matplotlib.pyplot as plt"
   ]
  },
  {
   "cell_type": "code",
   "execution_count": 3,
   "id": "0a718067",
   "metadata": {},
   "outputs": [],
   "source": [
    "#Trouver dans Google l'instruction permettant d'afficher toutes les colonnes d'un dataframe\n",
    "#Saisir, dans Google, les mots clés \"display all columns dataframe Pandas\", par exemple.\n",
    "#Dans les résultats de la recherche, privilégiez les solutions provenants de Stack Overflow ou Medium\n",
    "pd.set_option('display.max_columns', None)\n",
    "pd.set_option('display.max_rows', None)"
   ]
  },
  {
   "cell_type": "markdown",
   "id": "f4918299",
   "metadata": {},
   "source": [
    "<div style=\"border: 1px solid RGB(51,165,182);\" >\n",
    "<h3 style=\"margin: auto; padding: 20px; color: RGB(51,165,182); \">1.2 - Chargements des fichiers</h3>\n",
    "</div>"
   ]
  },
  {
   "cell_type": "code",
   "execution_count": 4,
   "id": "9642cf03",
   "metadata": {},
   "outputs": [
    {
     "name": "stderr",
     "output_type": "stream",
     "text": [
      "c:\\USERS\\SKIKK\\APPDATA\\LOCAL\\PROGRAMS\\PYTHON\\PYTHON313\\Lib\\site-packages\\openpyxl\\worksheet\\_reader.py:329: UserWarning: Unknown extension is not supported and will be removed\n",
      "  warn(msg)\n",
      "c:\\USERS\\SKIKK\\APPDATA\\LOCAL\\PROGRAMS\\PYTHON\\PYTHON313\\Lib\\site-packages\\openpyxl\\worksheet\\_reader.py:329: UserWarning: Unknown extension is not supported and will be removed\n",
      "  warn(msg)\n",
      "c:\\USERS\\SKIKK\\APPDATA\\LOCAL\\PROGRAMS\\PYTHON\\PYTHON313\\Lib\\site-packages\\openpyxl\\worksheet\\_reader.py:329: UserWarning: Unknown extension is not supported and will be removed\n",
      "  warn(msg)\n"
     ]
    }
   ],
   "source": [
    "#Importation du fichier web.xlsx\n",
    "df_web = pd.read_excel(\"web.xlsx\")\n",
    "#Importation du fichier erp.xlsx\n",
    "df_erp = pd.read_excel(\"erp.xlsx\")\n",
    "#importation du fichier liaison.xlsx\n",
    "df_liaison = pd.read_excel(\"liaison.xlsx\")"
   ]
  },
  {
   "cell_type": "markdown",
   "id": "605f7056",
   "metadata": {},
   "source": [
    "<div style=\"background-color: RGB(51,165,182);\" >\n",
    "<h2 style=\"margin: auto; padding: 20px; color:#fff; \">Etape 2 - Analyse exploratoire des fichiers</h2>\n",
    "</div>"
   ]
  },
  {
   "cell_type": "markdown",
   "id": "47d3a649",
   "metadata": {},
   "source": [
    "<div style=\"border: 1px solid RGB(51,165,182);\" >\n",
    "<h3 style=\"margin: auto; padding: 20px; color: RGB(51,165,182); \">2.1 - Analyse exploratoire du fichier erp.xlsx</h3>\n",
    "</div>"
   ]
  },
  {
   "cell_type": "code",
   "execution_count": 5,
   "id": "094ef206",
   "metadata": {},
   "outputs": [
    {
     "name": "stdout",
     "output_type": "stream",
     "text": [
      "Le tableau comporte 825 observation(s) ou article(s)\n",
      "Le tableau comporte 6 colonne(s)\n"
     ]
    }
   ],
   "source": [
    "#Afficher les dimensions du dataset\n",
    "print(\"Le tableau comporte {} observation(s) ou article(s)\".format(df_erp.shape[0]))\n",
    "print(\"Le tableau comporte {} colonne(s)\".format(df_erp.shape[1]))"
   ]
  },
  {
   "cell_type": "code",
   "execution_count": 6,
   "id": "182441f0",
   "metadata": {},
   "outputs": [
    {
     "data": {
      "text/plain": [
       "product_id          int64\n",
       "onsale_web          int64\n",
       "price             float64\n",
       "stock_quantity      int64\n",
       "stock_status       object\n",
       "purchase_price    float64\n",
       "dtype: object"
      ]
     },
     "execution_count": 6,
     "metadata": {},
     "output_type": "execute_result"
    }
   ],
   "source": [
    "#Consulter le nombre de colonnes\n",
    "#La nature des données dans chacune des colonnes\n",
    "#Le nombre de valeurs présentes dans chacune des colonnes\n",
    "df_erp.dtypes"
   ]
  },
  {
   "cell_type": "code",
   "execution_count": 7,
   "id": "d3977646",
   "metadata": {},
   "outputs": [
    {
     "data": {
      "text/html": [
       "<div>\n",
       "<style scoped>\n",
       "    .dataframe tbody tr th:only-of-type {\n",
       "        vertical-align: middle;\n",
       "    }\n",
       "\n",
       "    .dataframe tbody tr th {\n",
       "        vertical-align: top;\n",
       "    }\n",
       "\n",
       "    .dataframe thead th {\n",
       "        text-align: right;\n",
       "    }\n",
       "</style>\n",
       "<table border=\"1\" class=\"dataframe\">\n",
       "  <thead>\n",
       "    <tr style=\"text-align: right;\">\n",
       "      <th></th>\n",
       "      <th>product_id</th>\n",
       "      <th>onsale_web</th>\n",
       "      <th>price</th>\n",
       "      <th>stock_quantity</th>\n",
       "      <th>stock_status</th>\n",
       "      <th>purchase_price</th>\n",
       "    </tr>\n",
       "  </thead>\n",
       "  <tbody>\n",
       "    <tr>\n",
       "      <th>0</th>\n",
       "      <td>3847</td>\n",
       "      <td>1</td>\n",
       "      <td>24.2</td>\n",
       "      <td>16</td>\n",
       "      <td>instock</td>\n",
       "      <td>12.88</td>\n",
       "    </tr>\n",
       "    <tr>\n",
       "      <th>1</th>\n",
       "      <td>3849</td>\n",
       "      <td>1</td>\n",
       "      <td>34.3</td>\n",
       "      <td>10</td>\n",
       "      <td>instock</td>\n",
       "      <td>17.54</td>\n",
       "    </tr>\n",
       "    <tr>\n",
       "      <th>2</th>\n",
       "      <td>3850</td>\n",
       "      <td>1</td>\n",
       "      <td>20.8</td>\n",
       "      <td>0</td>\n",
       "      <td>outofstock</td>\n",
       "      <td>10.64</td>\n",
       "    </tr>\n",
       "    <tr>\n",
       "      <th>3</th>\n",
       "      <td>4032</td>\n",
       "      <td>1</td>\n",
       "      <td>14.1</td>\n",
       "      <td>26</td>\n",
       "      <td>instock</td>\n",
       "      <td>6.92</td>\n",
       "    </tr>\n",
       "    <tr>\n",
       "      <th>4</th>\n",
       "      <td>4039</td>\n",
       "      <td>1</td>\n",
       "      <td>46.0</td>\n",
       "      <td>3</td>\n",
       "      <td>instock</td>\n",
       "      <td>23.77</td>\n",
       "    </tr>\n",
       "  </tbody>\n",
       "</table>\n",
       "</div>"
      ],
      "text/plain": [
       "   product_id  onsale_web  price  stock_quantity stock_status  purchase_price\n",
       "0        3847           1   24.2              16      instock           12.88\n",
       "1        3849           1   34.3              10      instock           17.54\n",
       "2        3850           1   20.8               0   outofstock           10.64\n",
       "3        4032           1   14.1              26      instock            6.92\n",
       "4        4039           1   46.0               3      instock           23.77"
      ]
     },
     "execution_count": 7,
     "metadata": {},
     "output_type": "execute_result"
    }
   ],
   "source": [
    "#Afficher les 5 premières lignes de la table\n",
    "df_erp.head(5)"
   ]
  },
  {
   "cell_type": "code",
   "execution_count": 8,
   "id": "db102a4a",
   "metadata": {},
   "outputs": [
    {
     "name": "stdout",
     "output_type": "stream",
     "text": [
      "No duplicates found in column 'product_id'.\n"
     ]
    }
   ],
   "source": [
    "# Vérifier si il y a les lignes en doublons dans la colonne product_id\n",
    "duplicates_in_column = df_erp[df_erp['product_id'].duplicated(keep=False)]\n",
    "if not duplicates_in_column.empty:\n",
    "    print(\"Duplicates in column 'product_id':\")\n",
    "    print(duplicates_in_column)\n",
    "else:\n",
    "    print(\"No duplicates found in column 'product_id'.\")"
   ]
  },
  {
   "cell_type": "code",
   "execution_count": 9,
   "id": "d443d4ff",
   "metadata": {},
   "outputs": [
    {
     "name": "stdout",
     "output_type": "stream",
     "text": [
      "Distinct values in 'stock_status':\n",
      "['instock' 'outofstock']\n",
      "Related columns to 'stock_status':\n",
      "stock_status\n",
      "instock       [16, 10, 26, 3, 12, 15, 5, 2, 24, 25, 42, 7, 6...\n",
      "outofstock                                         [0, -10, -1]\n",
      "Name: stock_quantity, dtype: object\n"
     ]
    }
   ],
   "source": [
    "# Afficher les valeurs distinctes de la colonne stock_status\n",
    "distinct_values = df_erp['stock_status'].unique()\n",
    "# Print the distinct values\n",
    "print(\"Distinct values in 'stock_status':\")\n",
    "print(distinct_values)\n",
    "\n",
    "# Afficher les colonnes liées à stock_status\n",
    "related_columns = df_erp.groupby('stock_status')['stock_quantity'].unique()\n",
    "print(\"Related columns to 'stock_status':\")\n",
    "print(related_columns)"
   ]
  },
  {
   "cell_type": "code",
   "execution_count": 10,
   "id": "68088943",
   "metadata": {},
   "outputs": [
    {
     "data": {
      "text/html": [
       "<div>\n",
       "<style scoped>\n",
       "    .dataframe tbody tr th:only-of-type {\n",
       "        vertical-align: middle;\n",
       "    }\n",
       "\n",
       "    .dataframe tbody tr th {\n",
       "        vertical-align: top;\n",
       "    }\n",
       "\n",
       "    .dataframe thead th {\n",
       "        text-align: right;\n",
       "    }\n",
       "</style>\n",
       "<table border=\"1\" class=\"dataframe\">\n",
       "  <thead>\n",
       "    <tr style=\"text-align: right;\">\n",
       "      <th></th>\n",
       "      <th>product_id</th>\n",
       "      <th>onsale_web</th>\n",
       "      <th>price</th>\n",
       "      <th>stock_quantity</th>\n",
       "      <th>stock_status</th>\n",
       "      <th>purchase_price</th>\n",
       "      <th>stock_status_2</th>\n",
       "    </tr>\n",
       "  </thead>\n",
       "  <tbody>\n",
       "    <tr>\n",
       "      <th>0</th>\n",
       "      <td>3847</td>\n",
       "      <td>1</td>\n",
       "      <td>24.2</td>\n",
       "      <td>16</td>\n",
       "      <td>instock</td>\n",
       "      <td>12.88</td>\n",
       "      <td>instock</td>\n",
       "    </tr>\n",
       "    <tr>\n",
       "      <th>1</th>\n",
       "      <td>3849</td>\n",
       "      <td>1</td>\n",
       "      <td>34.3</td>\n",
       "      <td>10</td>\n",
       "      <td>instock</td>\n",
       "      <td>17.54</td>\n",
       "      <td>instock</td>\n",
       "    </tr>\n",
       "    <tr>\n",
       "      <th>2</th>\n",
       "      <td>3850</td>\n",
       "      <td>1</td>\n",
       "      <td>20.8</td>\n",
       "      <td>0</td>\n",
       "      <td>outofstock</td>\n",
       "      <td>10.64</td>\n",
       "      <td>outofstock</td>\n",
       "    </tr>\n",
       "    <tr>\n",
       "      <th>3</th>\n",
       "      <td>4032</td>\n",
       "      <td>1</td>\n",
       "      <td>14.1</td>\n",
       "      <td>26</td>\n",
       "      <td>instock</td>\n",
       "      <td>6.92</td>\n",
       "      <td>instock</td>\n",
       "    </tr>\n",
       "    <tr>\n",
       "      <th>4</th>\n",
       "      <td>4039</td>\n",
       "      <td>1</td>\n",
       "      <td>46.0</td>\n",
       "      <td>3</td>\n",
       "      <td>instock</td>\n",
       "      <td>23.77</td>\n",
       "      <td>instock</td>\n",
       "    </tr>\n",
       "  </tbody>\n",
       "</table>\n",
       "</div>"
      ],
      "text/plain": [
       "   product_id  onsale_web  price  stock_quantity stock_status  purchase_price  \\\n",
       "0        3847           1   24.2              16      instock           12.88   \n",
       "1        3849           1   34.3              10      instock           17.54   \n",
       "2        3850           1   20.8               0   outofstock           10.64   \n",
       "3        4032           1   14.1              26      instock            6.92   \n",
       "4        4039           1   46.0               3      instock           23.77   \n",
       "\n",
       "  stock_status_2  \n",
       "0        instock  \n",
       "1        instock  \n",
       "2     outofstock  \n",
       "3        instock  \n",
       "4        instock  "
      ]
     },
     "execution_count": 10,
     "metadata": {},
     "output_type": "execute_result"
    }
   ],
   "source": [
    "# Création d'une colonne \"stock_status_2\"\n",
    "# La valeur de cette deuxième colonne sera fonction de la valeur dans la colonne \"stock_quantity\"\n",
    "# si la valeur de la colonne \"stock_quantity\" est nulle renseigner \"outofstock\" sinon mettre \"instock\"\n",
    "df_erp['stock_status_2'] = df_erp['stock_quantity'].apply(lambda x: 'outofstock' if x <= 0 else 'instock')\n",
    "\n",
    "# Afficher les premières lignes du dataframe pour vérifier\n",
    "df_erp.head(5)\n"
   ]
  },
  {
   "cell_type": "code",
   "execution_count": 11,
   "id": "90a1c8ae",
   "metadata": {},
   "outputs": [
    {
     "name": "stdout",
     "output_type": "stream",
     "text": [
      "Les colonnes 'stock_status' et 'stock_status_2' sont strictement identiques.\n"
     ]
    }
   ],
   "source": [
    "# Vérifions que les 2 colonnes sont identiques\n",
    "# Les 2 colonnes sont strictement identiques si les valeurs de chaque ligne sont strictement identiques 2 à 2\n",
    "# La comparaison de 2 colonnes peut se réaliser simplement avec l'instruction ci-dessous:\n",
    "comparison = df_erp[\"stock_status\"] == df_erp[\"stock_status_2\"]\n",
    "\n",
    "# Le résultat est l'affichage de True ou False pour chacune des lignes du dataset\n",
    "# C'est un bon début, mais difficile à exploiter\n",
    "\n",
    "# Vérifier si toutes les valeurs sont identiques\n",
    "if comparison.all():\n",
    "    print(\"Les colonnes 'stock_status' et 'stock_status_2' sont strictement identiques.\")\n",
    "else:\n",
    "    print(\"Les colonnes 'stock_status' et 'stock_status_2' ne sont pas identiques.\")\n",
    "    # Afficher les lignes où les colonnes ne sont pas identiques\n",
    "    print(\"Lignes avec des différences:\")\n",
    "    print(df_erp[~comparison])\n"
   ]
  },
  {
   "cell_type": "code",
   "execution_count": 12,
   "id": "ebe3650a",
   "metadata": {},
   "outputs": [
    {
     "name": "stdout",
     "output_type": "stream",
     "text": [
      "The sum of the boolean column is: 825\n",
      "Les colonnes 'stock_status' et 'stock_status_2' sont strictement identiques. La somme est 825.\n"
     ]
    }
   ],
   "source": [
    "# Vérifions que les 2 colonnes sont identiques\n",
    "is_true_column = df_erp['stock_status'] == df_erp['stock_status_2']\n",
    "\n",
    "# Effectuer la somme de cette colonne\n",
    "sum_true = is_true_column.sum()\n",
    "\n",
    "# Nombre total de lignes dans le dataset\n",
    "total_rows = df_erp.shape[0]\n",
    "\n",
    "# Afficher le résultat\n",
    "print(f\"The sum of the boolean column is: {sum_true}\")\n",
    "if sum_true == total_rows:\n",
    "    print(f\"Les colonnes 'stock_status' et 'stock_status_2' sont strictement identiques. La somme est {sum_true}.\")\n",
    "else:\n",
    "    print(f\"Les colonnes 'stock_status' et 'stock_status_2' ne sont pas identiques. La somme est {sum_true} sur {total_rows} lignes.\")\n"
   ]
  },
  {
   "cell_type": "code",
   "execution_count": 13,
   "id": "1ca6060a",
   "metadata": {},
   "outputs": [
    {
     "name": "stdout",
     "output_type": "stream",
     "text": [
      "Lignes avec des différences entre 'stock_status' et 'stock_status_2':\n",
      "Empty DataFrame\n",
      "Columns: [product_id, onsale_web, price, stock_quantity, stock_status, purchase_price, stock_status_2]\n",
      "Index: []\n"
     ]
    }
   ],
   "source": [
    "# Si les colonnes ne sont absolument pas identiques ligne à ligne alors identifier la ligne en écart\n",
    "mismatched_status = df_erp[df_erp[\"stock_status\"] != df_erp[\"stock_status_2\"]]\n",
    "\n",
    "# Afficher les lignes avec des différences\n",
    "print(\"Lignes avec des différences entre 'stock_status' et 'stock_status_2':\")\n",
    "print(mismatched_status)"
   ]
  },
  {
   "cell_type": "code",
   "execution_count": 14,
   "id": "ce1b9704",
   "metadata": {},
   "outputs": [],
   "source": [
    "#Corriger la ou les données incohérentes\n",
    "\n",
    "#Verification en utilisant le même code que plus haut pour afficher les problemes\n"
   ]
  },
  {
   "cell_type": "markdown",
   "id": "08bd4b08",
   "metadata": {},
   "source": [
    "<div style=\"border: 1px solid RGB(51,165,182);\" >\n",
    "<h3 style=\"margin: auto; padding: 20px; color: RGB(51,165,182); \">2.1.1 - Analyse exploratoire de chaque variable du fichier erp.xlsx</h3>\n",
    "</div>"
   ]
  },
  {
   "cell_type": "markdown",
   "id": "3476df40",
   "metadata": {},
   "source": [
    "<div style=\"border: 1px solid RGB(51,165,182);\" >\n",
    "<h3 style=\"margin: auto; padding: 20px; color: RGB(51,165,182); \">2.1.1.1 - Analyse de la variable PRIX</h3>\n",
    "</div>"
   ]
  },
  {
   "cell_type": "code",
   "execution_count": 15,
   "id": "a7fc3384",
   "metadata": {},
   "outputs": [
    {
     "name": "stdout",
     "output_type": "stream",
     "text": [
      "Nombres d'articles avec un prix non renseigné: 0\n",
      "Prix minimum: -20.0\n",
      "Prix maximum: 225.0\n",
      "Prix inférieurs à 0:\n",
      "     product_id  onsale_web  price  stock_quantity stock_status  \\\n",
      "151        4233           0  -20.0               0   outofstock   \n",
      "469        5017           0   -8.0               0   outofstock   \n",
      "739        6594           0   -9.1              19      instock   \n",
      "\n",
      "     purchase_price stock_status_2  \n",
      "151           10.33     outofstock  \n",
      "469            4.34     outofstock  \n",
      "739            4.61        instock  \n"
     ]
    }
   ],
   "source": [
    "###############\n",
    "## LES PRIX  ##\n",
    "###############\n",
    "# Vérification des prix: Y a t-il des prix non renseignés, négatif ou nul?\n",
    "\n",
    "# Afficher le ou les prix non renseignés dans la colonne \"price\"\n",
    "missing_prices = df_erp['price'].isnull().sum()\n",
    "print(\"Nombres d'articles avec un prix non renseigné: {}\".format(missing_prices))\n",
    "\n",
    "# Afficher le prix minimum de la colonne \"price\"\n",
    "min_price = df_erp['price'].min()\n",
    "print(\"Prix minimum: {}\".format(min_price))\n",
    "\n",
    "# Afficher le prix maximum de la colonne \"price\"\n",
    "max_price = df_erp['price'].max()\n",
    "print(\"Prix maximum: {}\".format(max_price))\n",
    "\n",
    "# Afficher les prix inférieurs à 0 (qu'est-ce qu'il faut en faire ?)\n",
    "negative_prices = df_erp[df_erp['price'] < 0]\n",
    "print(\"Prix inférieurs à 0:\")\n",
    "print(negative_prices)\n",
    "\n",
    "# Remplacer les prix négatifs par leurs valeurs absolues\n",
    "df_erp.loc[df_erp['price'] < 0, 'price'] = df_erp['price'].abs()\n",
    "\n"
   ]
  },
  {
   "cell_type": "markdown",
   "id": "c5fce58c",
   "metadata": {},
   "source": [
    "<div style=\"border: 1px solid RGB(51,165,182);\" >\n",
    "<h3 style=\"margin: auto; padding: 20px; color: RGB(51,165,182); \">2.1.1.2 - Analyse de la variable STOCK</h3>\n",
    "</div>"
   ]
  },
  {
   "cell_type": "code",
   "execution_count": 16,
   "id": "3d14c4a0",
   "metadata": {},
   "outputs": [
    {
     "name": "stdout",
     "output_type": "stream",
     "text": [
      "Quantité minimum: -10\n",
      "Quantité maximum: 145\n",
      "Stocks inférieurs à 0:\n",
      "     product_id  onsale_web  price  stock_quantity stock_status  \\\n",
      "449        4973           0   10.0             -10   outofstock   \n",
      "573        5700           1   44.5              -1   outofstock   \n",
      "\n",
      "     purchase_price stock_status_2  \n",
      "449            4.96     outofstock  \n",
      "573           22.30     outofstock  \n"
     ]
    }
   ],
   "source": [
    "#######################\n",
    "### stock_quantity  ###\n",
    "#######################\n",
    "\n",
    "# Vérification de la colonne stock quantity\n",
    "\n",
    "# Afficher la quantité minimum de la colonne \"stock_quantity\"\n",
    "min_quantity = df_erp['stock_quantity'].min()\n",
    "print(\"Quantité minimum: {}\".format(min_quantity))\n",
    "\n",
    "# Afficher la quantité maximum de la colonne \"stock_quantity\"\n",
    "max_quantity = df_erp['stock_quantity'].max()\n",
    "print(\"Quantité maximum: {}\".format(max_quantity))\n",
    "\n",
    "# Afficher les stocks inférieurs à 0 (qu'est-ce qu'il faut en faire ?)\n",
    "negative_stocks = df_erp[df_erp['stock_quantity'] < 0]\n",
    "print(\"Stocks inférieurs à 0:\")\n",
    "print(negative_stocks)\n",
    "\n",
    "# Optionnel: Remplacer les stocks négatifs par 0 ou une autre valeur\n",
    "df_erp.loc[df_erp['stock_quantity'] < 0, 'stock_quantity'] = 0\n",
    "\n"
   ]
  },
  {
   "cell_type": "markdown",
   "id": "20e8c554",
   "metadata": {},
   "source": [
    "<div style=\"border: 1px solid RGB(51,165,182);\" >\n",
    "<h3 style=\"margin: auto; padding: 20px; color: RGB(51,165,182); \">2.1.1.3 - Analyse de la variable ONSALE_WEB</h3>\n",
    "</div>"
   ]
  },
  {
   "cell_type": "code",
   "execution_count": 17,
   "id": "99b936ca",
   "metadata": {},
   "outputs": [
    {
     "name": "stdout",
     "output_type": "stream",
     "text": [
      "Unique values in 'onsale_web': [1 0]\n"
     ]
    }
   ],
   "source": [
    "#Vérification de la colonne onsale_web et des valeurs qu'elle contient? Que signifient-elles?\n",
    "unique_values = df_erp['onsale_web'].unique()\n",
    "print(\"Unique values in 'onsale_web':\", unique_values)\n"
   ]
  },
  {
   "cell_type": "code",
   "execution_count": 18,
   "id": "5a79444d",
   "metadata": {},
   "outputs": [],
   "source": [
    "#Quelles sont les colonnes à conserver selon vous?\n",
    "#avec 1 "
   ]
  },
  {
   "cell_type": "code",
   "execution_count": 19,
   "id": "8053aeda",
   "metadata": {},
   "outputs": [],
   "source": [
    "#Supprimer la colonnecomportant le libellé \"stock_status_2\" car elle est redondante \n",
    "#avec la colonne \"stock_status\".\n",
    "df_erp = df_erp.drop(columns=['stock_status_2'])"
   ]
  },
  {
   "cell_type": "markdown",
   "id": "eca4fce9",
   "metadata": {},
   "source": [
    "<div style=\"border: 1px solid RGB(51,165,182);\" >\n",
    "<h3 style=\"margin: auto; padding: 20px; color: RGB(51,165,182); \">2.1.1.4 - Analyse de la variable prix d'achat</h3>\n",
    "</div>"
   ]
  },
  {
   "cell_type": "code",
   "execution_count": 20,
   "id": "6b85ba0d",
   "metadata": {},
   "outputs": [
    {
     "name": "stdout",
     "output_type": "stream",
     "text": [
      "Nombres d'article avec un prix non renseignés: 0\n",
      "Prix minimum: 2.74\n",
      "Prix maximum: 137.81\n"
     ]
    }
   ],
   "source": [
    "######################\n",
    "##   prix d'achat   ##\n",
    "######################\n",
    "\n",
    "# Vérification de la colonne purchase_price\n",
    "\n",
    "# Afficher le ou les prix non renseignés dans la colonne \"purchase_price\"\n",
    "missing_prices = df_erp['purchase_price'].isnull().sum()\n",
    "print(\"Nombres d'article avec un prix non renseignés: {}\".format(missing_prices))\n",
    "\n",
    "# Afficher le prix minimum de la colonne \"purchase_price\"\n",
    "min_price = df_erp['purchase_price'].min()\n",
    "print(\"Prix minimum: {}\".format(min_price))\n",
    "\n",
    "# Afficher le prix maximum de la colonne \"purchase_price\"\n",
    "max_price = df_erp['purchase_price'].max()\n",
    "print(\"Prix maximum: {}\".format(max_price))\n",
    "\n"
   ]
  },
  {
   "cell_type": "markdown",
   "id": "a550f996",
   "metadata": {},
   "source": [
    "<div style=\"border: 1px solid RGB(51,165,182);\" >\n",
    "<h3 style=\"margin: auto; padding: 20px; color: RGB(51,165,182); \">2.2 - Analyse exploratoire du fichier web.xlsx</h3>\n",
    "</div>\n",
    " "
   ]
  },
  {
   "cell_type": "code",
   "execution_count": 21,
   "id": "bb7e292c",
   "metadata": {},
   "outputs": [
    {
     "name": "stdout",
     "output_type": "stream",
     "text": [
      "Nombre d'observations: 1513\n",
      "Nombre de caractéristiques: 29\n"
     ]
    }
   ],
   "source": [
    "\n",
    "# Get the dimensions of the dataset\n",
    "dimensions = df_web.shape\n",
    "\n",
    "# Number of observations (rows)\n",
    "num_observations = dimensions[0]\n",
    "print(\"Nombre d'observations: {}\".format(num_observations))\n",
    "\n",
    "# Number of characteristics (columns)\n",
    "num_characteristics = dimensions[1]\n",
    "print(\"Nombre de caractéristiques: {}\".format(num_characteristics))\n",
    "\n"
   ]
  },
  {
   "cell_type": "code",
   "execution_count": 22,
   "id": "0b70a8da",
   "metadata": {},
   "outputs": [
    {
     "name": "stdout",
     "output_type": "stream",
     "text": [
      "<class 'pandas.core.frame.DataFrame'>\n",
      "RangeIndex: 1513 entries, 0 to 1512\n",
      "Data columns (total 29 columns):\n",
      " #   Column                 Non-Null Count  Dtype         \n",
      "---  ------                 --------------  -----         \n",
      " 0   sku                    1428 non-null   object        \n",
      " 1   virtual                1513 non-null   int64         \n",
      " 2   downloadable           1513 non-null   int64         \n",
      " 3   rating_count           1513 non-null   int64         \n",
      " 4   average_rating         1430 non-null   float64       \n",
      " 5   total_sales            1430 non-null   float64       \n",
      " 6   tax_status             716 non-null    object        \n",
      " 7   tax_class              0 non-null      float64       \n",
      " 8   post_author            1430 non-null   float64       \n",
      " 9   post_date              1430 non-null   datetime64[ns]\n",
      " 10  post_date_gmt          1430 non-null   datetime64[ns]\n",
      " 11  post_content           0 non-null      float64       \n",
      " 12  product_type           1429 non-null   object        \n",
      " 13  post_title             1430 non-null   object        \n",
      " 14  post_excerpt           716 non-null    object        \n",
      " 15  post_status            1430 non-null   object        \n",
      " 16  comment_status         1430 non-null   object        \n",
      " 17  ping_status            1430 non-null   object        \n",
      " 18  post_password          0 non-null      float64       \n",
      " 19  post_name              1430 non-null   object        \n",
      " 20  post_modified          1430 non-null   datetime64[ns]\n",
      " 21  post_modified_gmt      1430 non-null   datetime64[ns]\n",
      " 22  post_content_filtered  0 non-null      float64       \n",
      " 23  post_parent            1430 non-null   float64       \n",
      " 24  guid                   1430 non-null   object        \n",
      " 25  menu_order             1430 non-null   float64       \n",
      " 26  post_type              1430 non-null   object        \n",
      " 27  post_mime_type         714 non-null    object        \n",
      " 28  comment_count          1430 non-null   float64       \n",
      "dtypes: datetime64[ns](4), float64(10), int64(3), object(12)\n",
      "memory usage: 342.9+ KB\n"
     ]
    }
   ],
   "source": [
    "#Consulter le nombre de colonnes\n",
    "#La nature des données dans chacune des colonnes\n",
    "#Le nombre de valeurs présentes dans chacune des colonnes\n",
    "df_web.info()\n"
   ]
  },
  {
   "cell_type": "code",
   "execution_count": 23,
   "id": "b0d2f149",
   "metadata": {},
   "outputs": [],
   "source": [
    "#Selon vous, quelles sont les colonnes à conserver ?\n",
    "#sku , total_sales , tax_status , product type , post_title , post_date_gmt \n",
    "#post_modified , post_name , prost_type"
   ]
  },
  {
   "cell_type": "code",
   "execution_count": 24,
   "id": "30b2196b",
   "metadata": {},
   "outputs": [
    {
     "data": {
      "text/html": [
       "<div>\n",
       "<style scoped>\n",
       "    .dataframe tbody tr th:only-of-type {\n",
       "        vertical-align: middle;\n",
       "    }\n",
       "\n",
       "    .dataframe tbody tr th {\n",
       "        vertical-align: top;\n",
       "    }\n",
       "\n",
       "    .dataframe thead th {\n",
       "        text-align: right;\n",
       "    }\n",
       "</style>\n",
       "<table border=\"1\" class=\"dataframe\">\n",
       "  <thead>\n",
       "    <tr style=\"text-align: right;\">\n",
       "      <th></th>\n",
       "      <th>total_sales</th>\n",
       "      <th>post_date_gmt</th>\n",
       "      <th>post_modified</th>\n",
       "    </tr>\n",
       "  </thead>\n",
       "  <tbody>\n",
       "    <tr>\n",
       "      <th>count</th>\n",
       "      <td>1430.000000</td>\n",
       "      <td>1430</td>\n",
       "      <td>1430</td>\n",
       "    </tr>\n",
       "    <tr>\n",
       "      <th>mean</th>\n",
       "      <td>8.223077</td>\n",
       "      <td>2018-08-22 01:53:30.097902080</td>\n",
       "      <td>2020-06-20 13:59:29.781818112</td>\n",
       "    </tr>\n",
       "    <tr>\n",
       "      <th>min</th>\n",
       "      <td>-56.000000</td>\n",
       "      <td>2018-02-08 11:58:52</td>\n",
       "      <td>2018-02-20 15:19:23</td>\n",
       "    </tr>\n",
       "    <tr>\n",
       "      <th>25%</th>\n",
       "      <td>5.000000</td>\n",
       "      <td>2018-02-27 19:01:12.500000</td>\n",
       "      <td>2020-06-18 10:45:05.249999872</td>\n",
       "    </tr>\n",
       "    <tr>\n",
       "      <th>50%</th>\n",
       "      <td>8.000000</td>\n",
       "      <td>2018-04-19 12:56:05</td>\n",
       "      <td>2020-08-04 09:30:06</td>\n",
       "    </tr>\n",
       "    <tr>\n",
       "      <th>75%</th>\n",
       "      <td>11.000000</td>\n",
       "      <td>2019-01-31 13:35:47</td>\n",
       "      <td>2020-08-25 10:32:32</td>\n",
       "    </tr>\n",
       "    <tr>\n",
       "      <th>max</th>\n",
       "      <td>122.000000</td>\n",
       "      <td>2020-07-20 09:00:00</td>\n",
       "      <td>2020-08-27 18:55:03</td>\n",
       "    </tr>\n",
       "    <tr>\n",
       "      <th>std</th>\n",
       "      <td>6.721899</td>\n",
       "      <td>NaN</td>\n",
       "      <td>NaN</td>\n",
       "    </tr>\n",
       "  </tbody>\n",
       "</table>\n",
       "</div>"
      ],
      "text/plain": [
       "       total_sales                  post_date_gmt  \\\n",
       "count  1430.000000                           1430   \n",
       "mean      8.223077  2018-08-22 01:53:30.097902080   \n",
       "min     -56.000000            2018-02-08 11:58:52   \n",
       "25%       5.000000     2018-02-27 19:01:12.500000   \n",
       "50%       8.000000            2018-04-19 12:56:05   \n",
       "75%      11.000000            2019-01-31 13:35:47   \n",
       "max     122.000000            2020-07-20 09:00:00   \n",
       "std       6.721899                            NaN   \n",
       "\n",
       "                       post_modified  \n",
       "count                           1430  \n",
       "mean   2020-06-20 13:59:29.781818112  \n",
       "min              2018-02-20 15:19:23  \n",
       "25%    2020-06-18 10:45:05.249999872  \n",
       "50%              2020-08-04 09:30:06  \n",
       "75%              2020-08-25 10:32:32  \n",
       "max              2020-08-27 18:55:03  \n",
       "std                              NaN  "
      ]
     },
     "execution_count": 24,
     "metadata": {},
     "output_type": "execute_result"
    }
   ],
   "source": [
    "#Si vous avez défini des colonnes à supprimer, effectuer l'opération\n",
    "\n",
    "# List of columns to keep\n",
    "columns_to_keep = ['sku', 'total_sales', 'tax_status', 'product_type', 'post_title', 'post_date_gmt', 'post_modified', 'post_name', 'post_type']\n",
    "\n",
    "# Keep only the specified columns\n",
    "df_web = df_web[columns_to_keep]\n",
    "\n",
    "# Display the DataFrame\n",
    "df_web.head(5)\n",
    "df_web.describe()\n"
   ]
  },
  {
   "cell_type": "code",
   "execution_count": 25,
   "id": "1b965d06",
   "metadata": {},
   "outputs": [],
   "source": [
    "#Visualisation des valeurs de la colonne sku\n",
    "#Quelles sont les valeurs qui ne semblent pas respecter la régle de codification?\n",
    "#il doit etre unique\n",
    "#il faut avoir 5 chiffres dans la colum sku\n",
    "df_web.isna().sum()\n",
    "df_web = df_web.dropna(how='all', axis='rows').reset_index(drop=True)"
   ]
  },
  {
   "cell_type": "code",
   "execution_count": 26,
   "id": "1226dcfd",
   "metadata": {},
   "outputs": [],
   "source": [
    "#Si vous avez identifié des codes articles ne respectant pas la régle de codification, consultez-les?\n"
   ]
  },
  {
   "cell_type": "code",
   "execution_count": 27,
   "id": "eb8d31bf",
   "metadata": {},
   "outputs": [
    {
     "data": {
      "text/html": [
       "<div>\n",
       "<style scoped>\n",
       "    .dataframe tbody tr th:only-of-type {\n",
       "        vertical-align: middle;\n",
       "    }\n",
       "\n",
       "    .dataframe tbody tr th {\n",
       "        vertical-align: top;\n",
       "    }\n",
       "\n",
       "    .dataframe thead th {\n",
       "        text-align: right;\n",
       "    }\n",
       "</style>\n",
       "<table border=\"1\" class=\"dataframe\">\n",
       "  <thead>\n",
       "    <tr style=\"text-align: right;\">\n",
       "      <th></th>\n",
       "      <th>sku</th>\n",
       "      <th>total_sales</th>\n",
       "      <th>tax_status</th>\n",
       "      <th>product_type</th>\n",
       "      <th>post_title</th>\n",
       "      <th>post_date_gmt</th>\n",
       "      <th>post_modified</th>\n",
       "      <th>post_name</th>\n",
       "      <th>post_type</th>\n",
       "    </tr>\n",
       "  </thead>\n",
       "  <tbody>\n",
       "    <tr>\n",
       "      <th>1019</th>\n",
       "      <td>NaN</td>\n",
       "      <td>-56.0</td>\n",
       "      <td>taxable</td>\n",
       "      <td>Vin</td>\n",
       "      <td>Pierre Jean Villa Condrieu Jardin Suspendu 2018</td>\n",
       "      <td>2018-08-08 09:23:43</td>\n",
       "      <td>2019-11-02 13:24:01</td>\n",
       "      <td>pierre-jean-villa-condrieu-suspendu-2018</td>\n",
       "      <td>product</td>\n",
       "    </tr>\n",
       "    <tr>\n",
       "      <th>1021</th>\n",
       "      <td>NaN</td>\n",
       "      <td>-17.0</td>\n",
       "      <td>taxable</td>\n",
       "      <td>Vin</td>\n",
       "      <td>Pierre Jean Villa Côte Rôtie Fongeant 2017</td>\n",
       "      <td>2018-07-31 10:07:23</td>\n",
       "      <td>2019-11-02 13:24:15</td>\n",
       "      <td>pierre-jean-villa-cote-rotie-fongeant-2017</td>\n",
       "      <td>product</td>\n",
       "    </tr>\n",
       "  </tbody>\n",
       "</table>\n",
       "</div>"
      ],
      "text/plain": [
       "      sku  total_sales tax_status product_type  \\\n",
       "1019  NaN        -56.0    taxable          Vin   \n",
       "1021  NaN        -17.0    taxable          Vin   \n",
       "\n",
       "                                           post_title       post_date_gmt  \\\n",
       "1019  Pierre Jean Villa Condrieu Jardin Suspendu 2018 2018-08-08 09:23:43   \n",
       "1021       Pierre Jean Villa Côte Rôtie Fongeant 2017 2018-07-31 10:07:23   \n",
       "\n",
       "           post_modified                                   post_name post_type  \n",
       "1019 2019-11-02 13:24:01    pierre-jean-villa-condrieu-suspendu-2018   product  \n",
       "1021 2019-11-02 13:24:15  pierre-jean-villa-cote-rotie-fongeant-2017   product  "
      ]
     },
     "execution_count": 27,
     "metadata": {},
     "output_type": "execute_result"
    }
   ],
   "source": [
    "#Identifier les lignes sans code articles\n",
    "df_web.loc[df_web['sku'].isna() & ~df_web['total_sales'].isna()]"
   ]
  },
  {
   "cell_type": "code",
   "execution_count": 28,
   "id": "967495da",
   "metadata": {},
   "outputs": [
    {
     "name": "stdout",
     "output_type": "stream",
     "text": [
      "\n",
      "Rows with matching 'post_title':\n",
      "      sku  total_sales tax_status product_type  \\\n",
      "1019  NaN        -56.0    taxable          Vin   \n",
      "1021  NaN        -17.0    taxable          Vin   \n",
      "\n",
      "                                           post_title       post_date_gmt  \\\n",
      "1019  Pierre Jean Villa Condrieu Jardin Suspendu 2018 2018-08-08 09:23:43   \n",
      "1021       Pierre Jean Villa Côte Rôtie Fongeant 2017 2018-07-31 10:07:23   \n",
      "\n",
      "           post_modified                                   post_name post_type  \n",
      "1019 2019-11-02 13:24:01    pierre-jean-villa-condrieu-suspendu-2018   product  \n",
      "1021 2019-11-02 13:24:15  pierre-jean-villa-cote-rotie-fongeant-2017   product  \n"
     ]
    }
   ],
   "source": [
    "# Pour les codes articles identifiés, réalisé une analyse et définissez l'action à entreprendre\n",
    "\n",
    "# Identifier les lignes avec 'sku' manquant mais 'total_sales' non manquant\n",
    "df_na_web = df_web.loc[df_web['sku'].isna() & ~df_web['total_sales'].isna()]\n",
    "\n",
    "# Trouver les titres correspondants\n",
    "matching_titles = df_web[df_web['post_title'].isin(df_na_web['post_title'])]\n",
    "\n",
    "# Afficher les lignes avec 'post_title' correspondant\n",
    "print(\"\\nRows with matching 'post_title':\")\n",
    "print(matching_titles)\n",
    "\n",
    "# Mettre à jour le 'sku' pour un titre spécifique\n",
    "df_web.loc[df_web['post_title'] == 'Clos du Mont-Olivet Châteauneuf-du-Pape 2007', 'sku'] = 16034\n",
    "\n",
    "# Supprimer les lignes avec 'sku' manquant et réinitialiser l'index\n",
    "df_web = df_web.dropna(subset=['sku']).reset_index(drop=True)"
   ]
  },
  {
   "cell_type": "code",
   "execution_count": 29,
   "id": "27bf30de",
   "metadata": {},
   "outputs": [
    {
     "name": "stdout",
     "output_type": "stream",
     "text": [
      "50.07% des lignes du DataFrame sont des doublons.\n"
     ]
    }
   ],
   "source": [
    "# La clé pour chaque ligne est-elle unique? ou autrement dit, y a-t-il des doublons?\n",
    "taux_doublons_df_web = df_web['sku'].nunique() / df_web['sku'].size\n",
    "\n",
    "print(f'{(1 - taux_doublons_df_web):.2%} des lignes du DataFrame sont des doublons.')\n",
    "\n",
    "# Supprimer la variable taux_doublons_df_web\n",
    "del taux_doublons_df_web\n"
   ]
  },
  {
   "cell_type": "code",
   "execution_count": 30,
   "id": "8b81d617",
   "metadata": {},
   "outputs": [
    {
     "name": "stdout",
     "output_type": "stream",
     "text": [
      "<class 'pandas.core.frame.DataFrame'>\n",
      "RangeIndex: 1428 entries, 0 to 1427\n",
      "Data columns (total 9 columns):\n",
      " #   Column         Non-Null Count  Dtype         \n",
      "---  ------         --------------  -----         \n",
      " 0   sku            1428 non-null   object        \n",
      " 1   total_sales    1428 non-null   float64       \n",
      " 2   tax_status     714 non-null    object        \n",
      " 3   product_type   1427 non-null   object        \n",
      " 4   post_title     1428 non-null   object        \n",
      " 5   post_date_gmt  1428 non-null   datetime64[ns]\n",
      " 6   post_modified  1428 non-null   datetime64[ns]\n",
      " 7   post_name      1428 non-null   object        \n",
      " 8   post_type      1428 non-null   object        \n",
      "dtypes: datetime64[ns](2), float64(1), object(6)\n",
      "memory usage: 100.5+ KB\n"
     ]
    }
   ],
   "source": [
    "#Les lignes sans code article semble être toutes non renseignés\n",
    "#Pour s'en assurer réaliser les étapes suivantes:\n",
    "\n",
    "#1 - Créer un dataframe avec uniquement les lignes sans code article\n",
    "# Sélection aléatoire d'une ligne\n",
    "random_index = np.random.randint(0, len(df_liaison['product_id']))\n",
    "\n",
    "# Sélection SKU à partir de l'index de la ligne aléatoire\n",
    "random_sku = df_web['sku'].iloc[random_index]\n",
    "\n",
    "# Affichage des deux lignes en doublons\n",
    "df_web.loc[df_web['sku'] == random_sku]\n",
    "#2 - utiliser la fonction df.info() sur ce nouveau dataframe pour observer le nombre de valeur reseigner dans chacune des colonnes\n",
    "df_web.info()\n",
    "#3 - Que constatez-vous?"
   ]
  },
  {
   "cell_type": "code",
   "execution_count": 31,
   "id": "07a91d53",
   "metadata": {},
   "outputs": [
    {
     "data": {
      "text/html": [
       "<div>\n",
       "<style scoped>\n",
       "    .dataframe tbody tr th:only-of-type {\n",
       "        vertical-align: middle;\n",
       "    }\n",
       "\n",
       "    .dataframe tbody tr th {\n",
       "        vertical-align: top;\n",
       "    }\n",
       "\n",
       "    .dataframe thead th {\n",
       "        text-align: right;\n",
       "    }\n",
       "</style>\n",
       "<table border=\"1\" class=\"dataframe\">\n",
       "  <thead>\n",
       "    <tr style=\"text-align: right;\">\n",
       "      <th></th>\n",
       "      <th>sku</th>\n",
       "      <th>total_sales</th>\n",
       "      <th>tax_status</th>\n",
       "      <th>product_type</th>\n",
       "      <th>post_title</th>\n",
       "      <th>post_date_gmt</th>\n",
       "      <th>post_modified</th>\n",
       "      <th>post_name</th>\n",
       "      <th>post_type</th>\n",
       "    </tr>\n",
       "  </thead>\n",
       "  <tbody>\n",
       "    <tr>\n",
       "      <th>2</th>\n",
       "      <td>14692</td>\n",
       "      <td>5.0</td>\n",
       "      <td>taxable</td>\n",
       "      <td>Vin</td>\n",
       "      <td>Château Fonréaud Bordeaux Blanc Le Cygne 2016</td>\n",
       "      <td>2019-03-19 09:06:47</td>\n",
       "      <td>2020-04-25 21:40:31</td>\n",
       "      <td>fonreaud-bordeaux-blanc-le-cygne-2016</td>\n",
       "      <td>product</td>\n",
       "    </tr>\n",
       "    <tr>\n",
       "      <th>4</th>\n",
       "      <td>15328</td>\n",
       "      <td>2.0</td>\n",
       "      <td>taxable</td>\n",
       "      <td>Vin</td>\n",
       "      <td>Agnès Levet Côte Rôtie Maestria 2017</td>\n",
       "      <td>2019-03-27 17:05:09</td>\n",
       "      <td>2020-07-25 15:45:02</td>\n",
       "      <td>agnes-levet-cote-rotie-maestria-2017</td>\n",
       "      <td>product</td>\n",
       "    </tr>\n",
       "    <tr>\n",
       "      <th>6</th>\n",
       "      <td>16515</td>\n",
       "      <td>10.0</td>\n",
       "      <td>taxable</td>\n",
       "      <td>Vin</td>\n",
       "      <td>Château Turcaud Bordeaux Rouge Cuvée Majeure 2018</td>\n",
       "      <td>2018-06-02 07:31:31</td>\n",
       "      <td>2020-08-27 10:11:12</td>\n",
       "      <td>chateau-turcaud-bordeaux-rouge-cuvee-majeure-2018</td>\n",
       "      <td>product</td>\n",
       "    </tr>\n",
       "  </tbody>\n",
       "</table>\n",
       "</div>"
      ],
      "text/plain": [
       "     sku  total_sales tax_status product_type  \\\n",
       "2  14692          5.0    taxable          Vin   \n",
       "4  15328          2.0    taxable          Vin   \n",
       "6  16515         10.0    taxable          Vin   \n",
       "\n",
       "                                          post_title       post_date_gmt  \\\n",
       "2      Château Fonréaud Bordeaux Blanc Le Cygne 2016 2019-03-19 09:06:47   \n",
       "4               Agnès Levet Côte Rôtie Maestria 2017 2019-03-27 17:05:09   \n",
       "6  Château Turcaud Bordeaux Rouge Cuvée Majeure 2018 2018-06-02 07:31:31   \n",
       "\n",
       "        post_modified                                          post_name  \\\n",
       "2 2020-04-25 21:40:31              fonreaud-bordeaux-blanc-le-cygne-2016   \n",
       "4 2020-07-25 15:45:02               agnes-levet-cote-rotie-maestria-2017   \n",
       "6 2020-08-27 10:11:12  chateau-turcaud-bordeaux-rouge-cuvee-majeure-2018   \n",
       "\n",
       "  post_type  \n",
       "2   product  \n",
       "4   product  \n",
       "6   product  "
      ]
     },
     "execution_count": 31,
     "metadata": {},
     "output_type": "execute_result"
    }
   ],
   "source": [
    "# Filtrer les lignes où 'post_type' n'est pas 'attachment' et créer une copie du DataFrame\n",
    "df_web = df_web.loc[df_web['post_type'] != 'attachment'].copy()\n",
    "\n",
    "# Afficher les 3 premières lignes du DataFrame\n",
    "df_web.head(3)"
   ]
  },
  {
   "cell_type": "code",
   "execution_count": 32,
   "id": "024dd783",
   "metadata": {},
   "outputs": [
    {
     "data": {
      "text/plain": [
       "sku              713\n",
       "total_sales       24\n",
       "tax_status         1\n",
       "product_type       6\n",
       "post_title       711\n",
       "post_date_gmt    714\n",
       "post_modified    587\n",
       "post_name        714\n",
       "post_type          1\n",
       "dtype: int64"
      ]
     },
     "execution_count": 32,
     "metadata": {},
     "output_type": "execute_result"
    }
   ],
   "source": [
    "df_web.nunique()\n"
   ]
  },
  {
   "cell_type": "code",
   "execution_count": 33,
   "id": "1fe26db8",
   "metadata": {},
   "outputs": [
    {
     "name": "stdout",
     "output_type": "stream",
     "text": [
      "\n",
      "Rows with non-unique SKUs:\n",
      "       sku  total_sales tax_status product_type  \\\n",
      "251  16034          4.0    taxable          Vin   \n",
      "919  16034          8.0    taxable          Vin   \n",
      "\n",
      "                                       post_title       post_date_gmt  \\\n",
      "251  Clos du Mont-Olivet Châteauneuf-du-Pape 2007 2020-06-09 13:42:04   \n",
      "919  Clos du Mont-Olivet Châteauneuf-du-Pape 2007 2018-09-25 13:35:26   \n",
      "\n",
      "          post_modified                                       post_name  \\\n",
      "251 2020-07-20 17:09:06  clos-du-mont-olivet-chateauneuf-du-pape-2007-2   \n",
      "919 2020-08-21 14:25:03    clos-du-mont-olivet-chateauneuf-du-pape-2007   \n",
      "\n",
      "    post_type  \n",
      "251   product  \n",
      "919   product  \n"
     ]
    }
   ],
   "source": [
    "# Check for duplicate SKUs\n",
    "duplicate_skus = df_web[df_web['sku'].duplicated(keep=False)]\n",
    "\n",
    "# Display rows with non-unique SKUs\n",
    "print(\"\\nRows with non-unique SKUs:\")\n",
    "print(duplicate_skus)\n",
    "\n",
    "# Filtrer les lignes où 'post_type' n'est pas 'attachment' et créer une copie du DataFrame\n",
    "df_web = df_web.loc[df_web['post_type'] != 'attachment'].copy()"
   ]
  },
  {
   "cell_type": "code",
   "execution_count": 34,
   "id": "e37abac8",
   "metadata": {},
   "outputs": [
    {
     "name": "stdout",
     "output_type": "stream",
     "text": [
      "<class 'pandas.core.frame.DataFrame'>\n",
      "Index: 714 entries, 2 to 1424\n",
      "Data columns (total 9 columns):\n",
      " #   Column         Non-Null Count  Dtype         \n",
      "---  ------         --------------  -----         \n",
      " 0   sku            714 non-null    object        \n",
      " 1   total_sales    714 non-null    float64       \n",
      " 2   tax_status     714 non-null    object        \n",
      " 3   product_type   713 non-null    object        \n",
      " 4   post_title     714 non-null    object        \n",
      " 5   post_date_gmt  714 non-null    datetime64[ns]\n",
      " 6   post_modified  714 non-null    datetime64[ns]\n",
      " 7   post_name      714 non-null    object        \n",
      " 8   post_type      714 non-null    object        \n",
      "dtypes: datetime64[ns](2), float64(1), object(6)\n",
      "memory usage: 55.8+ KB\n"
     ]
    },
    {
     "data": {
      "text/html": [
       "<div>\n",
       "<style scoped>\n",
       "    .dataframe tbody tr th:only-of-type {\n",
       "        vertical-align: middle;\n",
       "    }\n",
       "\n",
       "    .dataframe tbody tr th {\n",
       "        vertical-align: top;\n",
       "    }\n",
       "\n",
       "    .dataframe thead th {\n",
       "        text-align: right;\n",
       "    }\n",
       "</style>\n",
       "<table border=\"1\" class=\"dataframe\">\n",
       "  <thead>\n",
       "    <tr style=\"text-align: right;\">\n",
       "      <th></th>\n",
       "      <th>sku</th>\n",
       "      <th>total_sales</th>\n",
       "      <th>tax_status</th>\n",
       "      <th>product_type</th>\n",
       "      <th>post_title</th>\n",
       "      <th>post_date_gmt</th>\n",
       "      <th>post_modified</th>\n",
       "      <th>post_name</th>\n",
       "      <th>post_type</th>\n",
       "    </tr>\n",
       "  </thead>\n",
       "  <tbody>\n",
       "    <tr>\n",
       "      <th>2</th>\n",
       "      <td>14692</td>\n",
       "      <td>5.0</td>\n",
       "      <td>taxable</td>\n",
       "      <td>Vin</td>\n",
       "      <td>Château Fonréaud Bordeaux Blanc Le Cygne 2016</td>\n",
       "      <td>2019-03-19 09:06:47</td>\n",
       "      <td>2020-04-25 21:40:31</td>\n",
       "      <td>fonreaud-bordeaux-blanc-le-cygne-2016</td>\n",
       "      <td>product</td>\n",
       "    </tr>\n",
       "    <tr>\n",
       "      <th>4</th>\n",
       "      <td>15328</td>\n",
       "      <td>2.0</td>\n",
       "      <td>taxable</td>\n",
       "      <td>Vin</td>\n",
       "      <td>Agnès Levet Côte Rôtie Maestria 2017</td>\n",
       "      <td>2019-03-27 17:05:09</td>\n",
       "      <td>2020-07-25 15:45:02</td>\n",
       "      <td>agnes-levet-cote-rotie-maestria-2017</td>\n",
       "      <td>product</td>\n",
       "    </tr>\n",
       "    <tr>\n",
       "      <th>6</th>\n",
       "      <td>16515</td>\n",
       "      <td>10.0</td>\n",
       "      <td>taxable</td>\n",
       "      <td>Vin</td>\n",
       "      <td>Château Turcaud Bordeaux Rouge Cuvée Majeure 2018</td>\n",
       "      <td>2018-06-02 07:31:31</td>\n",
       "      <td>2020-08-27 10:11:12</td>\n",
       "      <td>chateau-turcaud-bordeaux-rouge-cuvee-majeure-2018</td>\n",
       "      <td>product</td>\n",
       "    </tr>\n",
       "    <tr>\n",
       "      <th>10</th>\n",
       "      <td>16585</td>\n",
       "      <td>15.0</td>\n",
       "      <td>taxable</td>\n",
       "      <td>Vin</td>\n",
       "      <td>Xavier Frissant Touraine Sauvignon 2019</td>\n",
       "      <td>2018-02-16 13:03:16</td>\n",
       "      <td>2020-08-27 09:30:36</td>\n",
       "      <td>xavier-frissant-touraine-sauvignon-2019</td>\n",
       "      <td>product</td>\n",
       "    </tr>\n",
       "    <tr>\n",
       "      <th>13</th>\n",
       "      <td>12869</td>\n",
       "      <td>7.0</td>\n",
       "      <td>taxable</td>\n",
       "      <td>Vin</td>\n",
       "      <td>Stéphane Tissot Arbois D.D. 2016</td>\n",
       "      <td>2019-03-28 13:29:35</td>\n",
       "      <td>2019-12-13 15:40:01</td>\n",
       "      <td>stephane-tissot-arbois-dd-2016</td>\n",
       "      <td>product</td>\n",
       "    </tr>\n",
       "  </tbody>\n",
       "</table>\n",
       "</div>"
      ],
      "text/plain": [
       "      sku  total_sales tax_status product_type  \\\n",
       "2   14692          5.0    taxable          Vin   \n",
       "4   15328          2.0    taxable          Vin   \n",
       "6   16515         10.0    taxable          Vin   \n",
       "10  16585         15.0    taxable          Vin   \n",
       "13  12869          7.0    taxable          Vin   \n",
       "\n",
       "                                           post_title       post_date_gmt  \\\n",
       "2       Château Fonréaud Bordeaux Blanc Le Cygne 2016 2019-03-19 09:06:47   \n",
       "4                Agnès Levet Côte Rôtie Maestria 2017 2019-03-27 17:05:09   \n",
       "6   Château Turcaud Bordeaux Rouge Cuvée Majeure 2018 2018-06-02 07:31:31   \n",
       "10            Xavier Frissant Touraine Sauvignon 2019 2018-02-16 13:03:16   \n",
       "13                   Stéphane Tissot Arbois D.D. 2016 2019-03-28 13:29:35   \n",
       "\n",
       "         post_modified                                          post_name  \\\n",
       "2  2020-04-25 21:40:31              fonreaud-bordeaux-blanc-le-cygne-2016   \n",
       "4  2020-07-25 15:45:02               agnes-levet-cote-rotie-maestria-2017   \n",
       "6  2020-08-27 10:11:12  chateau-turcaud-bordeaux-rouge-cuvee-majeure-2018   \n",
       "10 2020-08-27 09:30:36            xavier-frissant-touraine-sauvignon-2019   \n",
       "13 2019-12-13 15:40:01                     stephane-tissot-arbois-dd-2016   \n",
       "\n",
       "   post_type  \n",
       "2    product  \n",
       "4    product  \n",
       "6    product  \n",
       "10   product  \n",
       "13   product  "
      ]
     },
     "execution_count": 34,
     "metadata": {},
     "output_type": "execute_result"
    }
   ],
   "source": [
    "df_web.info()\n",
    "df_web.head(5)"
   ]
  },
  {
   "cell_type": "code",
   "execution_count": 35,
   "id": "da7f0d80",
   "metadata": {},
   "outputs": [],
   "source": [
    "# Renommer la colonne 'sku' en 'id_web'\n",
    "df_web.rename(columns={'sku': 'id_web'}, inplace=True)\n"
   ]
  },
  {
   "cell_type": "markdown",
   "id": "dbff6403",
   "metadata": {},
   "source": [
    "<div style=\"border: 1px solid RGB(51,165,182);\" >\n",
    "<h3 style=\"margin: auto; padding: 20px; color: RGB(51,165,182); \">2.3 - Analyse exploratoire du fichier liaison.xlsx</h3>\n",
    "</div>"
   ]
  },
  {
   "cell_type": "code",
   "execution_count": 36,
   "id": "de426b74",
   "metadata": {},
   "outputs": [
    {
     "name": "stdout",
     "output_type": "stream",
     "text": [
      "Number of observations: 825\n",
      "Number of characteristics: 2\n"
     ]
    }
   ],
   "source": [
    "# Dimension du dataset\n",
    "# Nombre d'observations\n",
    "num_observations = df_liaison.shape[0]\n",
    "\n",
    "# Nombre de caractéristiques\n",
    "num_characteristics = df_liaison.shape[1]\n",
    "\n",
    "# Afficher les résultats\n",
    "print(\"Number of observations:\", num_observations)\n",
    "print(\"Number of characteristics:\", num_characteristics)"
   ]
  },
  {
   "cell_type": "code",
   "execution_count": 37,
   "id": "9834ae33",
   "metadata": {},
   "outputs": [
    {
     "name": "stdout",
     "output_type": "stream",
     "text": [
      "Nombre de colonnes: 2\n",
      "\n",
      "Nature des données dans chacune des colonnes:\n",
      "id_web        object\n",
      "product_id     int64\n",
      "dtype: object\n",
      "\n",
      "Nombre de valeurs présentes dans chacune des colonnes:\n",
      "id_web        734\n",
      "product_id    825\n",
      "dtype: int64\n"
     ]
    }
   ],
   "source": [
    "# Nombre de colonnes \n",
    "num_columns = df_liaison.shape[1] \n",
    "print(\"Nombre de colonnes:\", num_columns) \n",
    "# Nature des données dans chacune des colonnes \n",
    "data_types = df_liaison.dtypes \n",
    "print(\"\\nNature des données dans chacune des colonnes:\") \n",
    "print(data_types) \n",
    "# Nombre de valeurs présentes dans chacune des colonnes \n",
    "num_values = df_liaison.count() \n",
    "print(\"\\nNombre de valeurs présentes dans chacune des colonnes:\") \n",
    "print(num_values)"
   ]
  },
  {
   "cell_type": "code",
   "execution_count": 38,
   "id": "2b30d6b2",
   "metadata": {},
   "outputs": [
    {
     "name": "stdout",
     "output_type": "stream",
     "text": [
      "Les valeurs de la colonne 'product_id' sont-elles toutes uniques ? True\n"
     ]
    }
   ],
   "source": [
    "#Les valeurs de la colonne \"product_id\" sont elles toutes uniques?\n",
    "unique_product_ids = df_liaison['product_id'].is_unique \n",
    "print(\"Les valeurs de la colonne 'product_id' sont-elles toutes uniques ?\", unique_product_ids) "
   ]
  },
  {
   "cell_type": "code",
   "execution_count": 39,
   "id": "4d8ca13c",
   "metadata": {},
   "outputs": [
    {
     "name": "stdout",
     "output_type": "stream",
     "text": [
      "Les valeurs de la colonne 'id_web' sont-elles toutes uniques ? False\n",
      "\n",
      "Rows with non-unique product_ids:\n",
      "    id_web  product_id\n",
      "19     NaN        4055\n",
      "49     NaN        4090\n",
      "50     NaN        4092\n",
      "119    NaN        4195\n",
      "131    NaN        4209\n",
      "151    NaN        4233\n",
      "184    NaN        4278\n",
      "185    NaN        4279\n",
      "234    NaN        4565\n",
      "238    NaN        4577\n",
      "239    NaN        4578\n",
      "242    NaN        4594\n",
      "246    NaN        4599\n",
      "292    NaN        4659\n",
      "318    NaN        4692\n",
      "319    NaN        4693\n",
      "320    NaN        4697\n",
      "321    NaN        4698\n",
      "322    NaN        4702\n",
      "340    NaN        4721\n",
      "352    NaN        4738\n",
      "356    NaN        4744\n",
      "384    NaN        4798\n",
      "396    NaN        4874\n",
      "416    NaN        4911\n",
      "449    NaN        4973\n",
      "469    NaN        5017\n",
      "472    NaN        5020\n",
      "486    NaN        5070\n",
      "487    NaN        5075\n",
      "541    NaN        5560\n",
      "547    NaN        5569\n",
      "618    NaN        5805\n",
      "621    NaN        5808\n",
      "659    NaN        5952\n",
      "696    NaN        6125\n",
      "724    NaN        6324\n",
      "726    NaN        6327\n",
      "739    NaN        6594\n",
      "761    NaN        6821\n",
      "762    NaN        6824\n",
      "763    NaN        6825\n",
      "764    NaN        6826\n",
      "765    NaN        6864\n",
      "766    NaN        6866\n",
      "767    NaN        6869\n",
      "768    NaN        6875\n",
      "772    NaN        6898\n",
      "773    NaN        6899\n",
      "774    NaN        6900\n",
      "775    NaN        6901\n",
      "776    NaN        6902\n",
      "777    NaN        6903\n",
      "778    NaN        6904\n",
      "779    NaN        6905\n",
      "780    NaN        6906\n",
      "781    NaN        6907\n",
      "782    NaN        6908\n",
      "783    NaN        6909\n",
      "788    NaN        7008\n",
      "789    NaN        7009\n",
      "790    NaN        7010\n",
      "791    NaN        7015\n",
      "794    NaN        7081\n",
      "795    NaN        7084\n",
      "796    NaN        7085\n",
      "797    NaN        7086\n",
      "798    NaN        7087\n",
      "799    NaN        7088\n",
      "800    NaN        7131\n",
      "801    NaN        7132\n",
      "802    NaN        7133\n",
      "803    NaN        7136\n",
      "804    NaN        7137\n",
      "805    NaN        7159\n",
      "806    NaN        7161\n",
      "807    NaN        7162\n",
      "808    NaN        7163\n",
      "809    NaN        7164\n",
      "810    NaN        7168\n",
      "811    NaN        7169\n",
      "812    NaN        7170\n",
      "813    NaN        7192\n",
      "814    NaN        7193\n",
      "815    NaN        7194\n",
      "816    NaN        7195\n",
      "817    NaN        7196\n",
      "818    NaN        7200\n",
      "819    NaN        7201\n",
      "820    NaN        7203\n",
      "821    NaN        7204\n"
     ]
    }
   ],
   "source": [
    "#Les valeurs de la colonne \"id_web\" sont-elles toutes uniques?\n",
    "unique_product_ids = df_liaison['id_web'].is_unique \n",
    "print(\"Les valeurs de la colonne 'id_web' sont-elles toutes uniques ?\", unique_product_ids) \n",
    "# Identify non-unique product_ids \n",
    "non_unique_product_ids = df_liaison[df_liaison['id_web'].duplicated(keep=False)]\n",
    "# Display rows with non-unique product_ids \n",
    "print(\"\\nRows with non-unique product_ids:\") \n",
    "print(non_unique_product_ids)"
   ]
  },
  {
   "cell_type": "code",
   "execution_count": 40,
   "id": "52f7c843",
   "metadata": {},
   "outputs": [],
   "source": [
    "#Avons-nous des articles sans correspondances?\n",
    "\n",
    "#oui\n"
   ]
  },
  {
   "cell_type": "markdown",
   "id": "1a359137",
   "metadata": {},
   "source": [
    "<div style=\"background-color: RGB(51,165,182);\" >\n",
    "<h2 style=\"margin: auto; padding: 20px; color:#fff; \">Etape 3 - Jonction des fichiers</h2>\n",
    "</div>"
   ]
  },
  {
   "cell_type": "markdown",
   "id": "b7750c10",
   "metadata": {},
   "source": [
    "<div style=\"border: 1px solid RGB(51,165,182);\" >\n",
    "<h3 style=\"margin: auto; padding: 20px; color: RGB(51,165,182); \">Etape 3.1 - Jonction du fichier df_erp et df_liaison</h3>\n",
    "</div>"
   ]
  },
  {
   "cell_type": "code",
   "execution_count": 41,
   "id": "e756ec7d",
   "metadata": {},
   "outputs": [
    {
     "data": {
      "text/html": [
       "<div>\n",
       "<style scoped>\n",
       "    .dataframe tbody tr th:only-of-type {\n",
       "        vertical-align: middle;\n",
       "    }\n",
       "\n",
       "    .dataframe tbody tr th {\n",
       "        vertical-align: top;\n",
       "    }\n",
       "\n",
       "    .dataframe thead th {\n",
       "        text-align: right;\n",
       "    }\n",
       "</style>\n",
       "<table border=\"1\" class=\"dataframe\">\n",
       "  <thead>\n",
       "    <tr style=\"text-align: right;\">\n",
       "      <th></th>\n",
       "      <th>product_id</th>\n",
       "      <th>onsale_web</th>\n",
       "      <th>price</th>\n",
       "      <th>stock_quantity</th>\n",
       "      <th>stock_status</th>\n",
       "      <th>purchase_price</th>\n",
       "      <th>id_web</th>\n",
       "    </tr>\n",
       "  </thead>\n",
       "  <tbody>\n",
       "    <tr>\n",
       "      <th>0</th>\n",
       "      <td>3847</td>\n",
       "      <td>1</td>\n",
       "      <td>24.2</td>\n",
       "      <td>16</td>\n",
       "      <td>instock</td>\n",
       "      <td>12.88</td>\n",
       "      <td>15298</td>\n",
       "    </tr>\n",
       "    <tr>\n",
       "      <th>1</th>\n",
       "      <td>3849</td>\n",
       "      <td>1</td>\n",
       "      <td>34.3</td>\n",
       "      <td>10</td>\n",
       "      <td>instock</td>\n",
       "      <td>17.54</td>\n",
       "      <td>15296</td>\n",
       "    </tr>\n",
       "    <tr>\n",
       "      <th>2</th>\n",
       "      <td>3850</td>\n",
       "      <td>1</td>\n",
       "      <td>20.8</td>\n",
       "      <td>0</td>\n",
       "      <td>outofstock</td>\n",
       "      <td>10.64</td>\n",
       "      <td>15300</td>\n",
       "    </tr>\n",
       "  </tbody>\n",
       "</table>\n",
       "</div>"
      ],
      "text/plain": [
       "   product_id  onsale_web  price  stock_quantity stock_status  purchase_price  \\\n",
       "0        3847           1   24.2              16      instock           12.88   \n",
       "1        3849           1   34.3              10      instock           17.54   \n",
       "2        3850           1   20.8               0   outofstock           10.64   \n",
       "\n",
       "  id_web  \n",
       "0  15298  \n",
       "1  15296  \n",
       "2  15300  "
      ]
     },
     "execution_count": 41,
     "metadata": {},
     "output_type": "execute_result"
    }
   ],
   "source": [
    "#Fusion des fichiers df_erp et df_liaison\n",
    "df_final = pd.merge((df_erp), (df_liaison), on = ['product_id'], how = 'outer')\n",
    "df_final.head(3)"
   ]
  },
  {
   "cell_type": "code",
   "execution_count": 42,
   "id": "b7e1da5e",
   "metadata": {},
   "outputs": [
    {
     "name": "stdout",
     "output_type": "stream",
     "text": [
      "product_id         0\n",
      "onsale_web         0\n",
      "price              0\n",
      "stock_quantity     0\n",
      "stock_status       0\n",
      "purchase_price     0\n",
      "id_web            91\n",
      "dtype: int64\n"
     ]
    }
   ],
   "source": [
    "# Y a-t-il des lignes ne \"matchant\" pas entre les 2 fichiers?\n",
    "\n",
    "# Compter le nombre de valeurs manquantes dans chaque colonne du DataFrame fusionné\n",
    "missing_values = df_final.isna().sum()\n",
    "\n",
    "# Afficher les résultats\n",
    "print(missing_values)"
   ]
  },
  {
   "cell_type": "code",
   "execution_count": 43,
   "id": "53c461a5",
   "metadata": {},
   "outputs": [
    {
     "data": {
      "text/plain": [
       "product_id        825\n",
       "onsale_web          2\n",
       "price             381\n",
       "stock_quantity     82\n",
       "stock_status        2\n",
       "purchase_price    660\n",
       "id_web            734\n",
       "dtype: int64"
      ]
     },
     "execution_count": 43,
     "metadata": {},
     "output_type": "execute_result"
    }
   ],
   "source": [
    "df_final.nunique()"
   ]
  },
  {
   "cell_type": "markdown",
   "id": "fe4c51d7",
   "metadata": {},
   "source": [
    "<div style=\"border: 1px solid RGB(51,165,182);\" >\n",
    "<h3 style=\"margin: auto; padding: 20px; color: RGB(51,165,182); \">Etape 3.2 - Jonction du fichier df_merge et df_web</h3>\n",
    "</div>"
   ]
  },
  {
   "cell_type": "code",
   "execution_count": 44,
   "id": "46d9382b",
   "metadata": {},
   "outputs": [
    {
     "data": {
      "text/html": [
       "<div>\n",
       "<style scoped>\n",
       "    .dataframe tbody tr th:only-of-type {\n",
       "        vertical-align: middle;\n",
       "    }\n",
       "\n",
       "    .dataframe tbody tr th {\n",
       "        vertical-align: top;\n",
       "    }\n",
       "\n",
       "    .dataframe thead th {\n",
       "        text-align: right;\n",
       "    }\n",
       "</style>\n",
       "<table border=\"1\" class=\"dataframe\">\n",
       "  <thead>\n",
       "    <tr style=\"text-align: right;\">\n",
       "      <th></th>\n",
       "      <th>product_id</th>\n",
       "      <th>onsale_web</th>\n",
       "      <th>price</th>\n",
       "      <th>stock_quantity</th>\n",
       "      <th>stock_status</th>\n",
       "      <th>purchase_price</th>\n",
       "      <th>id_web</th>\n",
       "      <th>total_sales</th>\n",
       "      <th>tax_status</th>\n",
       "      <th>product_type</th>\n",
       "      <th>post_title</th>\n",
       "      <th>post_date_gmt</th>\n",
       "      <th>post_modified</th>\n",
       "      <th>post_name</th>\n",
       "      <th>post_type</th>\n",
       "    </tr>\n",
       "  </thead>\n",
       "  <tbody>\n",
       "    <tr>\n",
       "      <th>0</th>\n",
       "      <td>4729</td>\n",
       "      <td>1</td>\n",
       "      <td>8.6</td>\n",
       "      <td>26</td>\n",
       "      <td>instock</td>\n",
       "      <td>4.22</td>\n",
       "      <td>38</td>\n",
       "      <td>10.0</td>\n",
       "      <td>taxable</td>\n",
       "      <td>Vin</td>\n",
       "      <td>Emile Boeckel Crémant Brut Blanc de Blancs</td>\n",
       "      <td>2018-04-18 10:25:58</td>\n",
       "      <td>2020-08-27 17:15:03</td>\n",
       "      <td>emile-boeckel-cremant-brut-blanc-de-blancs</td>\n",
       "      <td>product</td>\n",
       "    </tr>\n",
       "    <tr>\n",
       "      <th>1</th>\n",
       "      <td>4634</td>\n",
       "      <td>1</td>\n",
       "      <td>41.0</td>\n",
       "      <td>11</td>\n",
       "      <td>instock</td>\n",
       "      <td>20.12</td>\n",
       "      <td>41</td>\n",
       "      <td>6.0</td>\n",
       "      <td>taxable</td>\n",
       "      <td>Vin</td>\n",
       "      <td>Marcel Windholtz Eau de Vie de Marc de Gewurzt...</td>\n",
       "      <td>2018-04-14 10:01:43</td>\n",
       "      <td>2020-08-03 10:25:02</td>\n",
       "      <td>marcel-windholtz-eau-de-marc-de-gewurztraminer</td>\n",
       "      <td>product</td>\n",
       "    </tr>\n",
       "    <tr>\n",
       "      <th>2</th>\n",
       "      <td>4141</td>\n",
       "      <td>1</td>\n",
       "      <td>39.0</td>\n",
       "      <td>123</td>\n",
       "      <td>instock</td>\n",
       "      <td>24.86</td>\n",
       "      <td>304</td>\n",
       "      <td>8.0</td>\n",
       "      <td>taxable</td>\n",
       "      <td>Champagne</td>\n",
       "      <td>Champagne Gosset Grande Réserve</td>\n",
       "      <td>2018-02-13 11:57:44</td>\n",
       "      <td>2020-08-27 11:25:02</td>\n",
       "      <td>gosset-champagne-grande-reserve</td>\n",
       "      <td>product</td>\n",
       "    </tr>\n",
       "  </tbody>\n",
       "</table>\n",
       "</div>"
      ],
      "text/plain": [
       "   product_id  onsale_web  price  stock_quantity stock_status  purchase_price  \\\n",
       "0        4729           1    8.6              26      instock            4.22   \n",
       "1        4634           1   41.0              11      instock           20.12   \n",
       "2        4141           1   39.0             123      instock           24.86   \n",
       "\n",
       "  id_web  total_sales tax_status product_type  \\\n",
       "0     38         10.0    taxable          Vin   \n",
       "1     41          6.0    taxable          Vin   \n",
       "2    304          8.0    taxable    Champagne   \n",
       "\n",
       "                                          post_title       post_date_gmt  \\\n",
       "0         Emile Boeckel Crémant Brut Blanc de Blancs 2018-04-18 10:25:58   \n",
       "1  Marcel Windholtz Eau de Vie de Marc de Gewurzt... 2018-04-14 10:01:43   \n",
       "2                    Champagne Gosset Grande Réserve 2018-02-13 11:57:44   \n",
       "\n",
       "        post_modified                                       post_name  \\\n",
       "0 2020-08-27 17:15:03      emile-boeckel-cremant-brut-blanc-de-blancs   \n",
       "1 2020-08-03 10:25:02  marcel-windholtz-eau-de-marc-de-gewurztraminer   \n",
       "2 2020-08-27 11:25:02                 gosset-champagne-grande-reserve   \n",
       "\n",
       "  post_type  \n",
       "0   product  \n",
       "1   product  \n",
       "2   product  "
      ]
     },
     "execution_count": 44,
     "metadata": {},
     "output_type": "execute_result"
    }
   ],
   "source": [
    "# Fusionner les datasets df_final et df_web\n",
    "df_final = pd.merge(df_final, df_web, on='id_web', how='outer')\n",
    "\n",
    "# Afficher les 3 premières lignes du DataFrame fusionné\n",
    "df_final.head(3)"
   ]
  },
  {
   "cell_type": "markdown",
   "id": "13d81fd6",
   "metadata": {},
   "source": [
    "<div style=\"background-color: RGB(51,165,182);\" >\n",
    "<h2 style=\"margin: auto; padding: 20px; color:#fff; \">Etape 4 - Analyse univarié des prix</h2>\n",
    "</div>"
   ]
  },
  {
   "cell_type": "markdown",
   "id": "9c8d0615",
   "metadata": {},
   "source": [
    "<div style=\"border: 1px solid RGB(51,165,182);\" >\n",
    "<h3 style=\"margin: auto; padding: 20px; color: RGB(51,165,182); \">Etape 4.1 - Exploration par la visualisation de données</h3>\n",
    "</div>"
   ]
  },
  {
   "cell_type": "code",
   "execution_count": 45,
   "id": "3be61f06",
   "metadata": {},
   "outputs": [],
   "source": [
    "#Création d'une Boite à moustache de la répartition des prix grâce à Pandas\n"
   ]
  },
  {
   "cell_type": "code",
   "execution_count": 46,
   "id": "cbfe6346",
   "metadata": {},
   "outputs": [
    {
     "data": {
      "image/png": "[encoded data removed]",
      "text/plain": [
       "<Figure size 1000x600 with 1 Axes>"
      ]
     },
     "metadata": {},
     "output_type": "display_data"
    }
   ],
   "source": [
    "#Autre méthode avec plotly express\n",
    "plt.figure(figsize=(10, 6)) \n",
    "df_final.boxplot(column='price') \n",
    "plt.title('Répartition des prix') \n",
    "plt.ylabel('Prix') \n",
    "plt.show()"
   ]
  },
  {
   "cell_type": "markdown",
   "id": "79e2f2eb",
   "metadata": {},
   "source": [
    "<div style=\"border: 1px solid RGB(51,165,182);\" >\n",
    "<h3 style=\"margin: auto; padding: 20px; color: RGB(51,165,182); \">Etape 4.2 - Exploration par l'utisation de méthodes statistique</h3>\n",
    "</div>"
   ]
  },
  {
   "cell_type": "markdown",
   "id": "0735c3b2",
   "metadata": {},
   "source": [
    "<div style=\"border: 1px solid RGB(51,165,182);\" >\n",
    "<h3 style=\"margin: auto; padding: 20px; color: RGB(51,165,182); \">Etape 4.2.1 - Identification par le Z-index</h3>\n",
    "</div>"
   ]
  },
  {
   "cell_type": "code",
   "execution_count": 47,
   "id": "1950ef8d",
   "metadata": {},
   "outputs": [
    {
     "name": "stdout",
     "output_type": "stream",
     "text": [
      "Mode : 0    45.0\n",
      "Name: price, dtype: float64\n",
      "Moyenne : 32.30\n",
      "Médiane : 24.35\n",
      "Les prix s'étendent de : 5.2 € à 225.0 €.\n",
      "Variance : 706.63\n",
      "Ecart-type : 26.58\n"
     ]
    }
   ],
   "source": [
    "#Calculer la moyenne du prix\n",
    "price_mode = df_final['price'].mode()\n",
    "price_mean = df_final['price'].mean()\n",
    "price_median = df_final['price'].median()\n",
    "\n",
    "print(\n",
    "    f'Mode : {price_mode}\\nMoyenne : {price_mean:.2f}\\nMédiane : {price_median}')\n",
    "\n",
    "del price_mode, price_mean, price_median\n",
    "\n",
    "price_mini = df_final['price'].min()\n",
    "price_maxi = df_final['price'].max()\n",
    "\n",
    "print(f'Les prix s\\'étendent de : {price_mini} € à {price_maxi} €.')\n",
    "\n",
    "del price_mini, price_maxi\n",
    "#Calculer l'écart-type du prix\n",
    "variance = df_final['price'].var(ddof=0)\n",
    "ecart_type = df_final['price'].std(ddof=0)\n",
    "\n",
    "print(f'Variance : {variance:.2f}\\nEcart-type : {ecart_type:.2f}')\n",
    "\n",
    "del variance, ecart_type\n",
    "#Calculer le Z-score\n",
    "df_final['z_score'] = (df_final['price'] - df_final['price'].mean()) / df_final['price'].std(ddof=0)\n",
    "\n"
   ]
  },
  {
   "cell_type": "code",
   "execution_count": 48,
   "id": "9c2f435f",
   "metadata": {},
   "outputs": [
    {
     "name": "stdout",
     "output_type": "stream",
     "text": [
      "Les prix dont le Z-score est supérieur à 3 sont :      price  product_id   z_score  \\\n",
      "24   176.0        4402  5.405626   \n",
      "33   157.0        4406  4.690870   \n",
      "87   115.0        6215  3.110884   \n",
      "157  115.0        6212  3.110884   \n",
      "171  137.0        4904  3.938496   \n",
      "204  217.5        5001  6.966803   \n",
      "233  114.0        5918  3.073265   \n",
      "235  122.0        5917  3.374215   \n",
      "256  124.8        5612  3.479547   \n",
      "257  135.0        6126  3.863258   \n",
      "269  191.3        5892  5.981192   \n",
      "281  121.0        6216  3.336596   \n",
      "282  121.0        6213  3.336596   \n",
      "291  116.4        6202  3.163550   \n",
      "313  175.0        5767  5.368007   \n",
      "567  225.0        4352  7.248943   \n",
      "746  144.0        4594  4.201827   \n",
      "\n",
      "                                            post_title  \n",
      "24                                Cognac Frapin VIP XO  \n",
      "33   Cognac Frapin Château de Fontpinot 1989 20 Ans...  \n",
      "87   Domaine des Comtes Lafon Volnay 1er Cru Champa...  \n",
      "157  Domaine des Comtes Lafon Volnay 1er Cru Santen...  \n",
      "171  Domaine Des Croix Corton Charlemagne Grand Cru...  \n",
      "204     David Duband Charmes-Chambertin Grand Cru 2014  \n",
      "233  Wemyss Malts Single Cask Scotch Whisky Chai Ca...  \n",
      "235  Wemyss Malts Single Cask Scotch Whisky Choc 'n...  \n",
      "256  Domaine Weinbach Gewurztraminer Grand Cru Furs...  \n",
      "257             Champagne Gosset Célébris Vintage 2007  \n",
      "269  Coteaux Champenois Egly-Ouriet Ambonnay Rouge ...  \n",
      "281  Domaine des Comtes Lafon Volnay 1er Cru Champa...  \n",
      "282  Domaine des Comtes Lafon Volnay 1er Cru Santen...  \n",
      "291  Domaine Clerget Echezeaux Grand Cru En Orveaux...  \n",
      "313                Camille Giroud Clos de Vougeot 2016  \n",
      "567     Champagne Egly-Ouriet Grand Cru Millésimé 2008  \n",
      "746                                                NaN  \n"
     ]
    }
   ],
   "source": [
    "# Filtrer les prix dont le Z-score est supérieur à 3\n",
    "prix_seuil = df_final[df_final['z_score'] > 3][['price', 'product_id', 'z_score', 'post_title']]\n",
    "\n",
    "print(f'Les prix dont le Z-score est supérieur à 3 sont : {prix_seuil}')\n",
    "\n",
    "\n"
   ]
  },
  {
   "cell_type": "markdown",
   "id": "750f54f3",
   "metadata": {},
   "source": [
    "<div style=\"border: 1px solid RGB(51,165,182);\" >\n",
    "<h3 style=\"margin: auto; padding: 20px; color: RGB(51,165,182); \">Etape 4.2.2 - Identification par l'interval interquartile</h3>\n",
    "</div>"
   ]
  },
  {
   "cell_type": "code",
   "execution_count": 49,
   "id": "6c0db8c0",
   "metadata": {},
   "outputs": [
    {
     "name": "stdout",
     "output_type": "stream",
     "text": [
      "count    826.000000\n",
      "mean      32.304903\n",
      "std       26.598615\n",
      "min        5.200000\n",
      "25%       14.525000\n",
      "50%       24.350000\n",
      "75%       42.000000\n",
      "max      225.000000\n",
      "Name: price, dtype: float64\n"
     ]
    }
   ],
   "source": [
    "#Utilisation de la fonction describe de Pandas pour l'etude des mesures de dispersions\n",
    "description = df_final['price'].describe() \n",
    "print(description)\n",
    "\n"
   ]
  },
  {
   "cell_type": "code",
   "execution_count": 50,
   "id": "a458ca14",
   "metadata": {},
   "outputs": [
    {
     "name": "stdout",
     "output_type": "stream",
     "text": [
      "Les articles considérés comme des outliers en termes de prix sont :      product_id  onsale_web  price  stock_quantity stock_status  \\\n",
      "22         4404           1  108.5              17      instock   \n",
      "23         4407           1  104.0              14      instock   \n",
      "24         4402           1  176.0              11      instock   \n",
      "33         4406           1  157.0              12      instock   \n",
      "53         6214           1   99.0               9      instock   \n",
      "54         5008           1  105.0              12      instock   \n",
      "56         4132           1   88.4               7      instock   \n",
      "87         6215           1  115.0              14      instock   \n",
      "88         5007           1  105.0              15      instock   \n",
      "89         4582           1  109.6              18      instock   \n",
      "143        4359           1   85.6             112      instock   \n",
      "149        5026           1   86.8             101      instock   \n",
      "150        5025           1  112.0             136      instock   \n",
      "156        5580           1   83.7               4      instock   \n",
      "157        6212           1  115.0              16      instock   \n",
      "171        4904           1  137.0               9      instock   \n",
      "204        5001           1  217.5              18      instock   \n",
      "205        6201           1  105.6              16      instock   \n",
      "233        5918           1  114.0              12      instock   \n",
      "234        5916           1   93.0               1      instock   \n",
      "235        5917           1  122.0              12      instock   \n",
      "240        4903           1  102.3              12      instock   \n",
      "256        5612           1  124.8              19      instock   \n",
      "257        6126           1  135.0             138      instock   \n",
      "269        5892           1  191.3              98      instock   \n",
      "281        6216           1  121.0              14      instock   \n",
      "282        6213           1  121.0               9      instock   \n",
      "291        6202           1  116.4              12      instock   \n",
      "313        5767           1  175.0              12      instock   \n",
      "370        4115           1  100.0              12      instock   \n",
      "567        4352           1  225.0               0   outofstock   \n",
      "731        5565           1   92.0               0   outofstock   \n",
      "735        4055           0   86.1               0   outofstock   \n",
      "746        4594           1  144.0               0   outofstock   \n",
      "763        5070           1   84.7               0   outofstock   \n",
      "771        6324           0   92.0              18      instock   \n",
      "\n",
      "     purchase_price id_web  total_sales tax_status product_type  \\\n",
      "22            52.22   3507          4.0    taxable       Cognac   \n",
      "23            46.71   3509          5.0    taxable       Cognac   \n",
      "24            78.25   3510          3.0    taxable       Cognac   \n",
      "33            69.08   7819          4.0    taxable       Cognac   \n",
      "53            49.62  11601          6.0    taxable          Vin   \n",
      "54            56.42  11602          7.0    taxable          Vin   \n",
      "56            44.30  11668          5.0    taxable          Vin   \n",
      "87            56.45  12790          4.0    taxable          Vin   \n",
      "88            55.88  12791          3.0    taxable          Vin   \n",
      "89            53.80  12857          1.0    taxable          Vin   \n",
      "143           51.93  13853          7.0    taxable    Champagne   \n",
      "149           50.13  13913          9.0    taxable    Champagne   \n",
      "150           68.60  13914          6.0    taxable    Champagne   \n",
      "156           41.08  13982          2.0    taxable          Vin   \n",
      "157           59.42  13996          7.0    taxable          Vin   \n",
      "171           67.95  14220          3.0    taxable          Vin   \n",
      "204          116.87  14581          2.0    taxable          Vin   \n",
      "205           57.29  14596          6.0    taxable          Vin   \n",
      "233           52.25  14773          3.0    taxable       Whisky   \n",
      "234           40.49  14774          1.0    taxable       Whisky   \n",
      "235           54.24  14775          3.0    taxable       Whisky   \n",
      "240           51.80  14805          2.0    taxable          Vin   \n",
      "256           66.41  14915          1.0    taxable          Vin   \n",
      "257           80.33  14923          5.0    taxable    Champagne   \n",
      "269          116.06  14983          6.0    taxable    Champagne   \n",
      "281           60.02  15070          2.0    taxable          Vin   \n",
      "282           63.14  15072          3.0    taxable          Vin   \n",
      "291           63.15  15126          5.0    taxable          Vin   \n",
      "313           90.42  15185          4.0    taxable          Vin   \n",
      "370           52.70  15382          1.0    taxable          Vin   \n",
      "567          137.81  15940         11.0    taxable    Champagne   \n",
      "731           46.11  19822          1.0    taxable          Vin   \n",
      "735           37.88    NaN          NaN        NaN          NaN   \n",
      "746           87.36    NaN          NaN        NaN          NaN   \n",
      "763           47.43    NaN          NaN        NaN          NaN   \n",
      "771           99.00    NaN          NaN        NaN          NaN   \n",
      "\n",
      "                                            post_title       post_date_gmt  \\\n",
      "22               Cognac Frapin Château de Fontpinot XO 2018-03-22 10:32:55   \n",
      "23                           Cognac Frapin Cigar Blend 2018-03-22 10:49:53   \n",
      "24                                Cognac Frapin VIP XO 2018-03-22 10:21:05   \n",
      "33   Cognac Frapin Château de Fontpinot 1989 20 Ans... 2018-03-22 10:42:48   \n",
      "53   Domaine des Comtes Lafon Volnay 1er Cru Champa... 2019-07-25 07:15:41   \n",
      "54   Domaine des Comtes Lafon Volnay 1er Cru Santen... 2018-07-17 08:52:41   \n",
      "56   Zind-Humbrecht Pinot Gris Grand Cru Rangen De ... 2018-02-13 10:43:55   \n",
      "87   Domaine des Comtes Lafon Volnay 1er Cru Champa... 2019-07-25 07:30:16   \n",
      "88   Domaine des Comtes Lafon Volnay 1er Cru Santen... 2018-07-17 08:36:03   \n",
      "89   Château de Meursault Puligny-Montrachet 1er Cr... 2018-04-12 15:56:13   \n",
      "143  Champagne Larmandier-Bernier Grand Cru Les Che... 2018-03-02 10:11:48   \n",
      "149  Champagne Agrapart &amp; Fils Minéral Extra Br... 2018-07-18 08:46:30   \n",
      "150  Champagne Agrapart &amp; Fils L'Avizoise Extra... 2018-07-18 08:39:43   \n",
      "156  Lucien Boillot Puligny-Montrachet 1er Cru Les ... 2018-11-26 14:19:55   \n",
      "157  Domaine des Comtes Lafon Volnay 1er Cru Santen... 2019-07-25 07:09:17   \n",
      "171  Domaine Des Croix Corton Charlemagne Grand Cru... 2018-05-15 08:23:41   \n",
      "204     David Duband Charmes-Chambertin Grand Cru 2014 2018-07-17 07:45:39   \n",
      "205  David Duband Chambolle-Musigny 1er Cru Les Sen... 2019-07-23 08:37:14   \n",
      "233  Wemyss Malts Single Cask Scotch Whisky Chai Ca... 2019-04-04 15:01:54   \n",
      "234  Wemyss Malts Single Cask Scotch Whisky Chocola... 2019-04-04 14:39:24   \n",
      "235  Wemyss Malts Single Cask Scotch Whisky Choc 'n... 2019-04-04 14:49:37   \n",
      "240  Domaine Des Croix Corton Grand Cru Les Grèves ... 2018-05-15 08:10:57   \n",
      "256  Domaine Weinbach Gewurztraminer Grand Cru Furs... 2019-01-15 14:30:49   \n",
      "257             Champagne Gosset Célébris Vintage 2007 2019-06-28 15:22:27   \n",
      "269  Coteaux Champenois Egly-Ouriet Ambonnay Rouge ... 2019-03-28 09:21:36   \n",
      "281  Domaine des Comtes Lafon Volnay 1er Cru Champa... 2019-07-25 07:31:09   \n",
      "282  Domaine des Comtes Lafon Volnay 1er Cru Santen... 2019-07-25 07:10:32   \n",
      "291  Domaine Clerget Echezeaux Grand Cru En Orveaux... 2019-07-23 08:50:24   \n",
      "313                Camille Giroud Clos de Vougeot 2016 2019-03-13 13:43:22   \n",
      "370  Zind-Humbrecht Riesling Grand Cru Rangen De Th... 2018-02-13 10:08:45   \n",
      "567     Champagne Egly-Ouriet Grand Cru Millésimé 2008 2018-03-02 09:30:04   \n",
      "731                      Tempier Bandol Cabassaou 2017 2018-11-26 09:59:10   \n",
      "735                                                NaN                 NaT   \n",
      "746                                                NaN                 NaT   \n",
      "763                                                NaN                 NaT   \n",
      "771                                                NaN                 NaT   \n",
      "\n",
      "          post_modified                                          post_name  \\\n",
      "22  2020-08-12 09:30:16                         cognac-frapin-fontpinot-xo   \n",
      "23  2020-07-04 09:45:03                          cognac-frapin-cigar-blend   \n",
      "24  2020-08-22 11:35:03                               cognac-frapin-vip-xo   \n",
      "33  2020-03-14 16:05:04     cognac-frapin-chateau-de-fontpinot-1989-20-ans   \n",
      "53  2020-07-04 11:35:02  domaine-des-comtes-lafon-volnay-1er-cru-champa...   \n",
      "54  2020-06-23 15:35:02  domaine-des-comtes-lafon-volnay-1er-cru-santen...   \n",
      "56  2020-02-20 09:55:02  zind-humbrecht-pinot-gris-grand-cru-rangen-de-...   \n",
      "87  2019-11-04 09:30:25  domaine-des-comtes-lafon-volnay-1er-cru-champa...   \n",
      "88  2020-07-02 09:30:03  domaine-des-comtes-lafon-volnay-1er-cru-santen...   \n",
      "89  2020-02-06 16:35:02  chateau-de-puligny-montrachet-1cru-champ-canet...   \n",
      "143 2019-12-23 09:30:11  champagne-larmandier-bernier-grand-cru-vieille...   \n",
      "149 2020-05-11 14:35:02  champagne-agrapart-fils-mineral-extra-brut-bla...   \n",
      "150 2020-07-09 17:05:02  champagne-agrapart-fils-lavizoise-grand-cru-20...   \n",
      "156 2020-07-21 18:15:02  lucien-boillot-puligny-montrachet-1er-cru-les-...   \n",
      "157 2020-06-16 09:30:16  domaine-des-comtes-lafon-volnay-1er-cru-santen...   \n",
      "171 2020-05-19 17:15:02  domaine-des-croix-corton-charlemagne-grand-cru...   \n",
      "204 2020-05-16 09:00:05     david-duband-charmes-chambertin-grand-cru-2014   \n",
      "205 2020-02-29 15:25:02  david-duband-chambolle-musigny-1er-cru-les-sen...   \n",
      "233 2020-07-31 18:25:03  wemyss-malts-single-cask-scotch-whisky-chai-ca...   \n",
      "234 2019-12-23 09:30:21       wemyss-malts-single-cask-chocolate-moka-cake   \n",
      "235 2020-03-11 09:30:09  wemyss-malts-single-cask-scotch-whisky-choc-n-...   \n",
      "240 2020-06-27 09:00:07  domaine-des-croix-corton-grand-cru-les-greves-...   \n",
      "256 2019-01-23 09:33:57  domaine-weinbach-gewurztraminer-gc-furstentum-...   \n",
      "257 2020-08-27 11:45:02             champagne-gosset-celebris-vintage-2007   \n",
      "269 2020-04-01 09:30:09  coteaux-champenois-egly-ouriet-ambonnay-rouge-...   \n",
      "281 2020-07-30 09:30:08  domaine-des-comtes-lafon-volnay-1er-cru-champa...   \n",
      "282 2020-06-25 09:30:06  domaine-des-comtes-lafon-volnay-1er-cru-santen...   \n",
      "291 2020-06-06 15:45:01          domaine-clerget-echezeaux-en-orveaux-2015   \n",
      "313 2020-06-11 15:25:04                camille-giroud-clos-de-vougeot-2016   \n",
      "370 2020-02-08 11:45:02  zind-humbrecht-riesling-gc-rangen-thann-clos-s...   \n",
      "567 2020-03-07 11:18:45     champagne-egly-ouriet-grand-cru-millesime-2008   \n",
      "731 2020-01-04 13:57:04                      tempier-bandol-cabassaou-2017   \n",
      "735                 NaT                                                NaN   \n",
      "746                 NaT                                                NaN   \n",
      "763                 NaT                                                NaN   \n",
      "771                 NaT                                                NaN   \n",
      "\n",
      "    post_type   z_score  \n",
      "22    product  2.866362  \n",
      "23    product  2.697078  \n",
      "24    product  5.405626  \n",
      "33    product  4.690870  \n",
      "53    product  2.508984  \n",
      "54    product  2.734697  \n",
      "56    product  2.110226  \n",
      "87    product  3.110884  \n",
      "88    product  2.734697  \n",
      "89    product  2.907743  \n",
      "143   product  2.004893  \n",
      "149   product  2.050036  \n",
      "150   product  2.998028  \n",
      "156   product  1.933418  \n",
      "157   product  3.110884  \n",
      "171   product  3.938496  \n",
      "204   product  6.966803  \n",
      "205   product  2.757268  \n",
      "233   product  3.073265  \n",
      "234   product  2.283272  \n",
      "235   product  3.374215  \n",
      "240   product  2.633126  \n",
      "256   product  3.479547  \n",
      "257   product  3.863258  \n",
      "269   product  5.981192  \n",
      "281   product  3.336596  \n",
      "282   product  3.336596  \n",
      "291   product  3.163550  \n",
      "313   product  5.368007  \n",
      "370   product  2.546603  \n",
      "567   product  7.248943  \n",
      "731   product  2.245653  \n",
      "735       NaN  2.023703  \n",
      "746       NaN  4.201827  \n",
      "763       NaN  1.971037  \n",
      "771       NaN  2.245653  \n"
     ]
    }
   ],
   "source": [
    "#Définissez un seuil pour les articles \"outliers\" en prix\n",
    "Q1 = df_final['price'].quantile(0.25)\n",
    "Q3 = df_final['price'].quantile(0.75)\n",
    "\n",
    "# Calculate IQR (Interquartile Range)\n",
    "IQR = Q3 - Q1\n",
    "outliers = df_final[(df_final['price'] < (Q1 - 1.5 * IQR)) | (df_final['price'] > (Q3 + 1.5 * IQR))]\n",
    "\n",
    "print(f'Les articles considérés comme des outliers en termes de prix sont : {outliers}')\n"
   ]
  },
  {
   "cell_type": "code",
   "execution_count": 51,
   "id": "7d05cde7",
   "metadata": {},
   "outputs": [
    {
     "name": "stdout",
     "output_type": "stream",
     "text": [
      "Nombre d'articles outliers : 36\n",
      "Proportion des outliers : 4.36%\n"
     ]
    }
   ],
   "source": [
    "# Number of outlier articles\n",
    "nombre_outliers = outliers.shape[0]\n",
    "\n",
    "# Proportion of outliers relative to the entire catalog\n",
    "proportion_outliers = nombre_outliers / df_final.shape[0]\n",
    "\n",
    "print(f'Nombre d\\'articles outliers : {nombre_outliers}')\n",
    "print(f'Proportion des outliers : {proportion_outliers:.2%}')"
   ]
  },
  {
   "cell_type": "code",
   "execution_count": 52,
   "id": "06138432",
   "metadata": {},
   "outputs": [
    {
     "data": {
      "text/plain": [
       "'oui parce que ce sont des grandes crues ou des alcoholes fort'"
      ]
     },
     "execution_count": 52,
     "metadata": {},
     "output_type": "execute_result"
    }
   ],
   "source": [
    "#Selon vous, ces outliers sont-ils justifiés ? Comment le démontrer si cela est possible ?\n",
    "# Comparer les prix des outliers avec la moyenne des prix des produits similaires\n",
    "'oui parce que ce sont des grandes crues ou des alcoholes fort'\n",
    "\n"
   ]
  },
  {
   "cell_type": "markdown",
   "id": "640da2c8",
   "metadata": {},
   "source": [
    "<div style=\"background-color: RGB(51,165,182);\" >\n",
    "<h2 style=\"margin: auto; padding: 20px; color:#fff; \">Etape 5 - Analyse univarié du CA, des quantités vendues, des stocks et de la marge ainsi qu'une analyse multivarié  </h2>\n",
    "</div>"
   ]
  },
  {
   "cell_type": "markdown",
   "id": "5871c808",
   "metadata": {},
   "source": [
    "<div style=\"border: 1px solid RGB(51,165,182);\" >\n",
    "<h3 style=\"margin: auto; padding: 20px; color: RGB(51,165,182); \">Etape 5.1 - Analyse des ventes en CA</h3>\n",
    "</div>"
   ]
  },
  {
   "cell_type": "code",
   "execution_count": 53,
   "id": "da0d5834",
   "metadata": {},
   "outputs": [
    {
     "name": "stdout",
     "output_type": "stream",
     "text": [
      "Le chiffre d'affaire total du site web est de : 143680.10 \n"
     ]
    }
   ],
   "source": [
    "##############################\n",
    "# Calculer le CA su site web #\n",
    "##############################\n",
    "\n",
    "#Créez une colonne calculant le CA par article\n",
    "df_final['ca_par_article'] = df_final['price'] * df_final['total_sales']\n",
    "\n",
    "#Calculez la somme de la colonne \"ca_par_article\"\n",
    "ca_total = df_final['ca_par_article'].sum()\n",
    "\n",
    "#Afficher le chiffre d'affaire total du site web\n",
    "\n",
    "print(f'Le chiffre d\\'affaire total du site web est de : {ca_total:.2f} ')\n",
    "#Ce résultat correspond au chiffre d'affaire du site web\n"
   ]
  },
  {
   "cell_type": "code",
   "execution_count": 54,
   "id": "4040ced7",
   "metadata": {},
   "outputs": [
    {
     "data": {
      "application/vnd.plotly.v1+json": {
       "config": {
        "plotlyServerURL": "https://plot.ly"
       },
       "data": [
        {
         "hovertemplate": "ranking=%{x}<br>ca_par_article=%{y}<extra></extra>",
         "legendgroup": "",
         "marker": {
          "color": "#636efa",
          "pattern": {
           "shape": ""
          }
         },
         "name": "",
         "orientation": "v",
         "showlegend": false,
         "textposition": "auto",
         "type": "bar",
         "x": {
          "bdata": "AQIDBAUGBwgJCgsMDQ4PEBESExQ=",
          "dtype": "i1"
         },
         "xaxis": "x",
         "y": {
          "bdata": "AAAAAABWo0A0MzMzM++RQAAAAAAAZJFAAAAAAADAiUAAAAAAACiJQJmZmZmZaYhAAAAAAAD4hkAAAAAAAOCFQAAAAAAAGIVAAAAAAAAAhUDMzMzMzMyDQAAAAAAAoINAAAAAAACYg0AAAAAAAECDQJmZmZmZuYJAAAAAAACQgkAAAAAAADCCQAAAAAAAZIFAzczMzMzMgEAAAAAAAICAQA==",
          "dtype": "f8"
         },
         "yaxis": "y"
        }
       ],
       "layout": {
        "bargap": 0.2,
        "bargroupgap": 0.1,
        "barmode": "relative",
        "legend": {
         "tracegroupgap": 0
        },
        "template": {
         "data": {
          "bar": [
           {
            "error_x": {
             "color": "#2a3f5f"
            },
            "error_y": {
             "color": "#2a3f5f"
            },
            "marker": {
             "line": {
              "color": "#E5ECF6",
              "width": 0.5
             },
             "pattern": {
              "fillmode": "overlay",
              "size": 10,
              "solidity": 0.2
             }
            },
            "type": "bar"
           }
          ],
          "barpolar": [
           {
            "marker": {
             "line": {
              "color": "#E5ECF6",
              "width": 0.5
             },
             "pattern": {
              "fillmode": "overlay",
              "size": 10,
              "solidity": 0.2
             }
            },
            "type": "barpolar"
           }
          ],
          "carpet": [
           {
            "aaxis": {
             "endlinecolor": "#2a3f5f",
             "gridcolor": "white",
             "linecolor": "white",
             "minorgridcolor": "white",
             "startlinecolor": "#2a3f5f"
            },
            "baxis": {
             "endlinecolor": "#2a3f5f",
             "gridcolor": "white",
             "linecolor": "white",
             "minorgridcolor": "white",
             "startlinecolor": "#2a3f5f"
            },
            "type": "carpet"
           }
          ],
          "choropleth": [
           {
            "colorbar": {
             "outlinewidth": 0,
             "ticks": ""
            },
            "type": "choropleth"
           }
          ],
          "contour": [
           {
            "colorbar": {
             "outlinewidth": 0,
             "ticks": ""
            },
            "colorscale": [
             [
              0,
              "#0d0887"
             ],
             [
              0.1111111111111111,
              "#46039f"
             ],
             [
              0.2222222222222222,
              "#7201a8"
             ],
             [
              0.3333333333333333,
              "#9c179e"
             ],
             [
              0.4444444444444444,
              "#bd3786"
             ],
             [
              0.5555555555555556,
              "#d8576b"
             ],
             [
              0.6666666666666666,
              "#ed7953"
             ],
             [
              0.7777777777777778,
              "#fb9f3a"
             ],
             [
              0.8888888888888888,
              "#fdca26"
             ],
             [
              1,
              "#f0f921"
             ]
            ],
            "type": "contour"
           }
          ],
          "contourcarpet": [
           {
            "colorbar": {
             "outlinewidth": 0,
             "ticks": ""
            },
            "type": "contourcarpet"
           }
          ],
          "heatmap": [
           {
            "colorbar": {
             "outlinewidth": 0,
             "ticks": ""
            },
            "colorscale": [
             [
              0,
              "#0d0887"
             ],
             [
              0.1111111111111111,
              "#46039f"
             ],
             [
              0.2222222222222222,
              "#7201a8"
             ],
             [
              0.3333333333333333,
              "#9c179e"
             ],
             [
              0.4444444444444444,
              "#bd3786"
             ],
             [
              0.5555555555555556,
              "#d8576b"
             ],
             [
              0.6666666666666666,
              "#ed7953"
             ],
             [
              0.7777777777777778,
              "#fb9f3a"
             ],
             [
              0.8888888888888888,
              "#fdca26"
             ],
             [
              1,
              "#f0f921"
             ]
            ],
            "type": "heatmap"
           }
          ],
          "histogram": [
           {
            "marker": {
             "pattern": {
              "fillmode": "overlay",
              "size": 10,
              "solidity": 0.2
             }
            },
            "type": "histogram"
           }
          ],
          "histogram2d": [
           {
            "colorbar": {
             "outlinewidth": 0,
             "ticks": ""
            },
            "colorscale": [
             [
              0,
              "#0d0887"
             ],
             [
              0.1111111111111111,
              "#46039f"
             ],
             [
              0.2222222222222222,
              "#7201a8"
             ],
             [
              0.3333333333333333,
              "#9c179e"
             ],
             [
              0.4444444444444444,
              "#bd3786"
             ],
             [
              0.5555555555555556,
              "#d8576b"
             ],
             [
              0.6666666666666666,
              "#ed7953"
             ],
             [
              0.7777777777777778,
              "#fb9f3a"
             ],
             [
              0.8888888888888888,
              "#fdca26"
             ],
             [
              1,
              "#f0f921"
             ]
            ],
            "type": "histogram2d"
           }
          ],
          "histogram2dcontour": [
           {
            "colorbar": {
             "outlinewidth": 0,
             "ticks": ""
            },
            "colorscale": [
             [
              0,
              "#0d0887"
             ],
             [
              0.1111111111111111,
              "#46039f"
             ],
             [
              0.2222222222222222,
              "#7201a8"
             ],
             [
              0.3333333333333333,
              "#9c179e"
             ],
             [
              0.4444444444444444,
              "#bd3786"
             ],
             [
              0.5555555555555556,
              "#d8576b"
             ],
             [
              0.6666666666666666,
              "#ed7953"
             ],
             [
              0.7777777777777778,
              "#fb9f3a"
             ],
             [
              0.8888888888888888,
              "#fdca26"
             ],
             [
              1,
              "#f0f921"
             ]
            ],
            "type": "histogram2dcontour"
           }
          ],
          "mesh3d": [
           {
            "colorbar": {
             "outlinewidth": 0,
             "ticks": ""
            },
            "type": "mesh3d"
           }
          ],
          "parcoords": [
           {
            "line": {
             "colorbar": {
              "outlinewidth": 0,
              "ticks": ""
             }
            },
            "type": "parcoords"
           }
          ],
          "pie": [
           {
            "automargin": true,
            "type": "pie"
           }
          ],
          "scatter": [
           {
            "fillpattern": {
             "fillmode": "overlay",
             "size": 10,
             "solidity": 0.2
            },
            "type": "scatter"
           }
          ],
          "scatter3d": [
           {
            "line": {
             "colorbar": {
              "outlinewidth": 0,
              "ticks": ""
             }
            },
            "marker": {
             "colorbar": {
              "outlinewidth": 0,
              "ticks": ""
             }
            },
            "type": "scatter3d"
           }
          ],
          "scattercarpet": [
           {
            "marker": {
             "colorbar": {
              "outlinewidth": 0,
              "ticks": ""
             }
            },
            "type": "scattercarpet"
           }
          ],
          "scattergeo": [
           {
            "marker": {
             "colorbar": {
              "outlinewidth": 0,
              "ticks": ""
             }
            },
            "type": "scattergeo"
           }
          ],
          "scattergl": [
           {
            "marker": {
             "colorbar": {
              "outlinewidth": 0,
              "ticks": ""
             }
            },
            "type": "scattergl"
           }
          ],
          "scattermap": [
           {
            "marker": {
             "colorbar": {
              "outlinewidth": 0,
              "ticks": ""
             }
            },
            "type": "scattermap"
           }
          ],
          "scattermapbox": [
           {
            "marker": {
             "colorbar": {
              "outlinewidth": 0,
              "ticks": ""
             }
            },
            "type": "scattermapbox"
           }
          ],
          "scatterpolar": [
           {
            "marker": {
             "colorbar": {
              "outlinewidth": 0,
              "ticks": ""
             }
            },
            "type": "scatterpolar"
           }
          ],
          "scatterpolargl": [
           {
            "marker": {
             "colorbar": {
              "outlinewidth": 0,
              "ticks": ""
             }
            },
            "type": "scatterpolargl"
           }
          ],
          "scatterternary": [
           {
            "marker": {
             "colorbar": {
              "outlinewidth": 0,
              "ticks": ""
             }
            },
            "type": "scatterternary"
           }
          ],
          "surface": [
           {
            "colorbar": {
             "outlinewidth": 0,
             "ticks": ""
            },
            "colorscale": [
             [
              0,
              "#0d0887"
             ],
             [
              0.1111111111111111,
              "#46039f"
             ],
             [
              0.2222222222222222,
              "#7201a8"
             ],
             [
              0.3333333333333333,
              "#9c179e"
             ],
             [
              0.4444444444444444,
              "#bd3786"
             ],
             [
              0.5555555555555556,
              "#d8576b"
             ],
             [
              0.6666666666666666,
              "#ed7953"
             ],
             [
              0.7777777777777778,
              "#fb9f3a"
             ],
             [
              0.8888888888888888,
              "#fdca26"
             ],
             [
              1,
              "#f0f921"
             ]
            ],
            "type": "surface"
           }
          ],
          "table": [
           {
            "cells": {
             "fill": {
              "color": "#EBF0F8"
             },
             "line": {
              "color": "white"
             }
            },
            "header": {
             "fill": {
              "color": "#C8D4E3"
             },
             "line": {
              "color": "white"
             }
            },
            "type": "table"
           }
          ]
         },
         "layout": {
          "annotationdefaults": {
           "arrowcolor": "#2a3f5f",
           "arrowhead": 0,
           "arrowwidth": 1
          },
          "autotypenumbers": "strict",
          "coloraxis": {
           "colorbar": {
            "outlinewidth": 0,
            "ticks": ""
           }
          },
          "colorscale": {
           "diverging": [
            [
             0,
             "#8e0152"
            ],
            [
             0.1,
             "#c51b7d"
            ],
            [
             0.2,
             "#de77ae"
            ],
            [
             0.3,
             "#f1b6da"
            ],
            [
             0.4,
             "#fde0ef"
            ],
            [
             0.5,
             "#f7f7f7"
            ],
            [
             0.6,
             "#e6f5d0"
            ],
            [
             0.7,
             "#b8e186"
            ],
            [
             0.8,
             "#7fbc41"
            ],
            [
             0.9,
             "#4d9221"
            ],
            [
             1,
             "#276419"
            ]
           ],
           "sequential": [
            [
             0,
             "#0d0887"
            ],
            [
             0.1111111111111111,
             "#46039f"
            ],
            [
             0.2222222222222222,
             "#7201a8"
            ],
            [
             0.3333333333333333,
             "#9c179e"
            ],
            [
             0.4444444444444444,
             "#bd3786"
            ],
            [
             0.5555555555555556,
             "#d8576b"
            ],
            [
             0.6666666666666666,
             "#ed7953"
            ],
            [
             0.7777777777777778,
             "#fb9f3a"
            ],
            [
             0.8888888888888888,
             "#fdca26"
            ],
            [
             1,
             "#f0f921"
            ]
           ],
           "sequentialminus": [
            [
             0,
             "#0d0887"
            ],
            [
             0.1111111111111111,
             "#46039f"
            ],
            [
             0.2222222222222222,
             "#7201a8"
            ],
            [
             0.3333333333333333,
             "#9c179e"
            ],
            [
             0.4444444444444444,
             "#bd3786"
            ],
            [
             0.5555555555555556,
             "#d8576b"
            ],
            [
             0.6666666666666666,
             "#ed7953"
            ],
            [
             0.7777777777777778,
             "#fb9f3a"
            ],
            [
             0.8888888888888888,
             "#fdca26"
            ],
            [
             1,
             "#f0f921"
            ]
           ]
          },
          "colorway": [
           "#636efa",
           "#EF553B",
           "#00cc96",
           "#ab63fa",
           "#FFA15A",
           "#19d3f3",
           "#FF6692",
           "#B6E880",
           "#FF97FF",
           "#FECB52"
          ],
          "font": {
           "color": "#2a3f5f"
          },
          "geo": {
           "bgcolor": "white",
           "lakecolor": "white",
           "landcolor": "#E5ECF6",
           "showlakes": true,
           "showland": true,
           "subunitcolor": "white"
          },
          "hoverlabel": {
           "align": "left"
          },
          "hovermode": "closest",
          "mapbox": {
           "style": "light"
          },
          "paper_bgcolor": "white",
          "plot_bgcolor": "#E5ECF6",
          "polar": {
           "angularaxis": {
            "gridcolor": "white",
            "linecolor": "white",
            "ticks": ""
           },
           "bgcolor": "#E5ECF6",
           "radialaxis": {
            "gridcolor": "white",
            "linecolor": "white",
            "ticks": ""
           }
          },
          "scene": {
           "xaxis": {
            "backgroundcolor": "#E5ECF6",
            "gridcolor": "white",
            "gridwidth": 2,
            "linecolor": "white",
            "showbackground": true,
            "ticks": "",
            "zerolinecolor": "white"
           },
           "yaxis": {
            "backgroundcolor": "#E5ECF6",
            "gridcolor": "white",
            "gridwidth": 2,
            "linecolor": "white",
            "showbackground": true,
            "ticks": "",
            "zerolinecolor": "white"
           },
           "zaxis": {
            "backgroundcolor": "#E5ECF6",
            "gridcolor": "white",
            "gridwidth": 2,
            "linecolor": "white",
            "showbackground": true,
            "ticks": "",
            "zerolinecolor": "white"
           }
          },
          "shapedefaults": {
           "line": {
            "color": "#2a3f5f"
           }
          },
          "ternary": {
           "aaxis": {
            "gridcolor": "white",
            "linecolor": "white",
            "ticks": ""
           },
           "baxis": {
            "gridcolor": "white",
            "linecolor": "white",
            "ticks": ""
           },
           "bgcolor": "#E5ECF6",
           "caxis": {
            "gridcolor": "white",
            "linecolor": "white",
            "ticks": ""
           }
          },
          "title": {
           "x": 0.05
          },
          "xaxis": {
           "automargin": true,
           "gridcolor": "white",
           "linecolor": "white",
           "ticks": "",
           "title": {
            "standoff": 15
           },
           "zerolinecolor": "white",
           "zerolinewidth": 2
          },
          "yaxis": {
           "automargin": true,
           "gridcolor": "white",
           "linecolor": "white",
           "ticks": "",
           "title": {
            "standoff": 15
           },
           "zerolinecolor": "white",
           "zerolinewidth": 2
          }
         }
        },
        "title": {
         "text": "Top 20 articles en CA"
        },
        "width": 1000,
        "xaxis": {
         "anchor": "y",
         "domain": [
          0,
          1
         ],
         "title": {
          "text": "ranking"
         }
        },
        "yaxis": {
         "anchor": "x",
         "domain": [
          0,
          1
         ],
         "title": {
          "text": "ca_par_article"
         }
        }
       }
      }
     },
     "metadata": {},
     "output_type": "display_data"
    }
   ],
   "source": [
    "###############################\n",
    "# Palmares des articles en CA #\n",
    "###############################\n",
    "\n",
    "#Effectuer le tri dans l'ordre décroissant du CA du dataset df_merge\n",
    "df_final['ca_par_article'] = df_final['ca_par_article'].astype(float)\n",
    "\n",
    "\n",
    "#Réinitialiser l'index du dataset par un reset_index\n",
    "df_final = df_final.reset_index(drop=True)\n",
    "\n",
    "#Afficher les 20 premier articles en CA\n",
    "df_final = df_final.sort_values(by='ca_par_article', ascending=False)\n",
    "\n",
    "df_final.head(20)\n",
    "\n",
    "\n",
    "\n",
    "# Trier les articles par CA décroissant et sélectionner les 20 premiers\n",
    "top_20_articles = df_final.sort_values(by='ca_par_article', ascending=False).head(20)\n",
    "\n",
    "# Ajouter une colonne de classement\n",
    "top_20_articles['ranking'] = range(1, len(top_20_articles) + 1)\n",
    "\n",
    "# Créer le graphique en barre avec des barres plus épaisses et une largeur maximale\n",
    "fig = px.bar(top_20_articles, x='ranking', y='ca_par_article', title='Top 20 articles en CA')\n",
    "\n",
    "# Ajuster la mise en page pour définir une largeur maximale\n",
    "fig.update_layout(bargap=0.2, bargroupgap=0.1, width=1000)  # Ajustez les valeurs selon vos besoins\n",
    "\n",
    "# Afficher le graphique\n",
    "fig.show()\n",
    "\n",
    "\n",
    "\n",
    "\n",
    "\n"
   ]
  },
  {
   "cell_type": "code",
   "execution_count": 55,
   "id": "d3bbce8a",
   "metadata": {},
   "outputs": [
    {
     "data": {
      "text/html": [
       "<div>\n",
       "<style scoped>\n",
       "    .dataframe tbody tr th:only-of-type {\n",
       "        vertical-align: middle;\n",
       "    }\n",
       "\n",
       "    .dataframe tbody tr th {\n",
       "        vertical-align: top;\n",
       "    }\n",
       "\n",
       "    .dataframe thead th {\n",
       "        text-align: right;\n",
       "    }\n",
       "</style>\n",
       "<table border=\"1\" class=\"dataframe\">\n",
       "  <thead>\n",
       "    <tr style=\"text-align: right;\">\n",
       "      <th></th>\n",
       "      <th>product_id</th>\n",
       "      <th>onsale_web</th>\n",
       "      <th>price</th>\n",
       "      <th>stock_quantity</th>\n",
       "      <th>stock_status</th>\n",
       "      <th>purchase_price</th>\n",
       "      <th>id_web</th>\n",
       "      <th>total_sales</th>\n",
       "      <th>tax_status</th>\n",
       "      <th>product_type</th>\n",
       "      <th>post_title</th>\n",
       "      <th>post_date_gmt</th>\n",
       "      <th>post_modified</th>\n",
       "      <th>post_name</th>\n",
       "      <th>post_type</th>\n",
       "      <th>z_score</th>\n",
       "      <th>ca_par_article</th>\n",
       "      <th>ranking</th>\n",
       "    </tr>\n",
       "  </thead>\n",
       "  <tbody>\n",
       "    <tr>\n",
       "      <th>567</th>\n",
       "      <td>4352</td>\n",
       "      <td>1</td>\n",
       "      <td>225.0</td>\n",
       "      <td>0</td>\n",
       "      <td>outofstock</td>\n",
       "      <td>137.81</td>\n",
       "      <td>15940</td>\n",
       "      <td>11.0</td>\n",
       "      <td>taxable</td>\n",
       "      <td>Champagne</td>\n",
       "      <td>Champagne Egly-Ouriet Grand Cru Millésimé 2008</td>\n",
       "      <td>2018-03-02 09:30:04</td>\n",
       "      <td>2020-03-07 11:18:45</td>\n",
       "      <td>champagne-egly-ouriet-grand-cru-millesime-2008</td>\n",
       "      <td>product</td>\n",
       "      <td>7.248943</td>\n",
       "      <td>2475.0</td>\n",
       "      <td>1</td>\n",
       "    </tr>\n",
       "    <tr>\n",
       "      <th>269</th>\n",
       "      <td>5892</td>\n",
       "      <td>1</td>\n",
       "      <td>191.3</td>\n",
       "      <td>98</td>\n",
       "      <td>instock</td>\n",
       "      <td>116.06</td>\n",
       "      <td>14983</td>\n",
       "      <td>6.0</td>\n",
       "      <td>taxable</td>\n",
       "      <td>Champagne</td>\n",
       "      <td>Coteaux Champenois Egly-Ouriet Ambonnay Rouge ...</td>\n",
       "      <td>2019-03-28 09:21:36</td>\n",
       "      <td>2020-04-01 09:30:09</td>\n",
       "      <td>coteaux-champenois-egly-ouriet-ambonnay-rouge-...</td>\n",
       "      <td>product</td>\n",
       "      <td>5.981192</td>\n",
       "      <td>1147.8</td>\n",
       "      <td>2</td>\n",
       "    </tr>\n",
       "    <tr>\n",
       "      <th>77</th>\n",
       "      <td>4353</td>\n",
       "      <td>1</td>\n",
       "      <td>79.5</td>\n",
       "      <td>127</td>\n",
       "      <td>instock</td>\n",
       "      <td>45.91</td>\n",
       "      <td>12587</td>\n",
       "      <td>14.0</td>\n",
       "      <td>taxable</td>\n",
       "      <td>Champagne</td>\n",
       "      <td>Champagne Egly-Ouriet Grand Cru Brut Rosé</td>\n",
       "      <td>2018-03-02 09:37:26</td>\n",
       "      <td>2020-08-22 11:45:02</td>\n",
       "      <td>champagne-egly-ouriet-grand-cru-brut-rose</td>\n",
       "      <td>product</td>\n",
       "      <td>1.775419</td>\n",
       "      <td>1113.0</td>\n",
       "      <td>3</td>\n",
       "    </tr>\n",
       "    <tr>\n",
       "      <th>349</th>\n",
       "      <td>5826</td>\n",
       "      <td>1</td>\n",
       "      <td>41.2</td>\n",
       "      <td>34</td>\n",
       "      <td>instock</td>\n",
       "      <td>21.71</td>\n",
       "      <td>15325</td>\n",
       "      <td>20.0</td>\n",
       "      <td>taxable</td>\n",
       "      <td>Vin</td>\n",
       "      <td>Agnès Levet Côte Rôtie Améthyste 2017</td>\n",
       "      <td>2019-03-27 16:59:49</td>\n",
       "      <td>2020-05-21 14:00:02</td>\n",
       "      <td>agnes-levet-amethyste-2017</td>\n",
       "      <td>product</td>\n",
       "      <td>0.334622</td>\n",
       "      <td>824.0</td>\n",
       "      <td>4</td>\n",
       "    </tr>\n",
       "    <tr>\n",
       "      <th>157</th>\n",
       "      <td>6212</td>\n",
       "      <td>1</td>\n",
       "      <td>115.0</td>\n",
       "      <td>16</td>\n",
       "      <td>instock</td>\n",
       "      <td>59.42</td>\n",
       "      <td>13996</td>\n",
       "      <td>7.0</td>\n",
       "      <td>taxable</td>\n",
       "      <td>Vin</td>\n",
       "      <td>Domaine des Comtes Lafon Volnay 1er Cru Santen...</td>\n",
       "      <td>2019-07-25 07:09:17</td>\n",
       "      <td>2020-06-16 09:30:16</td>\n",
       "      <td>domaine-des-comtes-lafon-volnay-1er-cru-santen...</td>\n",
       "      <td>product</td>\n",
       "      <td>3.110884</td>\n",
       "      <td>805.0</td>\n",
       "      <td>5</td>\n",
       "    </tr>\n",
       "    <tr>\n",
       "      <th>149</th>\n",
       "      <td>5026</td>\n",
       "      <td>1</td>\n",
       "      <td>86.8</td>\n",
       "      <td>101</td>\n",
       "      <td>instock</td>\n",
       "      <td>50.13</td>\n",
       "      <td>13913</td>\n",
       "      <td>9.0</td>\n",
       "      <td>taxable</td>\n",
       "      <td>Champagne</td>\n",
       "      <td>Champagne Agrapart &amp;amp; Fils Minéral Extra Br...</td>\n",
       "      <td>2018-07-18 08:46:30</td>\n",
       "      <td>2020-05-11 14:35:02</td>\n",
       "      <td>champagne-agrapart-fils-mineral-extra-brut-bla...</td>\n",
       "      <td>product</td>\n",
       "      <td>2.050036</td>\n",
       "      <td>781.2</td>\n",
       "      <td>6</td>\n",
       "    </tr>\n",
       "    <tr>\n",
       "      <th>54</th>\n",
       "      <td>5008</td>\n",
       "      <td>1</td>\n",
       "      <td>105.0</td>\n",
       "      <td>12</td>\n",
       "      <td>instock</td>\n",
       "      <td>56.42</td>\n",
       "      <td>11602</td>\n",
       "      <td>7.0</td>\n",
       "      <td>taxable</td>\n",
       "      <td>Vin</td>\n",
       "      <td>Domaine des Comtes Lafon Volnay 1er Cru Santen...</td>\n",
       "      <td>2018-07-17 08:52:41</td>\n",
       "      <td>2020-06-23 15:35:02</td>\n",
       "      <td>domaine-des-comtes-lafon-volnay-1er-cru-santen...</td>\n",
       "      <td>product</td>\n",
       "      <td>2.734697</td>\n",
       "      <td>735.0</td>\n",
       "      <td>7</td>\n",
       "    </tr>\n",
       "    <tr>\n",
       "      <th>313</th>\n",
       "      <td>5767</td>\n",
       "      <td>1</td>\n",
       "      <td>175.0</td>\n",
       "      <td>12</td>\n",
       "      <td>instock</td>\n",
       "      <td>90.42</td>\n",
       "      <td>15185</td>\n",
       "      <td>4.0</td>\n",
       "      <td>taxable</td>\n",
       "      <td>Vin</td>\n",
       "      <td>Camille Giroud Clos de Vougeot 2016</td>\n",
       "      <td>2019-03-13 13:43:22</td>\n",
       "      <td>2020-06-11 15:25:04</td>\n",
       "      <td>camille-giroud-clos-de-vougeot-2016</td>\n",
       "      <td>product</td>\n",
       "      <td>5.368007</td>\n",
       "      <td>700.0</td>\n",
       "      <td>8</td>\n",
       "    </tr>\n",
       "    <tr>\n",
       "      <th>257</th>\n",
       "      <td>6126</td>\n",
       "      <td>1</td>\n",
       "      <td>135.0</td>\n",
       "      <td>138</td>\n",
       "      <td>instock</td>\n",
       "      <td>80.33</td>\n",
       "      <td>14923</td>\n",
       "      <td>5.0</td>\n",
       "      <td>taxable</td>\n",
       "      <td>Champagne</td>\n",
       "      <td>Champagne Gosset Célébris Vintage 2007</td>\n",
       "      <td>2019-06-28 15:22:27</td>\n",
       "      <td>2020-08-27 11:45:02</td>\n",
       "      <td>champagne-gosset-celebris-vintage-2007</td>\n",
       "      <td>product</td>\n",
       "      <td>3.863258</td>\n",
       "      <td>675.0</td>\n",
       "      <td>9</td>\n",
       "    </tr>\n",
       "    <tr>\n",
       "      <th>150</th>\n",
       "      <td>5025</td>\n",
       "      <td>1</td>\n",
       "      <td>112.0</td>\n",
       "      <td>136</td>\n",
       "      <td>instock</td>\n",
       "      <td>68.60</td>\n",
       "      <td>13914</td>\n",
       "      <td>6.0</td>\n",
       "      <td>taxable</td>\n",
       "      <td>Champagne</td>\n",
       "      <td>Champagne Agrapart &amp;amp; Fils L'Avizoise Extra...</td>\n",
       "      <td>2018-07-18 08:39:43</td>\n",
       "      <td>2020-07-09 17:05:02</td>\n",
       "      <td>champagne-agrapart-fils-lavizoise-grand-cru-20...</td>\n",
       "      <td>product</td>\n",
       "      <td>2.998028</td>\n",
       "      <td>672.0</td>\n",
       "      <td>10</td>\n",
       "    </tr>\n",
       "    <tr>\n",
       "      <th>205</th>\n",
       "      <td>6201</td>\n",
       "      <td>1</td>\n",
       "      <td>105.6</td>\n",
       "      <td>16</td>\n",
       "      <td>instock</td>\n",
       "      <td>57.29</td>\n",
       "      <td>14596</td>\n",
       "      <td>6.0</td>\n",
       "      <td>taxable</td>\n",
       "      <td>Vin</td>\n",
       "      <td>David Duband Chambolle-Musigny 1er Cru Les Sen...</td>\n",
       "      <td>2019-07-23 08:37:14</td>\n",
       "      <td>2020-02-29 15:25:02</td>\n",
       "      <td>david-duband-chambolle-musigny-1er-cru-les-sen...</td>\n",
       "      <td>product</td>\n",
       "      <td>2.757268</td>\n",
       "      <td>633.6</td>\n",
       "      <td>11</td>\n",
       "    </tr>\n",
       "    <tr>\n",
       "      <th>33</th>\n",
       "      <td>4406</td>\n",
       "      <td>1</td>\n",
       "      <td>157.0</td>\n",
       "      <td>12</td>\n",
       "      <td>instock</td>\n",
       "      <td>69.08</td>\n",
       "      <td>7819</td>\n",
       "      <td>4.0</td>\n",
       "      <td>taxable</td>\n",
       "      <td>Cognac</td>\n",
       "      <td>Cognac Frapin Château de Fontpinot 1989 20 Ans...</td>\n",
       "      <td>2018-03-22 10:42:48</td>\n",
       "      <td>2020-03-14 16:05:04</td>\n",
       "      <td>cognac-frapin-chateau-de-fontpinot-1989-20-ans</td>\n",
       "      <td>product</td>\n",
       "      <td>4.690870</td>\n",
       "      <td>628.0</td>\n",
       "      <td>12</td>\n",
       "    </tr>\n",
       "    <tr>\n",
       "      <th>711</th>\n",
       "      <td>4647</td>\n",
       "      <td>1</td>\n",
       "      <td>28.5</td>\n",
       "      <td>45</td>\n",
       "      <td>instock</td>\n",
       "      <td>14.14</td>\n",
       "      <td>16525</td>\n",
       "      <td>22.0</td>\n",
       "      <td>taxable</td>\n",
       "      <td>Vin</td>\n",
       "      <td>Bernard Baudry Chinon Rouge La Croix Boissée 2017</td>\n",
       "      <td>2018-04-17 07:28:58</td>\n",
       "      <td>2020-07-31 09:31:39</td>\n",
       "      <td>bernard-baudry-chinon-rouge-croix-boissee-2017</td>\n",
       "      <td>product</td>\n",
       "      <td>-0.143136</td>\n",
       "      <td>627.0</td>\n",
       "      <td>13</td>\n",
       "    </tr>\n",
       "    <tr>\n",
       "      <th>144</th>\n",
       "      <td>4358</td>\n",
       "      <td>1</td>\n",
       "      <td>77.0</td>\n",
       "      <td>81</td>\n",
       "      <td>instock</td>\n",
       "      <td>47.16</td>\n",
       "      <td>13854</td>\n",
       "      <td>8.0</td>\n",
       "      <td>taxable</td>\n",
       "      <td>Champagne</td>\n",
       "      <td>Champagne Larmandier-Bernier Grand Cru Vieille...</td>\n",
       "      <td>2018-03-02 10:03:30</td>\n",
       "      <td>2020-01-04 11:07:14</td>\n",
       "      <td>champagne-larmandier-bernier-vieilles-vignes-l...</td>\n",
       "      <td>product</td>\n",
       "      <td>1.681372</td>\n",
       "      <td>616.0</td>\n",
       "      <td>14</td>\n",
       "    </tr>\n",
       "    <tr>\n",
       "      <th>143</th>\n",
       "      <td>4359</td>\n",
       "      <td>1</td>\n",
       "      <td>85.6</td>\n",
       "      <td>112</td>\n",
       "      <td>instock</td>\n",
       "      <td>51.93</td>\n",
       "      <td>13853</td>\n",
       "      <td>7.0</td>\n",
       "      <td>taxable</td>\n",
       "      <td>Champagne</td>\n",
       "      <td>Champagne Larmandier-Bernier Grand Cru Les Che...</td>\n",
       "      <td>2018-03-02 10:11:48</td>\n",
       "      <td>2019-12-23 09:30:11</td>\n",
       "      <td>champagne-larmandier-bernier-grand-cru-vieille...</td>\n",
       "      <td>product</td>\n",
       "      <td>2.004893</td>\n",
       "      <td>599.2</td>\n",
       "      <td>15</td>\n",
       "    </tr>\n",
       "    <tr>\n",
       "      <th>53</th>\n",
       "      <td>6214</td>\n",
       "      <td>1</td>\n",
       "      <td>99.0</td>\n",
       "      <td>9</td>\n",
       "      <td>instock</td>\n",
       "      <td>49.62</td>\n",
       "      <td>11601</td>\n",
       "      <td>6.0</td>\n",
       "      <td>taxable</td>\n",
       "      <td>Vin</td>\n",
       "      <td>Domaine des Comtes Lafon Volnay 1er Cru Champa...</td>\n",
       "      <td>2019-07-25 07:15:41</td>\n",
       "      <td>2020-07-04 11:35:02</td>\n",
       "      <td>domaine-des-comtes-lafon-volnay-1er-cru-champa...</td>\n",
       "      <td>product</td>\n",
       "      <td>2.508984</td>\n",
       "      <td>594.0</td>\n",
       "      <td>16</td>\n",
       "    </tr>\n",
       "    <tr>\n",
       "      <th>291</th>\n",
       "      <td>6202</td>\n",
       "      <td>1</td>\n",
       "      <td>116.4</td>\n",
       "      <td>12</td>\n",
       "      <td>instock</td>\n",
       "      <td>63.15</td>\n",
       "      <td>15126</td>\n",
       "      <td>5.0</td>\n",
       "      <td>taxable</td>\n",
       "      <td>Vin</td>\n",
       "      <td>Domaine Clerget Echezeaux Grand Cru En Orveaux...</td>\n",
       "      <td>2019-07-23 08:50:24</td>\n",
       "      <td>2020-06-06 15:45:01</td>\n",
       "      <td>domaine-clerget-echezeaux-en-orveaux-2015</td>\n",
       "      <td>product</td>\n",
       "      <td>3.163550</td>\n",
       "      <td>582.0</td>\n",
       "      <td>17</td>\n",
       "    </tr>\n",
       "    <tr>\n",
       "      <th>78</th>\n",
       "      <td>4350</td>\n",
       "      <td>1</td>\n",
       "      <td>79.5</td>\n",
       "      <td>145</td>\n",
       "      <td>instock</td>\n",
       "      <td>47.30</td>\n",
       "      <td>12588</td>\n",
       "      <td>7.0</td>\n",
       "      <td>taxable</td>\n",
       "      <td>Champagne</td>\n",
       "      <td>Champagne Egly-Ouriet Grand Cru Extra Brut V.P.</td>\n",
       "      <td>2018-03-02 09:00:02</td>\n",
       "      <td>2020-08-27 11:45:02</td>\n",
       "      <td>champagne-egly-ouriet-extra-brut-vp</td>\n",
       "      <td>product</td>\n",
       "      <td>1.775419</td>\n",
       "      <td>556.5</td>\n",
       "      <td>18</td>\n",
       "    </tr>\n",
       "    <tr>\n",
       "      <th>129</th>\n",
       "      <td>4573</td>\n",
       "      <td>1</td>\n",
       "      <td>67.2</td>\n",
       "      <td>12</td>\n",
       "      <td>instock</td>\n",
       "      <td>36.46</td>\n",
       "      <td>13604</td>\n",
       "      <td>8.0</td>\n",
       "      <td>taxable</td>\n",
       "      <td>Vin</td>\n",
       "      <td>Château de Meursault Beaune-Grèves Les Trois J...</td>\n",
       "      <td>2018-04-12 14:31:16</td>\n",
       "      <td>2020-08-06 16:45:02</td>\n",
       "      <td>cdme-beaune-1ercru-greves-3-journaux-2015</td>\n",
       "      <td>product</td>\n",
       "      <td>1.312709</td>\n",
       "      <td>537.6</td>\n",
       "      <td>19</td>\n",
       "    </tr>\n",
       "    <tr>\n",
       "      <th>24</th>\n",
       "      <td>4402</td>\n",
       "      <td>1</td>\n",
       "      <td>176.0</td>\n",
       "      <td>11</td>\n",
       "      <td>instock</td>\n",
       "      <td>78.25</td>\n",
       "      <td>3510</td>\n",
       "      <td>3.0</td>\n",
       "      <td>taxable</td>\n",
       "      <td>Cognac</td>\n",
       "      <td>Cognac Frapin VIP XO</td>\n",
       "      <td>2018-03-22 10:21:05</td>\n",
       "      <td>2020-08-22 11:35:03</td>\n",
       "      <td>cognac-frapin-vip-xo</td>\n",
       "      <td>product</td>\n",
       "      <td>5.405626</td>\n",
       "      <td>528.0</td>\n",
       "      <td>20</td>\n",
       "    </tr>\n",
       "  </tbody>\n",
       "</table>\n",
       "</div>"
      ],
      "text/plain": [
       "     product_id  onsale_web  price  stock_quantity stock_status  \\\n",
       "567        4352           1  225.0               0   outofstock   \n",
       "269        5892           1  191.3              98      instock   \n",
       "77         4353           1   79.5             127      instock   \n",
       "349        5826           1   41.2              34      instock   \n",
       "157        6212           1  115.0              16      instock   \n",
       "149        5026           1   86.8             101      instock   \n",
       "54         5008           1  105.0              12      instock   \n",
       "313        5767           1  175.0              12      instock   \n",
       "257        6126           1  135.0             138      instock   \n",
       "150        5025           1  112.0             136      instock   \n",
       "205        6201           1  105.6              16      instock   \n",
       "33         4406           1  157.0              12      instock   \n",
       "711        4647           1   28.5              45      instock   \n",
       "144        4358           1   77.0              81      instock   \n",
       "143        4359           1   85.6             112      instock   \n",
       "53         6214           1   99.0               9      instock   \n",
       "291        6202           1  116.4              12      instock   \n",
       "78         4350           1   79.5             145      instock   \n",
       "129        4573           1   67.2              12      instock   \n",
       "24         4402           1  176.0              11      instock   \n",
       "\n",
       "     purchase_price id_web  total_sales tax_status product_type  \\\n",
       "567          137.81  15940         11.0    taxable    Champagne   \n",
       "269          116.06  14983          6.0    taxable    Champagne   \n",
       "77            45.91  12587         14.0    taxable    Champagne   \n",
       "349           21.71  15325         20.0    taxable          Vin   \n",
       "157           59.42  13996          7.0    taxable          Vin   \n",
       "149           50.13  13913          9.0    taxable    Champagne   \n",
       "54            56.42  11602          7.0    taxable          Vin   \n",
       "313           90.42  15185          4.0    taxable          Vin   \n",
       "257           80.33  14923          5.0    taxable    Champagne   \n",
       "150           68.60  13914          6.0    taxable    Champagne   \n",
       "205           57.29  14596          6.0    taxable          Vin   \n",
       "33            69.08   7819          4.0    taxable       Cognac   \n",
       "711           14.14  16525         22.0    taxable          Vin   \n",
       "144           47.16  13854          8.0    taxable    Champagne   \n",
       "143           51.93  13853          7.0    taxable    Champagne   \n",
       "53            49.62  11601          6.0    taxable          Vin   \n",
       "291           63.15  15126          5.0    taxable          Vin   \n",
       "78            47.30  12588          7.0    taxable    Champagne   \n",
       "129           36.46  13604          8.0    taxable          Vin   \n",
       "24            78.25   3510          3.0    taxable       Cognac   \n",
       "\n",
       "                                            post_title       post_date_gmt  \\\n",
       "567     Champagne Egly-Ouriet Grand Cru Millésimé 2008 2018-03-02 09:30:04   \n",
       "269  Coteaux Champenois Egly-Ouriet Ambonnay Rouge ... 2019-03-28 09:21:36   \n",
       "77           Champagne Egly-Ouriet Grand Cru Brut Rosé 2018-03-02 09:37:26   \n",
       "349              Agnès Levet Côte Rôtie Améthyste 2017 2019-03-27 16:59:49   \n",
       "157  Domaine des Comtes Lafon Volnay 1er Cru Santen... 2019-07-25 07:09:17   \n",
       "149  Champagne Agrapart &amp; Fils Minéral Extra Br... 2018-07-18 08:46:30   \n",
       "54   Domaine des Comtes Lafon Volnay 1er Cru Santen... 2018-07-17 08:52:41   \n",
       "313                Camille Giroud Clos de Vougeot 2016 2019-03-13 13:43:22   \n",
       "257             Champagne Gosset Célébris Vintage 2007 2019-06-28 15:22:27   \n",
       "150  Champagne Agrapart &amp; Fils L'Avizoise Extra... 2018-07-18 08:39:43   \n",
       "205  David Duband Chambolle-Musigny 1er Cru Les Sen... 2019-07-23 08:37:14   \n",
       "33   Cognac Frapin Château de Fontpinot 1989 20 Ans... 2018-03-22 10:42:48   \n",
       "711  Bernard Baudry Chinon Rouge La Croix Boissée 2017 2018-04-17 07:28:58   \n",
       "144  Champagne Larmandier-Bernier Grand Cru Vieille... 2018-03-02 10:03:30   \n",
       "143  Champagne Larmandier-Bernier Grand Cru Les Che... 2018-03-02 10:11:48   \n",
       "53   Domaine des Comtes Lafon Volnay 1er Cru Champa... 2019-07-25 07:15:41   \n",
       "291  Domaine Clerget Echezeaux Grand Cru En Orveaux... 2019-07-23 08:50:24   \n",
       "78     Champagne Egly-Ouriet Grand Cru Extra Brut V.P. 2018-03-02 09:00:02   \n",
       "129  Château de Meursault Beaune-Grèves Les Trois J... 2018-04-12 14:31:16   \n",
       "24                                Cognac Frapin VIP XO 2018-03-22 10:21:05   \n",
       "\n",
       "          post_modified                                          post_name  \\\n",
       "567 2020-03-07 11:18:45     champagne-egly-ouriet-grand-cru-millesime-2008   \n",
       "269 2020-04-01 09:30:09  coteaux-champenois-egly-ouriet-ambonnay-rouge-...   \n",
       "77  2020-08-22 11:45:02          champagne-egly-ouriet-grand-cru-brut-rose   \n",
       "349 2020-05-21 14:00:02                         agnes-levet-amethyste-2017   \n",
       "157 2020-06-16 09:30:16  domaine-des-comtes-lafon-volnay-1er-cru-santen...   \n",
       "149 2020-05-11 14:35:02  champagne-agrapart-fils-mineral-extra-brut-bla...   \n",
       "54  2020-06-23 15:35:02  domaine-des-comtes-lafon-volnay-1er-cru-santen...   \n",
       "313 2020-06-11 15:25:04                camille-giroud-clos-de-vougeot-2016   \n",
       "257 2020-08-27 11:45:02             champagne-gosset-celebris-vintage-2007   \n",
       "150 2020-07-09 17:05:02  champagne-agrapart-fils-lavizoise-grand-cru-20...   \n",
       "205 2020-02-29 15:25:02  david-duband-chambolle-musigny-1er-cru-les-sen...   \n",
       "33  2020-03-14 16:05:04     cognac-frapin-chateau-de-fontpinot-1989-20-ans   \n",
       "711 2020-07-31 09:31:39     bernard-baudry-chinon-rouge-croix-boissee-2017   \n",
       "144 2020-01-04 11:07:14  champagne-larmandier-bernier-vieilles-vignes-l...   \n",
       "143 2019-12-23 09:30:11  champagne-larmandier-bernier-grand-cru-vieille...   \n",
       "53  2020-07-04 11:35:02  domaine-des-comtes-lafon-volnay-1er-cru-champa...   \n",
       "291 2020-06-06 15:45:01          domaine-clerget-echezeaux-en-orveaux-2015   \n",
       "78  2020-08-27 11:45:02                champagne-egly-ouriet-extra-brut-vp   \n",
       "129 2020-08-06 16:45:02          cdme-beaune-1ercru-greves-3-journaux-2015   \n",
       "24  2020-08-22 11:35:03                               cognac-frapin-vip-xo   \n",
       "\n",
       "    post_type   z_score  ca_par_article  ranking  \n",
       "567   product  7.248943          2475.0        1  \n",
       "269   product  5.981192          1147.8        2  \n",
       "77    product  1.775419          1113.0        3  \n",
       "349   product  0.334622           824.0        4  \n",
       "157   product  3.110884           805.0        5  \n",
       "149   product  2.050036           781.2        6  \n",
       "54    product  2.734697           735.0        7  \n",
       "313   product  5.368007           700.0        8  \n",
       "257   product  3.863258           675.0        9  \n",
       "150   product  2.998028           672.0       10  \n",
       "205   product  2.757268           633.6       11  \n",
       "33    product  4.690870           628.0       12  \n",
       "711   product -0.143136           627.0       13  \n",
       "144   product  1.681372           616.0       14  \n",
       "143   product  2.004893           599.2       15  \n",
       "53    product  2.508984           594.0       16  \n",
       "291   product  3.163550           582.0       17  \n",
       "78    product  1.775419           556.5       18  \n",
       "129   product  1.312709           537.6       19  \n",
       "24    product  5.405626           528.0       20  "
      ]
     },
     "execution_count": 55,
     "metadata": {},
     "output_type": "execute_result"
    }
   ],
   "source": [
    "top_20_articles.head(20)"
   ]
  },
  {
   "cell_type": "code",
   "execution_count": 56,
   "id": "d7e5e87b",
   "metadata": {},
   "outputs": [
    {
     "name": "stdout",
     "output_type": "stream",
     "text": [
      "Nombre d'articles représentant 80% des ventes en CA : 434\n",
      "Proportion de ces articles dans le catalogue entier : 52.54%\n"
     ]
    }
   ],
   "source": [
    "#############################\n",
    "# Calculer le 20 / 80 en CA #\n",
    "#############################\n",
    "\n",
    "# Créer une colonne calculant la part du CA de la ligne dans le dataset\n",
    "df_final['%_ca_par_article'] = df_final['ca_par_article'] / df_final['ca_par_article'].sum()\n",
    "\n",
    "# Créer une colonne réalisant la somme cumulative de la colonne précédemment créée\n",
    "df_final['somme_cumulative'] = df_final['%_ca_par_article'].cumsum()\n",
    "\n",
    "# Calculer le nombre d'articles représentant 80% des ventes en CA\n",
    "articles_80_ca = df_final[df_final['somme_cumulative'] <= 0.80]\n",
    "nombre_articles_80_ca = articles_80_ca.shape[0]\n",
    "\n",
    "# Afficher la proportion que représentent ce groupe d'articles dans le catalogue entier du site web\n",
    "proportion_articles_80_ca = nombre_articles_80_ca / df_final.shape[0]\n",
    "\n",
    "print(f'Nombre d\\'articles représentant 80% des ventes en CA : {nombre_articles_80_ca}')\n",
    "print(f'Proportion de ces articles dans le catalogue entier : {proportion_articles_80_ca:.2%}')\n",
    "\n"
   ]
  },
  {
   "cell_type": "code",
   "execution_count": 57,
   "id": "bb5c671f",
   "metadata": {},
   "outputs": [],
   "source": [
    "# Supprimer le DataFrame top_20_articles\n",
    "del top_20_articles\n"
   ]
  },
  {
   "cell_type": "markdown",
   "id": "8de7af87",
   "metadata": {},
   "source": [
    "<div style=\"border: 1px solid RGB(51,165,182);\" >\n",
    "<h3 style=\"margin: auto; padding: 20px; color: RGB(51,165,182); \">Etape 5.2 - Analyse des ventes en Quantités</h3>\n",
    "</div>"
   ]
  },
  {
   "cell_type": "code",
   "execution_count": 58,
   "id": "ab222e08",
   "metadata": {},
   "outputs": [
    {
     "name": "stdout",
     "output_type": "stream",
     "text": [
      "    product_id  onsale_web  price  stock_quantity stock_status  \\\n",
      "0         4867           1    9.9             121      instock   \n",
      "1         4203           1    9.9              74      instock   \n",
      "2         4275           1   14.9              62      instock   \n",
      "3         4726           1   12.7               0   outofstock   \n",
      "4         4647           1   28.5              45      instock   \n",
      "5         6129           1    5.2              68      instock   \n",
      "6         5826           1   41.2              34      instock   \n",
      "7         4220           1   11.6              48      instock   \n",
      "8         5803           1   17.1              47      instock   \n",
      "9         6569           1   29.0              58      instock   \n",
      "10        5778           1    5.8              44      instock   \n",
      "11        4863           1    8.2              54      instock   \n",
      "12        5777           1    5.7              51      instock   \n",
      "13        4870           1    9.3               0   outofstock   \n",
      "14        4188           1    9.5              51      instock   \n",
      "15        4059           1    8.7              34      instock   \n",
      "16        4105           1    6.8              45      instock   \n",
      "17        5695           1    6.5              33      instock   \n",
      "18        4861           1    8.5              36      instock   \n",
      "19        4306           1   10.7              52      instock   \n",
      "\n",
      "    purchase_price id_web  total_sales tax_status product_type  \\\n",
      "0             4.86  16148         36.0    taxable          Vin   \n",
      "1             5.01  15415         27.0    taxable          Vin   \n",
      "2             7.78  14864         24.0    taxable          Vin   \n",
      "3             6.82  14950         22.0    taxable          Vin   \n",
      "4            14.14  16525         22.0    taxable          Vin   \n",
      "5             2.74  14570         20.0    taxable          Vin   \n",
      "6            21.71  15325         20.0    taxable          Vin   \n",
      "7             5.75  15758         18.0    taxable          Vin   \n",
      "8             9.19  13572         17.0    taxable          Vin   \n",
      "9            15.28  15705         17.0    taxable          Vin   \n",
      "10            3.09  15561         17.0    taxable          Vin   \n",
      "11            4.11  16255         16.0    taxable          Vin   \n",
      "12            3.03  14338         16.0    taxable          Vin   \n",
      "13            4.81  16149         16.0    taxable          Vin   \n",
      "14            5.06  16265         16.0    taxable          Vin   \n",
      "15            4.32  16275         16.0    taxable          Vin   \n",
      "16            3.51  16504         16.0    taxable          Vin   \n",
      "17            3.53  16304         16.0    taxable          Vin   \n",
      "18            4.17  15307         15.0    taxable          Vin   \n",
      "19            5.31  15949         15.0    taxable          Vin   \n",
      "\n",
      "                                           post_title       post_date_gmt  \\\n",
      "0   Château De La Selve IGP Coteaux de l'Ardèche M... 2018-05-03 11:20:05   \n",
      "1   Mas Laval IGP Pays d'Hérault Les Pampres Blanc... 2018-02-15 13:33:42   \n",
      "2               I Fabbri Chianti Classico Lamole 2017 2018-02-27 12:33:54   \n",
      "3            François Baur Pinot Noir Schlittweg 2017 2018-04-18 09:53:51   \n",
      "4   Bernard Baudry Chinon Rouge La Croix Boissée 2017 2018-04-17 07:28:58   \n",
      "5   Moulin de Gassac IGP Pays d'Hérault Guilhem Bl... 2019-06-28 16:01:06   \n",
      "6               Agnès Levet Côte Rôtie Améthyste 2017 2019-03-27 16:59:49   \n",
      "7   Xavier Frissant Touraine Amboise Chenin Les Pi... 2018-02-16 09:54:27   \n",
      "8                Château Tour Haut-Caussan Médoc 2015 2019-03-19 10:33:39   \n",
      "9                Decelle-Villa Chorey-Lès-Beaune 2016 2020-01-03 15:39:53   \n",
      "10                       Maurel Pays d'Oc Merlot 2018 2019-03-15 09:20:59   \n",
      "11  Château Ollieux Romanis Corbières Rosé Classiq... 2018-05-03 10:58:34   \n",
      "12           Maurel Pays d'Oc Cabernet-Sauvignon 2017 2019-03-15 09:13:30   \n",
      "13                Triennes IGP Méditerranée Rosé 2019 2018-05-03 11:45:43   \n",
      "14  Château de La Liquière Languedoc Blanc Les Ama... 2018-02-15 09:18:39   \n",
      "15  Mourgues du Grès Costières de Nîmes Galets Ros... 2018-02-12 11:12:28   \n",
      "16        Emile Boeckel Sylvaner Vieilles Vignes 2019 2018-02-13 09:31:33   \n",
      "17    Philippe Nusswitz IGP Cévènnes Rosé O Pale 2019 2019-01-30 15:32:42   \n",
      "18   Philippe Nusswitz Duché d'Uzès Orénia Rouge 2017 2018-05-03 10:49:00   \n",
      "19  Domaine de l'Idylle Roussette de Savoie Anne d... 2018-02-28 15:37:33   \n",
      "\n",
      "         post_modified                                          post_name  \\\n",
      "0  2020-08-27 09:30:15  chateau-de-la-selve-igp-coteaux-de-lardeche-ma...   \n",
      "1  2020-07-11 16:45:03      mas-laval-igp-pays-herault-pampres-blanc-2018   \n",
      "2  2020-08-22 14:35:02              i-fabbri-chianti-classico-lamole-2017   \n",
      "3  2020-05-06 11:35:01           francois-baur-pinot-noir-schlittweg-2017   \n",
      "4  2020-07-31 09:31:39     bernard-baudry-chinon-rouge-croix-boissee-2017   \n",
      "5  2020-08-26 15:55:02  moulin-de-gassac-igp-pays-dherault-guilhem-bla...   \n",
      "6  2020-05-21 14:00:02                         agnes-levet-amethyste-2017   \n",
      "7  2020-08-27 11:45:02                       frissant-chenin-pierres-2018   \n",
      "8  2020-08-26 16:55:02                       tour-haut-caussan-medoc-2015   \n",
      "9  2020-07-27 11:55:02                   decelle-villa-chorey-beaune-2016   \n",
      "10 2020-08-14 10:55:02                        maurel-pays-d-oc-merot-2018   \n",
      "11 2020-07-20 17:47:47  chateau-ollieux-romanis-corbieres-rose-classiq...   \n",
      "12 2020-03-11 09:30:06           maurel-pays-d-oc-cabernet-sauvignon-2017   \n",
      "13 2020-08-27 17:25:03                triennes-igp-mediterranee-rose-2019   \n",
      "14 2020-08-25 18:25:03           liquiere-languedoc-amandiers-blancs-2019   \n",
      "15 2020-08-27 09:30:16  mourgues-du-gres-costieres-de-nimes-galets-ros...   \n",
      "16 2020-08-27 09:28:39        emile-boeckel-sylvaner-vieilles-vignes-2019   \n",
      "17 2020-08-22 16:15:03     philippe-nusswitz-igp-cevennes-opale-rose-2019   \n",
      "18 2020-08-26 18:25:02     philippe-nusswitz-duche-uzes-orenia-rouge-2017   \n",
      "19 2020-06-02 16:55:03           domaine-de-lidylle-savoie-roussette-2018   \n",
      "\n",
      "   post_type   z_score  ca_par_article  %_ca_par_article  somme_cumulative  \n",
      "0    product -0.842844           356.4          0.002481          0.227993  \n",
      "1    product -0.842844           267.3          0.001860          0.402390  \n",
      "2    product -0.654750           357.6          0.002489          0.215575  \n",
      "3    product -0.737511           279.4          0.001945          0.368073  \n",
      "4    product -0.143136           627.0          0.004364          0.082242  \n",
      "5    product -1.019652           104.0          0.000724          0.951975  \n",
      "6    product  0.334622           824.0          0.005735          0.038696  \n",
      "7    product -0.778892           208.8          0.001453          0.579007  \n",
      "8    product -0.571989           290.7          0.002023          0.340271  \n",
      "9    product -0.124326           493.0          0.003431          0.124229  \n",
      "10   product -0.997081            98.6          0.000686          0.967524  \n",
      "11   product -0.906796           131.2          0.000913          0.864857  \n",
      "12   product -1.000842            91.2          0.000635          0.976128  \n",
      "13   product -0.865415           148.8          0.001036          0.790574  \n",
      "14   product -0.857891           152.0          0.001058          0.779090  \n",
      "15   product -0.887986           139.2          0.000969          0.830756  \n",
      "16   product -0.959462           108.8          0.000757          0.939383  \n",
      "17   product -0.970747           104.0          0.000724          0.951251  \n",
      "18   product -0.895510           127.5          0.000887          0.873860  \n",
      "19   product -0.812749           160.5          0.001117          0.743247  \n"
     ]
    },
    {
     "name": "stderr",
     "output_type": "stream",
     "text": [
      "C:\\Users\\SKIKK\\AppData\\Local\\Temp\\ipykernel_15624\\3342973474.py:21: SettingWithCopyWarning:\n",
      "\n",
      "\n",
      "A value is trying to be set on a copy of a slice from a DataFrame.\n",
      "Try using .loc[row_indexer,col_indexer] = value instead\n",
      "\n",
      "See the caveats in the documentation: https://pandas.pydata.org/pandas-docs/stable/user_guide/indexing.html#returning-a-view-versus-a-copy\n",
      "\n"
     ]
    },
    {
     "data": {
      "application/vnd.plotly.v1+json": {
       "config": {
        "plotlyServerURL": "https://plot.ly"
       },
       "data": [
        {
         "hovertemplate": "ranking=%{x}<br>total_sales=%{y}<extra></extra>",
         "legendgroup": "",
         "marker": {
          "color": "#636efa",
          "pattern": {
           "shape": ""
          }
         },
         "name": "",
         "orientation": "v",
         "showlegend": false,
         "textposition": "auto",
         "type": "bar",
         "x": {
          "bdata": "AQIDBAUGBwgJCgsMDQ4PEBESExQ=",
          "dtype": "i1"
         },
         "xaxis": "x",
         "y": {
          "bdata": "AAAAAAAAQkAAAAAAAAA7QAAAAAAAADhAAAAAAAAANkAAAAAAAAA2QAAAAAAAADRAAAAAAAAANEAAAAAAAAAyQAAAAAAAADFAAAAAAAAAMUAAAAAAAAAxQAAAAAAAADBAAAAAAAAAMEAAAAAAAAAwQAAAAAAAADBAAAAAAAAAMEAAAAAAAAAwQAAAAAAAADBAAAAAAAAALkAAAAAAAAAuQA==",
          "dtype": "f8"
         },
         "yaxis": "y"
        }
       ],
       "layout": {
        "bargap": 0.2,
        "bargroupgap": 0.1,
        "barmode": "relative",
        "legend": {
         "tracegroupgap": 0
        },
        "template": {
         "data": {
          "bar": [
           {
            "error_x": {
             "color": "#2a3f5f"
            },
            "error_y": {
             "color": "#2a3f5f"
            },
            "marker": {
             "line": {
              "color": "#E5ECF6",
              "width": 0.5
             },
             "pattern": {
              "fillmode": "overlay",
              "size": 10,
              "solidity": 0.2
             }
            },
            "type": "bar"
           }
          ],
          "barpolar": [
           {
            "marker": {
             "line": {
              "color": "#E5ECF6",
              "width": 0.5
             },
             "pattern": {
              "fillmode": "overlay",
              "size": 10,
              "solidity": 0.2
             }
            },
            "type": "barpolar"
           }
          ],
          "carpet": [
           {
            "aaxis": {
             "endlinecolor": "#2a3f5f",
             "gridcolor": "white",
             "linecolor": "white",
             "minorgridcolor": "white",
             "startlinecolor": "#2a3f5f"
            },
            "baxis": {
             "endlinecolor": "#2a3f5f",
             "gridcolor": "white",
             "linecolor": "white",
             "minorgridcolor": "white",
             "startlinecolor": "#2a3f5f"
            },
            "type": "carpet"
           }
          ],
          "choropleth": [
           {
            "colorbar": {
             "outlinewidth": 0,
             "ticks": ""
            },
            "type": "choropleth"
           }
          ],
          "contour": [
           {
            "colorbar": {
             "outlinewidth": 0,
             "ticks": ""
            },
            "colorscale": [
             [
              0,
              "#0d0887"
             ],
             [
              0.1111111111111111,
              "#46039f"
             ],
             [
              0.2222222222222222,
              "#7201a8"
             ],
             [
              0.3333333333333333,
              "#9c179e"
             ],
             [
              0.4444444444444444,
              "#bd3786"
             ],
             [
              0.5555555555555556,
              "#d8576b"
             ],
             [
              0.6666666666666666,
              "#ed7953"
             ],
             [
              0.7777777777777778,
              "#fb9f3a"
             ],
             [
              0.8888888888888888,
              "#fdca26"
             ],
             [
              1,
              "#f0f921"
             ]
            ],
            "type": "contour"
           }
          ],
          "contourcarpet": [
           {
            "colorbar": {
             "outlinewidth": 0,
             "ticks": ""
            },
            "type": "contourcarpet"
           }
          ],
          "heatmap": [
           {
            "colorbar": {
             "outlinewidth": 0,
             "ticks": ""
            },
            "colorscale": [
             [
              0,
              "#0d0887"
             ],
             [
              0.1111111111111111,
              "#46039f"
             ],
             [
              0.2222222222222222,
              "#7201a8"
             ],
             [
              0.3333333333333333,
              "#9c179e"
             ],
             [
              0.4444444444444444,
              "#bd3786"
             ],
             [
              0.5555555555555556,
              "#d8576b"
             ],
             [
              0.6666666666666666,
              "#ed7953"
             ],
             [
              0.7777777777777778,
              "#fb9f3a"
             ],
             [
              0.8888888888888888,
              "#fdca26"
             ],
             [
              1,
              "#f0f921"
             ]
            ],
            "type": "heatmap"
           }
          ],
          "histogram": [
           {
            "marker": {
             "pattern": {
              "fillmode": "overlay",
              "size": 10,
              "solidity": 0.2
             }
            },
            "type": "histogram"
           }
          ],
          "histogram2d": [
           {
            "colorbar": {
             "outlinewidth": 0,
             "ticks": ""
            },
            "colorscale": [
             [
              0,
              "#0d0887"
             ],
             [
              0.1111111111111111,
              "#46039f"
             ],
             [
              0.2222222222222222,
              "#7201a8"
             ],
             [
              0.3333333333333333,
              "#9c179e"
             ],
             [
              0.4444444444444444,
              "#bd3786"
             ],
             [
              0.5555555555555556,
              "#d8576b"
             ],
             [
              0.6666666666666666,
              "#ed7953"
             ],
             [
              0.7777777777777778,
              "#fb9f3a"
             ],
             [
              0.8888888888888888,
              "#fdca26"
             ],
             [
              1,
              "#f0f921"
             ]
            ],
            "type": "histogram2d"
           }
          ],
          "histogram2dcontour": [
           {
            "colorbar": {
             "outlinewidth": 0,
             "ticks": ""
            },
            "colorscale": [
             [
              0,
              "#0d0887"
             ],
             [
              0.1111111111111111,
              "#46039f"
             ],
             [
              0.2222222222222222,
              "#7201a8"
             ],
             [
              0.3333333333333333,
              "#9c179e"
             ],
             [
              0.4444444444444444,
              "#bd3786"
             ],
             [
              0.5555555555555556,
              "#d8576b"
             ],
             [
              0.6666666666666666,
              "#ed7953"
             ],
             [
              0.7777777777777778,
              "#fb9f3a"
             ],
             [
              0.8888888888888888,
              "#fdca26"
             ],
             [
              1,
              "#f0f921"
             ]
            ],
            "type": "histogram2dcontour"
           }
          ],
          "mesh3d": [
           {
            "colorbar": {
             "outlinewidth": 0,
             "ticks": ""
            },
            "type": "mesh3d"
           }
          ],
          "parcoords": [
           {
            "line": {
             "colorbar": {
              "outlinewidth": 0,
              "ticks": ""
             }
            },
            "type": "parcoords"
           }
          ],
          "pie": [
           {
            "automargin": true,
            "type": "pie"
           }
          ],
          "scatter": [
           {
            "fillpattern": {
             "fillmode": "overlay",
             "size": 10,
             "solidity": 0.2
            },
            "type": "scatter"
           }
          ],
          "scatter3d": [
           {
            "line": {
             "colorbar": {
              "outlinewidth": 0,
              "ticks": ""
             }
            },
            "marker": {
             "colorbar": {
              "outlinewidth": 0,
              "ticks": ""
             }
            },
            "type": "scatter3d"
           }
          ],
          "scattercarpet": [
           {
            "marker": {
             "colorbar": {
              "outlinewidth": 0,
              "ticks": ""
             }
            },
            "type": "scattercarpet"
           }
          ],
          "scattergeo": [
           {
            "marker": {
             "colorbar": {
              "outlinewidth": 0,
              "ticks": ""
             }
            },
            "type": "scattergeo"
           }
          ],
          "scattergl": [
           {
            "marker": {
             "colorbar": {
              "outlinewidth": 0,
              "ticks": ""
             }
            },
            "type": "scattergl"
           }
          ],
          "scattermap": [
           {
            "marker": {
             "colorbar": {
              "outlinewidth": 0,
              "ticks": ""
             }
            },
            "type": "scattermap"
           }
          ],
          "scattermapbox": [
           {
            "marker": {
             "colorbar": {
              "outlinewidth": 0,
              "ticks": ""
             }
            },
            "type": "scattermapbox"
           }
          ],
          "scatterpolar": [
           {
            "marker": {
             "colorbar": {
              "outlinewidth": 0,
              "ticks": ""
             }
            },
            "type": "scatterpolar"
           }
          ],
          "scatterpolargl": [
           {
            "marker": {
             "colorbar": {
              "outlinewidth": 0,
              "ticks": ""
             }
            },
            "type": "scatterpolargl"
           }
          ],
          "scatterternary": [
           {
            "marker": {
             "colorbar": {
              "outlinewidth": 0,
              "ticks": ""
             }
            },
            "type": "scatterternary"
           }
          ],
          "surface": [
           {
            "colorbar": {
             "outlinewidth": 0,
             "ticks": ""
            },
            "colorscale": [
             [
              0,
              "#0d0887"
             ],
             [
              0.1111111111111111,
              "#46039f"
             ],
             [
              0.2222222222222222,
              "#7201a8"
             ],
             [
              0.3333333333333333,
              "#9c179e"
             ],
             [
              0.4444444444444444,
              "#bd3786"
             ],
             [
              0.5555555555555556,
              "#d8576b"
             ],
             [
              0.6666666666666666,
              "#ed7953"
             ],
             [
              0.7777777777777778,
              "#fb9f3a"
             ],
             [
              0.8888888888888888,
              "#fdca26"
             ],
             [
              1,
              "#f0f921"
             ]
            ],
            "type": "surface"
           }
          ],
          "table": [
           {
            "cells": {
             "fill": {
              "color": "#EBF0F8"
             },
             "line": {
              "color": "white"
             }
            },
            "header": {
             "fill": {
              "color": "#C8D4E3"
             },
             "line": {
              "color": "white"
             }
            },
            "type": "table"
           }
          ]
         },
         "layout": {
          "annotationdefaults": {
           "arrowcolor": "#2a3f5f",
           "arrowhead": 0,
           "arrowwidth": 1
          },
          "autotypenumbers": "strict",
          "coloraxis": {
           "colorbar": {
            "outlinewidth": 0,
            "ticks": ""
           }
          },
          "colorscale": {
           "diverging": [
            [
             0,
             "#8e0152"
            ],
            [
             0.1,
             "#c51b7d"
            ],
            [
             0.2,
             "#de77ae"
            ],
            [
             0.3,
             "#f1b6da"
            ],
            [
             0.4,
             "#fde0ef"
            ],
            [
             0.5,
             "#f7f7f7"
            ],
            [
             0.6,
             "#e6f5d0"
            ],
            [
             0.7,
             "#b8e186"
            ],
            [
             0.8,
             "#7fbc41"
            ],
            [
             0.9,
             "#4d9221"
            ],
            [
             1,
             "#276419"
            ]
           ],
           "sequential": [
            [
             0,
             "#0d0887"
            ],
            [
             0.1111111111111111,
             "#46039f"
            ],
            [
             0.2222222222222222,
             "#7201a8"
            ],
            [
             0.3333333333333333,
             "#9c179e"
            ],
            [
             0.4444444444444444,
             "#bd3786"
            ],
            [
             0.5555555555555556,
             "#d8576b"
            ],
            [
             0.6666666666666666,
             "#ed7953"
            ],
            [
             0.7777777777777778,
             "#fb9f3a"
            ],
            [
             0.8888888888888888,
             "#fdca26"
            ],
            [
             1,
             "#f0f921"
            ]
           ],
           "sequentialminus": [
            [
             0,
             "#0d0887"
            ],
            [
             0.1111111111111111,
             "#46039f"
            ],
            [
             0.2222222222222222,
             "#7201a8"
            ],
            [
             0.3333333333333333,
             "#9c179e"
            ],
            [
             0.4444444444444444,
             "#bd3786"
            ],
            [
             0.5555555555555556,
             "#d8576b"
            ],
            [
             0.6666666666666666,
             "#ed7953"
            ],
            [
             0.7777777777777778,
             "#fb9f3a"
            ],
            [
             0.8888888888888888,
             "#fdca26"
            ],
            [
             1,
             "#f0f921"
            ]
           ]
          },
          "colorway": [
           "#636efa",
           "#EF553B",
           "#00cc96",
           "#ab63fa",
           "#FFA15A",
           "#19d3f3",
           "#FF6692",
           "#B6E880",
           "#FF97FF",
           "#FECB52"
          ],
          "font": {
           "color": "#2a3f5f"
          },
          "geo": {
           "bgcolor": "white",
           "lakecolor": "white",
           "landcolor": "#E5ECF6",
           "showlakes": true,
           "showland": true,
           "subunitcolor": "white"
          },
          "hoverlabel": {
           "align": "left"
          },
          "hovermode": "closest",
          "mapbox": {
           "style": "light"
          },
          "paper_bgcolor": "white",
          "plot_bgcolor": "#E5ECF6",
          "polar": {
           "angularaxis": {
            "gridcolor": "white",
            "linecolor": "white",
            "ticks": ""
           },
           "bgcolor": "#E5ECF6",
           "radialaxis": {
            "gridcolor": "white",
            "linecolor": "white",
            "ticks": ""
           }
          },
          "scene": {
           "xaxis": {
            "backgroundcolor": "#E5ECF6",
            "gridcolor": "white",
            "gridwidth": 2,
            "linecolor": "white",
            "showbackground": true,
            "ticks": "",
            "zerolinecolor": "white"
           },
           "yaxis": {
            "backgroundcolor": "#E5ECF6",
            "gridcolor": "white",
            "gridwidth": 2,
            "linecolor": "white",
            "showbackground": true,
            "ticks": "",
            "zerolinecolor": "white"
           },
           "zaxis": {
            "backgroundcolor": "#E5ECF6",
            "gridcolor": "white",
            "gridwidth": 2,
            "linecolor": "white",
            "showbackground": true,
            "ticks": "",
            "zerolinecolor": "white"
           }
          },
          "shapedefaults": {
           "line": {
            "color": "#2a3f5f"
           }
          },
          "ternary": {
           "aaxis": {
            "gridcolor": "white",
            "linecolor": "white",
            "ticks": ""
           },
           "baxis": {
            "gridcolor": "white",
            "linecolor": "white",
            "ticks": ""
           },
           "bgcolor": "#E5ECF6",
           "caxis": {
            "gridcolor": "white",
            "linecolor": "white",
            "ticks": ""
           }
          },
          "title": {
           "x": 0.05
          },
          "xaxis": {
           "automargin": true,
           "gridcolor": "white",
           "linecolor": "white",
           "ticks": "",
           "title": {
            "standoff": 15
           },
           "zerolinecolor": "white",
           "zerolinewidth": 2
          },
          "yaxis": {
           "automargin": true,
           "gridcolor": "white",
           "linecolor": "white",
           "ticks": "",
           "title": {
            "standoff": 15
           },
           "zerolinecolor": "white",
           "zerolinewidth": 2
          }
         }
        },
        "title": {
         "text": "Top 20 articles en quantité"
        },
        "width": 1000,
        "xaxis": {
         "anchor": "y",
         "domain": [
          0,
          1
         ],
         "title": {
          "text": "ranking"
         }
        },
        "yaxis": {
         "anchor": "x",
         "domain": [
          0,
          1
         ],
         "title": {
          "text": "total_sales"
         }
        }
       }
      }
     },
     "metadata": {},
     "output_type": "display_data"
    }
   ],
   "source": [
    "#####################################\n",
    "# Palmares des articles en quantité #\n",
    "#####################################\n",
    "\n",
    "#Effectuer le tri dans l'ordre décroissant de quantités vendues du dataset df_merge\n",
    "df_final = df_final.sort_values(by='total_sales', ascending=False)\n",
    "\n",
    "#Réinitialiser l'index du dataset par un reset_index\n",
    "df_final = df_final.reset_index(drop=True)\n",
    "\n",
    "#Afficher les 20 premiers articles en quantité\n",
    "print(df_final.head(20))\n",
    "\n",
    "#Graphique en barre des 20 premiers articles avec plotly express\n",
    "\n",
    "\n",
    "# Trier les articles par quantité vendue décroissante et sélectionner les 20 premiers\n",
    "top_20_articles = df_final.head(20)\n",
    "\n",
    "# Ajouter une colonne de classement\n",
    "top_20_articles['ranking'] = range(1, len(top_20_articles) + 1)\n",
    "\n",
    "# Créer le graphique en barre avec des barres plus épaisses et une largeur maximale\n",
    "fig = px.bar(top_20_articles, x='ranking', y='total_sales', title='Top 20 articles en quantité')\n",
    "\n",
    "# Ajuster la mise en page pour définir une largeur maximale\n",
    "fig.update_layout(bargap=0.2, bargroupgap=0.1, width=1000)  # Ajustez les valeurs selon vos besoins\n",
    "\n",
    "# Afficher le graphique\n",
    "fig.show()\n",
    "\n"
   ]
  },
  {
   "cell_type": "code",
   "execution_count": 59,
   "id": "2aad021e",
   "metadata": {},
   "outputs": [
    {
     "name": "stdout",
     "output_type": "stream",
     "text": [
      "Nombre d'articles représentant 80% des ventes en CA : 433\n",
      "Proportion de ces articles dans le catalogue entier : 52.42%\n"
     ]
    }
   ],
   "source": [
    "#############################\n",
    "# Calculer le 20 / 80 en CA #\n",
    "#############################\n",
    "\n",
    "# Créer une colonne calculant la part du CA de la ligne dans le dataset\n",
    "df_final['%_total_sales'] = df_final['total_sales'] / df_final['total_sales'].sum()\n",
    "\n",
    "# Créer une colonne réalisant la somme cumulative de la colonne précédemment créée\n",
    "df_final['somme_cumulative_ts'] = df_final['%_total_sales'].cumsum()\n",
    "\n",
    "# Calculer le nombre d'articles représentant 80% des ventes en CA\n",
    "articles_80_ca_ts = df_final[df_final['somme_cumulative_ts'] <= 0.80]\n",
    "nombre_articles_80_ca_ts = articles_80_ca_ts.shape[0]\n",
    "\n",
    "# Afficher la proportion que représentent ce groupe d'articles dans le catalogue entier du site web\n",
    "proportion_articles_80_ca_ts = nombre_articles_80_ca_ts / df_final.shape[0]\n",
    "\n",
    "print(f'Nombre d\\'articles représentant 80% des ventes en CA : {nombre_articles_80_ca_ts}')\n",
    "print(f'Proportion de ces articles dans le catalogue entier : {proportion_articles_80_ca_ts:.2%}')\n"
   ]
  },
  {
   "cell_type": "markdown",
   "id": "077789b1",
   "metadata": {},
   "source": [
    "<div style=\"border: 1px solid RGB(51,165,182);\" >\n",
    "<h3 style=\"margin: auto; padding: 20px; color: RGB(51,165,182); \">Etape 5.3 - Analyse des stocks</h3>\n",
    "</div>"
   ]
  },
  {
   "cell_type": "code",
   "execution_count": 60,
   "id": "080ffaaf",
   "metadata": {},
   "outputs": [
    {
     "data": {
      "text/html": [
       "<div>\n",
       "<style scoped>\n",
       "    .dataframe tbody tr th:only-of-type {\n",
       "        vertical-align: middle;\n",
       "    }\n",
       "\n",
       "    .dataframe tbody tr th {\n",
       "        vertical-align: top;\n",
       "    }\n",
       "\n",
       "    .dataframe thead th {\n",
       "        text-align: right;\n",
       "    }\n",
       "</style>\n",
       "<table border=\"1\" class=\"dataframe\">\n",
       "  <thead>\n",
       "    <tr style=\"text-align: right;\">\n",
       "      <th></th>\n",
       "      <th>product_id</th>\n",
       "      <th>onsale_web</th>\n",
       "      <th>price</th>\n",
       "      <th>stock_quantity</th>\n",
       "      <th>stock_status</th>\n",
       "      <th>purchase_price</th>\n",
       "      <th>id_web</th>\n",
       "      <th>total_sales</th>\n",
       "      <th>tax_status</th>\n",
       "      <th>product_type</th>\n",
       "      <th>post_title</th>\n",
       "      <th>post_date_gmt</th>\n",
       "      <th>post_modified</th>\n",
       "      <th>post_name</th>\n",
       "      <th>post_type</th>\n",
       "      <th>z_score</th>\n",
       "      <th>ca_par_article</th>\n",
       "      <th>%_ca_par_article</th>\n",
       "      <th>somme_cumulative</th>\n",
       "      <th>%_total_sales</th>\n",
       "      <th>somme_cumulative_ts</th>\n",
       "    </tr>\n",
       "  </thead>\n",
       "  <tbody>\n",
       "    <tr>\n",
       "      <th>0</th>\n",
       "      <td>4867</td>\n",
       "      <td>1</td>\n",
       "      <td>9.9</td>\n",
       "      <td>121</td>\n",
       "      <td>instock</td>\n",
       "      <td>4.86</td>\n",
       "      <td>16148</td>\n",
       "      <td>36.0</td>\n",
       "      <td>taxable</td>\n",
       "      <td>Vin</td>\n",
       "      <td>Château De La Selve IGP Coteaux de l'Ardèche M...</td>\n",
       "      <td>2018-05-03 11:20:05</td>\n",
       "      <td>2020-08-27 09:30:15</td>\n",
       "      <td>chateau-de-la-selve-igp-coteaux-de-lardeche-ma...</td>\n",
       "      <td>product</td>\n",
       "      <td>-0.842844</td>\n",
       "      <td>356.4</td>\n",
       "      <td>0.002481</td>\n",
       "      <td>0.227993</td>\n",
       "      <td>0.006260</td>\n",
       "      <td>0.006260</td>\n",
       "    </tr>\n",
       "    <tr>\n",
       "      <th>1</th>\n",
       "      <td>4203</td>\n",
       "      <td>1</td>\n",
       "      <td>9.9</td>\n",
       "      <td>74</td>\n",
       "      <td>instock</td>\n",
       "      <td>5.01</td>\n",
       "      <td>15415</td>\n",
       "      <td>27.0</td>\n",
       "      <td>taxable</td>\n",
       "      <td>Vin</td>\n",
       "      <td>Mas Laval IGP Pays d'Hérault Les Pampres Blanc...</td>\n",
       "      <td>2018-02-15 13:33:42</td>\n",
       "      <td>2020-07-11 16:45:03</td>\n",
       "      <td>mas-laval-igp-pays-herault-pampres-blanc-2018</td>\n",
       "      <td>product</td>\n",
       "      <td>-0.842844</td>\n",
       "      <td>267.3</td>\n",
       "      <td>0.001860</td>\n",
       "      <td>0.402390</td>\n",
       "      <td>0.004695</td>\n",
       "      <td>0.010955</td>\n",
       "    </tr>\n",
       "    <tr>\n",
       "      <th>2</th>\n",
       "      <td>4275</td>\n",
       "      <td>1</td>\n",
       "      <td>14.9</td>\n",
       "      <td>62</td>\n",
       "      <td>instock</td>\n",
       "      <td>7.78</td>\n",
       "      <td>14864</td>\n",
       "      <td>24.0</td>\n",
       "      <td>taxable</td>\n",
       "      <td>Vin</td>\n",
       "      <td>I Fabbri Chianti Classico Lamole 2017</td>\n",
       "      <td>2018-02-27 12:33:54</td>\n",
       "      <td>2020-08-22 14:35:02</td>\n",
       "      <td>i-fabbri-chianti-classico-lamole-2017</td>\n",
       "      <td>product</td>\n",
       "      <td>-0.654750</td>\n",
       "      <td>357.6</td>\n",
       "      <td>0.002489</td>\n",
       "      <td>0.215575</td>\n",
       "      <td>0.004173</td>\n",
       "      <td>0.015128</td>\n",
       "    </tr>\n",
       "  </tbody>\n",
       "</table>\n",
       "</div>"
      ],
      "text/plain": [
       "   product_id  onsale_web  price  stock_quantity stock_status  purchase_price  \\\n",
       "0        4867           1    9.9             121      instock            4.86   \n",
       "1        4203           1    9.9              74      instock            5.01   \n",
       "2        4275           1   14.9              62      instock            7.78   \n",
       "\n",
       "  id_web  total_sales tax_status product_type  \\\n",
       "0  16148         36.0    taxable          Vin   \n",
       "1  15415         27.0    taxable          Vin   \n",
       "2  14864         24.0    taxable          Vin   \n",
       "\n",
       "                                          post_title       post_date_gmt  \\\n",
       "0  Château De La Selve IGP Coteaux de l'Ardèche M... 2018-05-03 11:20:05   \n",
       "1  Mas Laval IGP Pays d'Hérault Les Pampres Blanc... 2018-02-15 13:33:42   \n",
       "2              I Fabbri Chianti Classico Lamole 2017 2018-02-27 12:33:54   \n",
       "\n",
       "        post_modified                                          post_name  \\\n",
       "0 2020-08-27 09:30:15  chateau-de-la-selve-igp-coteaux-de-lardeche-ma...   \n",
       "1 2020-07-11 16:45:03      mas-laval-igp-pays-herault-pampres-blanc-2018   \n",
       "2 2020-08-22 14:35:02              i-fabbri-chianti-classico-lamole-2017   \n",
       "\n",
       "  post_type   z_score  ca_par_article  %_ca_par_article  somme_cumulative  \\\n",
       "0   product -0.842844           356.4          0.002481          0.227993   \n",
       "1   product -0.842844           267.3          0.001860          0.402390   \n",
       "2   product -0.654750           357.6          0.002489          0.215575   \n",
       "\n",
       "   %_total_sales  somme_cumulative_ts  \n",
       "0       0.006260             0.006260  \n",
       "1       0.004695             0.010955  \n",
       "2       0.004173             0.015128  "
      ]
     },
     "execution_count": 60,
     "metadata": {},
     "output_type": "execute_result"
    }
   ],
   "source": [
    "df_final.head(3)"
   ]
  },
  {
   "cell_type": "code",
   "execution_count": 61,
   "id": "14e45472",
   "metadata": {},
   "outputs": [
    {
     "name": "stderr",
     "output_type": "stream",
     "text": [
      "C:\\Users\\SKIKK\\AppData\\Local\\Temp\\ipykernel_15624\\1539939315.py:12: FutureWarning:\n",
      "\n",
      "A value is trying to be set on a copy of a DataFrame or Series through chained assignment using an inplace method.\n",
      "The behavior will change in pandas 3.0. This inplace method will never work because the intermediate object on which we are setting values always behaves as a copy.\n",
      "\n",
      "For example, when doing 'df[col].method(value, inplace=True)', try using 'df.method({col: value}, inplace=True)' or df[col] = df[col].method(value) instead, to perform the operation inplace on the original object.\n",
      "\n",
      "\n",
      "\n"
     ]
    },
    {
     "data": {
      "text/plain": [
       "<Axes: xlabel='post_title'>"
      ]
     },
     "execution_count": 61,
     "metadata": {},
     "output_type": "execute_result"
    },
    {
     "data": {
      "image/png": "[encoded data removed]",
      "text/plain": [
       "<Figure size 640x480 with 1 Axes>"
      ]
     },
     "metadata": {},
     "output_type": "display_data"
    }
   ],
   "source": [
    "######################################\n",
    "# Calcule le nombre de mois de stock #\n",
    "######################################\n",
    "\n",
    "\n",
    "#Création de la colonne Rotation de stock ca/stock_quantity\n",
    "\n",
    "df_final['Rotation_de_stock'] = df_final['ca_par_article'] / df_final['stock_quantity']\n",
    "\n",
    "#Remplacement des \"inf\" par 0\n",
    "\n",
    "df_final['Rotation_de_stock'].replace(np.inf, 0, inplace=True)\n",
    "\n",
    "#Effectuer le tri dans l'ordre décroissant du nombre de mois de stock dans le dataset df_merge\n",
    "df_final = df_final.sort_values(by='Rotation_de_stock', ascending=False)\n",
    "\n",
    "#Graphique en barre du flop 20 des produits qui ont le plus de mois de stock\n",
    "df_final.head(20).plot(kind='bar', x='post_title', y='Rotation_de_stock')\n"
   ]
  },
  {
   "cell_type": "code",
   "execution_count": 62,
   "id": "0cd6696c",
   "metadata": {},
   "outputs": [
    {
     "name": "stdout",
     "output_type": "stream",
     "text": [
      "Total valorisation des stocks en euros: 532776.7\n"
     ]
    }
   ],
   "source": [
    "####################################\n",
    "# Valorisation des stocks en euros #\n",
    "####################################\n",
    "\n",
    "# Création de la colonne Valorisation des stocks en euros\n",
    "df_final['stock_euro'] = df_final['stock_quantity'] * df_final['price']\n",
    "\n",
    "# Calculer la somme de la colonne \"stock_euro\"\n",
    "total_stock_value = df_final['stock_euro'].sum()\n",
    "\n",
    "# Afficher la somme\n",
    "print(\"Total valorisation des stocks en euros:\", total_stock_value)"
   ]
  },
  {
   "cell_type": "code",
   "execution_count": 63,
   "id": "4a3dd99d",
   "metadata": {},
   "outputs": [
    {
     "name": "stdout",
     "output_type": "stream",
     "text": [
      "Total du nombre de produits en stock: 17834\n"
     ]
    }
   ],
   "source": [
    "##############################################\n",
    "# Valorisation du nombre de produit en stock #\n",
    "##############################################\n",
    "\n",
    "# Calculer la somme de la colonne stock_quantity\n",
    "total_stock_quantity = df_final['stock_quantity'].sum()\n",
    "\n",
    "# Afficher la somme\n",
    "print(\"Total du nombre de produits en stock:\", total_stock_quantity)"
   ]
  },
  {
   "cell_type": "markdown",
   "id": "9e48f6dc",
   "metadata": {},
   "source": [
    "<div style=\"border: 1px solid RGB(51,165,182);\" >\n",
    "<h3 style=\"margin: auto; padding: 20px; color: RGB(51,165,182); \">Etape 5.4 - Analyse du taux de marge</h3>\n",
    "</div>"
   ]
  },
  {
   "cell_type": "code",
   "execution_count": 64,
   "id": "7de5ca46",
   "metadata": {},
   "outputs": [
    {
     "name": "stdout",
     "output_type": "stream",
     "text": [
      "-634.98814229249\n",
      "56.00464576074332\n"
     ]
    }
   ],
   "source": [
    "############################\n",
    "# Analyse du taux de marge #\n",
    "############################\n",
    "\n",
    "#Création de la colonne prix HT\n",
    "#tva = 20%\n",
    "df_final['HT'] = df_final.apply(lambda row: row['price'] / 1.2 if row['tax_status'] == 'taxable' else row['price'], axis=1)\n",
    "  \n",
    "\n",
    "#Création de la colonne Taux de marge\n",
    "\n",
    "df_final['taux_marge'] = (df_final['HT'] - df_final['purchase_price']) / df_final['HT'] * 100\n",
    "\n",
    "#Afficher le prix minimum de la colonne \"taux_marge\"\n",
    "print(df_final['taux_marge'].min())\n",
    "\n",
    "#Afficher le prix maximum de la colonne \"taux_marge\"\n",
    "print(df_final['taux_marge'].max())\n",
    "\n",
    "\n"
   ]
  },
  {
   "cell_type": "code",
   "execution_count": 65,
   "id": "6082d42b",
   "metadata": {},
   "outputs": [
    {
     "name": "stdout",
     "output_type": "stream",
     "text": [
      "     product_id  onsale_web  price  stock_quantity stock_status  \\\n",
      "701        4355           1  12.65              97      instock   \n",
      "726        4864           0   8.30               0   outofstock   \n",
      "771        6324           0  92.00              18      instock   \n",
      "821        7196           0  31.00              55      instock   \n",
      "\n",
      "     purchase_price id_web  total_sales tax_status product_type  \\\n",
      "701           77.48  12589          0.0    taxable    Champagne   \n",
      "726            9.99  15154          NaN        NaN          NaN   \n",
      "771           99.00    NaN          NaN        NaN          NaN   \n",
      "821           31.20    NaN          NaN        NaN          NaN   \n",
      "\n",
      "                                         post_title       post_date_gmt  \\\n",
      "701  Champagne Egly-Ouriet Grand Cru Blanc de Noirs 2018-03-02 09:46:10   \n",
      "726                                             NaN                 NaT   \n",
      "771                                             NaN                 NaT   \n",
      "821                                             NaN                 NaT   \n",
      "\n",
      "          post_modified                                          post_name  \\\n",
      "701 2020-08-13 10:15:02  champagne-egly-ouriet-grand-cru-brut-blanc-de-...   \n",
      "726                 NaT                                                NaN   \n",
      "771                 NaT                                                NaN   \n",
      "821                 NaT                                                NaN   \n",
      "\n",
      "    post_type   z_score  ca_par_article  %_ca_par_article  somme_cumulative  \\\n",
      "701   product -0.739392             0.0               0.0               1.0   \n",
      "726       NaN -0.903034             NaN               NaN               NaN   \n",
      "771       NaN  2.245653             NaN               NaN               NaN   \n",
      "821       NaN -0.049089             NaN               NaN               NaN   \n",
      "\n",
      "     %_total_sales  somme_cumulative_ts  Rotation_de_stock  stock_euro  \\\n",
      "701            0.0                  1.0                0.0     1227.05   \n",
      "726            NaN                  NaN                NaN        0.00   \n",
      "771            NaN                  NaN                NaN     1656.00   \n",
      "821            NaN                  NaN                NaN     1705.00   \n",
      "\n",
      "            HT  taux_marge  \n",
      "701  10.541667 -634.988142  \n",
      "726   8.300000  -20.361446  \n",
      "771  92.000000   -7.608696  \n",
      "821  31.000000   -0.645161  \n"
     ]
    }
   ],
   "source": [
    "#affichage de la ligne avec un taux de marge inférieur à 0\n",
    "print(df_final[df_final['taux_marge'] < 0])\n",
    "\n"
   ]
  },
  {
   "cell_type": "code",
   "execution_count": 66,
   "id": "d756037c",
   "metadata": {},
   "outputs": [
    {
     "name": "stdout",
     "output_type": "stream",
     "text": [
      "22.77862595419847\n",
      "56.00464576074332\n"
     ]
    }
   ],
   "source": [
    "# Création d'un dataframe avec les taux positifs\n",
    "df_positif = df_final[df_final['taux_marge'] > 0]\n",
    "\n",
    "# Afficher le prix minimum de la colonne \"taux_marge\"\n",
    "print(df_positif['taux_marge'].min())\n",
    "\n",
    "# Afficher le prix maximum de la colonne \"taux_marge\"\n",
    "print(df_positif['taux_marge'].max())\n",
    "\n",
    "\n"
   ]
  },
  {
   "cell_type": "code",
   "execution_count": 67,
   "id": "b24042f8",
   "metadata": {},
   "outputs": [
    {
     "data": {
      "image/png": "[encoded data removed]",
      "text/plain": [
       "<Figure size 1000x600 with 1 Axes>"
      ]
     },
     "metadata": {},
     "output_type": "display_data"
    }
   ],
   "source": [
    "# Création d'un dataframe avec le taux de marge moyen par type de produit\n",
    "df_moyenne = df_positif.groupby('product_type')['taux_marge'].mean().reset_index()\n",
    "\n",
    "# Affichage dans un graphique du taux de marge par type de produit\n",
    "plt.figure(figsize=(10, 6))\n",
    "plt.bar(df_moyenne['product_type'], df_moyenne['taux_marge'], color='skyblue')\n",
    "plt.xlabel('Type de Produit')\n",
    "plt.ylabel('Taux de Marge Moyen')\n",
    "plt.title('Taux de Marge Moyen par Type de Produit')\n",
    "plt.xticks(rotation=45)\n",
    "plt.show()\n"
   ]
  },
  {
   "cell_type": "markdown",
   "id": "ce216060",
   "metadata": {},
   "source": [
    "<div style=\"border: 1px solid RGB(51,165,182);\" >\n",
    "<h3 style=\"margin: auto; padding: 20px; color: RGB(51,165,182); \">Etape 5.5 - Analyse des correlations entre les variables stock, sales et price</h3>\n",
    "</div>"
   ]
  },
  {
   "cell_type": "code",
   "execution_count": 68,
   "id": "12e4a540",
   "metadata": {},
   "outputs": [
    {
     "data": {
      "image/png": "[encoded data removed]",
      "text/plain": [
       "<Figure size 1000x800 with 2 Axes>"
      ]
     },
     "metadata": {},
     "output_type": "display_data"
    }
   ],
   "source": [
    "############################\n",
    "# Analyse des correlations #\n",
    "############################\n",
    "\n",
    "#Importation de Seaborn\n",
    "\n",
    "\n",
    "# Calculate the correlation matrix\n",
    "corr = df_final[['price', 'stock_quantity', 'total_sales', 'Rotation_de_stock', 'ca_par_article']].corr()\n",
    "\n",
    "# Generate a mask for the upper triangle\n",
    "mask = np.triu(np.ones_like(corr, dtype=bool))\n",
    "\n",
    "# Set up the matplotlib figure\n",
    "plt.figure(figsize=(10, 8))\n",
    "\n",
    "# Draw the heatmap with the mask and correct aspect ratio\n",
    "sns.heatmap(corr, mask=mask, annot=True, cmap='coolwarm', vmin=-1, vmax=1, center=0, square=True, linewidths=.5)\n",
    "\n",
    "plt.title('Heatmap de Corrélation')\n",
    "plt.show()"
   ]
  },
  {
   "cell_type": "code",
   "execution_count": 69,
   "id": "c49d1459",
   "metadata": {},
   "outputs": [],
   "source": [
    "#Que peut-on conclure des correlations ?"
   ]
  },
  {
   "cell_type": "markdown",
   "id": "f1d22f1d",
   "metadata": {},
   "source": [
    "<div style=\"border: 1px solid RGB(51,165,182);\" >\n",
    "<h3 style=\"margin: auto; padding: 20px; color: RGB(51,165,182); \">Etape 5.6 - Mettre à disposition la nouvelle table sur un fichier Excel</h3>\n",
    "</div>"
   ]
  },
  {
   "cell_type": "code",
   "execution_count": 70,
   "id": "09bfe632",
   "metadata": {},
   "outputs": [],
   "source": [
    "#Mettre le dataset df_merge sur un fichier Excel\n",
    "df_final.to_excel('df_final.xlsx', index=False)\n",
    "#Cette étape peut-être utile pour partager le résultat du dataset obtenu pour le partager avec les équipes.  \n"
   ]
  }
 ],
 "metadata": {
  "kernelspec": {
   "display_name": "Python 3",
   "language": "python",
   "name": "python3"
  },
  "language_info": {
   "codemirror_mode": {
    "name": "ipython",
    "version": 3
   },
   "file_extension": ".py",
   "mimetype": "text/x-python",
   "name": "python",
   "nbconvert_exporter": "python",
   "pygments_lexer": "ipython3",
   "version": "3.13.2"
  }
 },
 "nbformat": 4,
 "nbformat_minor": 5
}
