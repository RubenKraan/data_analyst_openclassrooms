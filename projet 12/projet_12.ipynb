{
 "cells": [
  {
   "cell_type": "code",
   "execution_count": 30,
   "id": "fe73a968",
   "metadata": {},
   "outputs": [],
   "source": [
    "# load in libraries\n",
    "import pandas as pd\n",
    "import numpy as np\n",
    "import matplotlib.pyplot as plt\n",
    "import seaborn as sns\n"
   ]
  },
  {
   "cell_type": "code",
   "execution_count": 31,
   "id": "3ab37364",
   "metadata": {},
   "outputs": [],
   "source": [
    "# import the data\n",
    "df = pd.read_excel('Billets.xlsx')"
   ]
  },
  {
   "cell_type": "code",
   "execution_count": 32,
   "id": "6965b881",
   "metadata": {},
   "outputs": [
    {
     "data": {
      "application/vnd.microsoft.datawrangler.viewer.v0+json": {
       "columns": [
        {
         "name": "index",
         "rawType": "int64",
         "type": "integer"
        },
        {
         "name": "is_genuine",
         "rawType": "bool",
         "type": "boolean"
        },
        {
         "name": "diagonal",
         "rawType": "float64",
         "type": "float"
        },
        {
         "name": "height_left",
         "rawType": "float64",
         "type": "float"
        },
        {
         "name": "height_right",
         "rawType": "float64",
         "type": "float"
        },
        {
         "name": "margin_low",
         "rawType": "float64",
         "type": "float"
        },
        {
         "name": "margin_up",
         "rawType": "float64",
         "type": "float"
        },
        {
         "name": "length",
         "rawType": "float64",
         "type": "float"
        }
       ],
       "ref": "d4d7541a-18e2-4e6e-a2b1-060368413d92",
       "rows": [
        [
         "0",
         "True",
         "171.81",
         "104.86",
         "104.95",
         "4.52",
         "2.89",
         "112.83"
        ],
        [
         "1",
         "True",
         "171.46",
         "103.36",
         "103.66",
         "3.77",
         "2.99",
         "113.09"
        ],
        [
         "2",
         "True",
         "172.69",
         "104.48",
         "103.5",
         "4.4",
         "2.94",
         "113.16"
        ],
        [
         "3",
         "True",
         "171.36",
         "103.91",
         "103.94",
         "3.62",
         "3.01",
         "113.51"
        ],
        [
         "4",
         "True",
         "171.73",
         "104.28",
         "103.46",
         "4.04",
         "3.48",
         "112.54"
        ]
       ],
       "shape": {
        "columns": 7,
        "rows": 5
       }
      },
      "text/html": [
       "<div>\n",
       "<style scoped>\n",
       "    .dataframe tbody tr th:only-of-type {\n",
       "        vertical-align: middle;\n",
       "    }\n",
       "\n",
       "    .dataframe tbody tr th {\n",
       "        vertical-align: top;\n",
       "    }\n",
       "\n",
       "    .dataframe thead th {\n",
       "        text-align: right;\n",
       "    }\n",
       "</style>\n",
       "<table border=\"1\" class=\"dataframe\">\n",
       "  <thead>\n",
       "    <tr style=\"text-align: right;\">\n",
       "      <th></th>\n",
       "      <th>is_genuine</th>\n",
       "      <th>diagonal</th>\n",
       "      <th>height_left</th>\n",
       "      <th>height_right</th>\n",
       "      <th>margin_low</th>\n",
       "      <th>margin_up</th>\n",
       "      <th>length</th>\n",
       "    </tr>\n",
       "  </thead>\n",
       "  <tbody>\n",
       "    <tr>\n",
       "      <th>0</th>\n",
       "      <td>True</td>\n",
       "      <td>171.81</td>\n",
       "      <td>104.86</td>\n",
       "      <td>104.95</td>\n",
       "      <td>4.52</td>\n",
       "      <td>2.89</td>\n",
       "      <td>112.83</td>\n",
       "    </tr>\n",
       "    <tr>\n",
       "      <th>1</th>\n",
       "      <td>True</td>\n",
       "      <td>171.46</td>\n",
       "      <td>103.36</td>\n",
       "      <td>103.66</td>\n",
       "      <td>3.77</td>\n",
       "      <td>2.99</td>\n",
       "      <td>113.09</td>\n",
       "    </tr>\n",
       "    <tr>\n",
       "      <th>2</th>\n",
       "      <td>True</td>\n",
       "      <td>172.69</td>\n",
       "      <td>104.48</td>\n",
       "      <td>103.50</td>\n",
       "      <td>4.40</td>\n",
       "      <td>2.94</td>\n",
       "      <td>113.16</td>\n",
       "    </tr>\n",
       "    <tr>\n",
       "      <th>3</th>\n",
       "      <td>True</td>\n",
       "      <td>171.36</td>\n",
       "      <td>103.91</td>\n",
       "      <td>103.94</td>\n",
       "      <td>3.62</td>\n",
       "      <td>3.01</td>\n",
       "      <td>113.51</td>\n",
       "    </tr>\n",
       "    <tr>\n",
       "      <th>4</th>\n",
       "      <td>True</td>\n",
       "      <td>171.73</td>\n",
       "      <td>104.28</td>\n",
       "      <td>103.46</td>\n",
       "      <td>4.04</td>\n",
       "      <td>3.48</td>\n",
       "      <td>112.54</td>\n",
       "    </tr>\n",
       "  </tbody>\n",
       "</table>\n",
       "</div>"
      ],
      "text/plain": [
       "   is_genuine  diagonal  height_left  height_right  margin_low  margin_up  \\\n",
       "0        True    171.81       104.86        104.95        4.52       2.89   \n",
       "1        True    171.46       103.36        103.66        3.77       2.99   \n",
       "2        True    172.69       104.48        103.50        4.40       2.94   \n",
       "3        True    171.36       103.91        103.94        3.62       3.01   \n",
       "4        True    171.73       104.28        103.46        4.04       3.48   \n",
       "\n",
       "   length  \n",
       "0  112.83  \n",
       "1  113.09  \n",
       "2  113.16  \n",
       "3  113.51  \n",
       "4  112.54  "
      ]
     },
     "execution_count": 32,
     "metadata": {},
     "output_type": "execute_result"
    }
   ],
   "source": [
    "df.head(5)"
   ]
  },
  {
   "cell_type": "code",
   "execution_count": 33,
   "id": "a16d0f04",
   "metadata": {},
   "outputs": [
    {
     "name": "stdout",
     "output_type": "stream",
     "text": [
      "<class 'pandas.core.frame.DataFrame'>\n",
      "RangeIndex: 1500 entries, 0 to 1499\n",
      "Data columns (total 7 columns):\n",
      " #   Column        Non-Null Count  Dtype  \n",
      "---  ------        --------------  -----  \n",
      " 0   is_genuine    1500 non-null   bool   \n",
      " 1   diagonal      1500 non-null   float64\n",
      " 2   height_left   1500 non-null   float64\n",
      " 3   height_right  1500 non-null   float64\n",
      " 4   margin_low    1463 non-null   float64\n",
      " 5   margin_up     1500 non-null   float64\n",
      " 6   length        1500 non-null   float64\n",
      "dtypes: bool(1), float64(6)\n",
      "memory usage: 71.9 KB\n"
     ]
    },
    {
     "data": {
      "application/vnd.microsoft.datawrangler.viewer.v0+json": {
       "columns": [
        {
         "name": "index",
         "rawType": "object",
         "type": "string"
        },
        {
         "name": "is_genuine",
         "rawType": "float64",
         "type": "float"
        },
        {
         "name": "diagonal",
         "rawType": "float64",
         "type": "float"
        },
        {
         "name": "height_left",
         "rawType": "float64",
         "type": "float"
        },
        {
         "name": "height_right",
         "rawType": "float64",
         "type": "float"
        },
        {
         "name": "margin_low",
         "rawType": "float64",
         "type": "float"
        },
        {
         "name": "margin_up",
         "rawType": "float64",
         "type": "float"
        },
        {
         "name": "length",
         "rawType": "float64",
         "type": "float"
        }
       ],
       "ref": "95ed3908-f55d-4c66-ae64-9e2f1bef2002",
       "rows": [
        [
         "is_genuine",
         "1.0",
         "0.13275632962804756",
         "-0.37983291967786836",
         "-0.485091825206893",
         "-0.7830321435346229",
         "-0.6062622597384426",
         "0.8492846349847402"
        ],
        [
         "diagonal",
         "0.13275632962804756",
         "1.0",
         "0.01947232490990606",
         "-0.024492009807672944",
         "-0.11153407744162304",
         "-0.0556488765045149",
         "0.09758728730097828"
        ],
        [
         "height_left",
         "-0.37983291967786836",
         "0.01947232490990606",
         "1.0",
         "0.24227881027438997",
         "0.30264295841132005",
         "0.24652223569713164",
         "-0.32086275520848384"
        ],
        [
         "height_right",
         "-0.485091825206893",
         "-0.024492009807672944",
         "0.24227881027438997",
         "1.0",
         "0.3910851467550532",
         "0.3070046388609791",
         "-0.401751224353143"
        ],
        [
         "margin_low",
         "-0.7830321435346229",
         "-0.11153407744162304",
         "0.30264295841132005",
         "0.3910851467550532",
         "1.0",
         "0.431606073320315",
         "-0.6667527808935935"
        ],
        [
         "margin_up",
         "-0.6062622597384426",
         "-0.0556488765045149",
         "0.24652223569713164",
         "0.3070046388609791",
         "0.431606073320315",
         "1.0",
         "-0.5205751349009772"
        ],
        [
         "length",
         "0.8492846349847402",
         "0.09758728730097828",
         "-0.32086275520848384",
         "-0.401751224353143",
         "-0.6667527808935935",
         "-0.5205751349009772",
         "1.0"
        ]
       ],
       "shape": {
        "columns": 7,
        "rows": 7
       }
      },
      "text/html": [
       "<div>\n",
       "<style scoped>\n",
       "    .dataframe tbody tr th:only-of-type {\n",
       "        vertical-align: middle;\n",
       "    }\n",
       "\n",
       "    .dataframe tbody tr th {\n",
       "        vertical-align: top;\n",
       "    }\n",
       "\n",
       "    .dataframe thead th {\n",
       "        text-align: right;\n",
       "    }\n",
       "</style>\n",
       "<table border=\"1\" class=\"dataframe\">\n",
       "  <thead>\n",
       "    <tr style=\"text-align: right;\">\n",
       "      <th></th>\n",
       "      <th>is_genuine</th>\n",
       "      <th>diagonal</th>\n",
       "      <th>height_left</th>\n",
       "      <th>height_right</th>\n",
       "      <th>margin_low</th>\n",
       "      <th>margin_up</th>\n",
       "      <th>length</th>\n",
       "    </tr>\n",
       "  </thead>\n",
       "  <tbody>\n",
       "    <tr>\n",
       "      <th>is_genuine</th>\n",
       "      <td>1.000000</td>\n",
       "      <td>0.132756</td>\n",
       "      <td>-0.379833</td>\n",
       "      <td>-0.485092</td>\n",
       "      <td>-0.783032</td>\n",
       "      <td>-0.606262</td>\n",
       "      <td>0.849285</td>\n",
       "    </tr>\n",
       "    <tr>\n",
       "      <th>diagonal</th>\n",
       "      <td>0.132756</td>\n",
       "      <td>1.000000</td>\n",
       "      <td>0.019472</td>\n",
       "      <td>-0.024492</td>\n",
       "      <td>-0.111534</td>\n",
       "      <td>-0.055649</td>\n",
       "      <td>0.097587</td>\n",
       "    </tr>\n",
       "    <tr>\n",
       "      <th>height_left</th>\n",
       "      <td>-0.379833</td>\n",
       "      <td>0.019472</td>\n",
       "      <td>1.000000</td>\n",
       "      <td>0.242279</td>\n",
       "      <td>0.302643</td>\n",
       "      <td>0.246522</td>\n",
       "      <td>-0.320863</td>\n",
       "    </tr>\n",
       "    <tr>\n",
       "      <th>height_right</th>\n",
       "      <td>-0.485092</td>\n",
       "      <td>-0.024492</td>\n",
       "      <td>0.242279</td>\n",
       "      <td>1.000000</td>\n",
       "      <td>0.391085</td>\n",
       "      <td>0.307005</td>\n",
       "      <td>-0.401751</td>\n",
       "    </tr>\n",
       "    <tr>\n",
       "      <th>margin_low</th>\n",
       "      <td>-0.783032</td>\n",
       "      <td>-0.111534</td>\n",
       "      <td>0.302643</td>\n",
       "      <td>0.391085</td>\n",
       "      <td>1.000000</td>\n",
       "      <td>0.431606</td>\n",
       "      <td>-0.666753</td>\n",
       "    </tr>\n",
       "    <tr>\n",
       "      <th>margin_up</th>\n",
       "      <td>-0.606262</td>\n",
       "      <td>-0.055649</td>\n",
       "      <td>0.246522</td>\n",
       "      <td>0.307005</td>\n",
       "      <td>0.431606</td>\n",
       "      <td>1.000000</td>\n",
       "      <td>-0.520575</td>\n",
       "    </tr>\n",
       "    <tr>\n",
       "      <th>length</th>\n",
       "      <td>0.849285</td>\n",
       "      <td>0.097587</td>\n",
       "      <td>-0.320863</td>\n",
       "      <td>-0.401751</td>\n",
       "      <td>-0.666753</td>\n",
       "      <td>-0.520575</td>\n",
       "      <td>1.000000</td>\n",
       "    </tr>\n",
       "  </tbody>\n",
       "</table>\n",
       "</div>"
      ],
      "text/plain": [
       "              is_genuine  diagonal  height_left  height_right  margin_low  \\\n",
       "is_genuine      1.000000  0.132756    -0.379833     -0.485092   -0.783032   \n",
       "diagonal        0.132756  1.000000     0.019472     -0.024492   -0.111534   \n",
       "height_left    -0.379833  0.019472     1.000000      0.242279    0.302643   \n",
       "height_right   -0.485092 -0.024492     0.242279      1.000000    0.391085   \n",
       "margin_low     -0.783032 -0.111534     0.302643      0.391085    1.000000   \n",
       "margin_up      -0.606262 -0.055649     0.246522      0.307005    0.431606   \n",
       "length          0.849285  0.097587    -0.320863     -0.401751   -0.666753   \n",
       "\n",
       "              margin_up    length  \n",
       "is_genuine    -0.606262  0.849285  \n",
       "diagonal      -0.055649  0.097587  \n",
       "height_left    0.246522 -0.320863  \n",
       "height_right   0.307005 -0.401751  \n",
       "margin_low     0.431606 -0.666753  \n",
       "margin_up      1.000000 -0.520575  \n",
       "length        -0.520575  1.000000  "
      ]
     },
     "execution_count": 33,
     "metadata": {},
     "output_type": "execute_result"
    }
   ],
   "source": [
    "# info df\n",
    "df.info()\n",
    "# check for missing values\n",
    "df.isnull().sum()\n",
    "# check for duplicates\n",
    "df.duplicated().sum()\n",
    "# check the data types\n",
    "df.dtypes\n",
    "# check the shape of the data\n",
    "df.shape\n",
    "# check the number of unique values in each column\n",
    "df.nunique()\n",
    "# check the descriptive statistics\n",
    "df.describe()\n",
    "# check the correlation between the columns\n",
    "df.corr()\n",
    "# check the unique values in the 'Type' column"
   ]
  },
  {
   "cell_type": "code",
   "execution_count": 36,
   "id": "ca2d9f5a",
   "metadata": {},
   "outputs": [
    {
     "name": "stdout",
     "output_type": "stream",
     "text": [
      "37\n",
      "      is_genuine  diagonal  height_left  height_right  margin_low  margin_up  \\\n",
      "72          True    171.94       103.89        103.45         NaN       3.25   \n",
      "99          True    171.93       104.07        104.18         NaN       3.14   \n",
      "151         True    172.07       103.80        104.38         NaN       3.02   \n",
      "197         True    171.45       103.66        103.80         NaN       3.62   \n",
      "241         True    171.83       104.14        104.06         NaN       3.02   \n",
      "251         True    171.80       103.26        102.82         NaN       2.95   \n",
      "284         True    171.92       103.83        103.76         NaN       3.23   \n",
      "334         True    171.85       103.70        103.96         NaN       3.00   \n",
      "410         True    172.56       103.72        103.51         NaN       3.12   \n",
      "413         True    172.30       103.66        103.50         NaN       3.16   \n",
      "445         True    172.34       104.42        103.22         NaN       3.01   \n",
      "481         True    171.81       103.53        103.96         NaN       2.71   \n",
      "505         True    172.01       103.97        104.05         NaN       2.98   \n",
      "611         True    171.80       103.68        103.49         NaN       3.30   \n",
      "654         True    171.97       103.69        103.54         NaN       2.70   \n",
      "675         True    171.60       103.85        103.91         NaN       2.56   \n",
      "710         True    172.03       103.97        103.86         NaN       3.07   \n",
      "739         True    172.07       103.74        103.76         NaN       3.09   \n",
      "742         True    172.14       104.06        103.96         NaN       3.24   \n",
      "780         True    172.41       103.95        103.79         NaN       3.13   \n",
      "798         True    171.96       103.84        103.62         NaN       3.01   \n",
      "844         True    171.62       104.14        104.49         NaN       2.99   \n",
      "845         True    172.02       104.21        104.05         NaN       2.90   \n",
      "871         True    171.37       104.07        103.75         NaN       3.07   \n",
      "895         True    171.81       103.68        103.80         NaN       2.98   \n",
      "919         True    171.92       103.68        103.45         NaN       2.58   \n",
      "945         True    172.09       103.74        103.52         NaN       3.02   \n",
      "946         True    171.63       103.87        104.66         NaN       3.27   \n",
      "981         True    172.02       104.23        103.72         NaN       2.99   \n",
      "1076       False    171.57       104.27        104.44         NaN       3.21   \n",
      "1121       False    171.40       104.38        104.19         NaN       3.17   \n",
      "1176       False    171.59       104.05        103.94         NaN       3.02   \n",
      "1303       False    172.17       104.49        103.76         NaN       2.93   \n",
      "1315       False    172.08       104.15        104.17         NaN       3.40   \n",
      "1347       False    171.72       104.46        104.12         NaN       3.61   \n",
      "1435       False    172.66       104.33        104.41         NaN       3.56   \n",
      "1438       False    171.90       104.28        104.29         NaN       3.24   \n",
      "\n",
      "      length  \n",
      "72    112.79  \n",
      "99    113.08  \n",
      "151   112.93  \n",
      "197   113.27  \n",
      "241   112.36  \n",
      "251   113.22  \n",
      "284   113.29  \n",
      "334   113.36  \n",
      "410   112.95  \n",
      "413   112.95  \n",
      "445   112.97  \n",
      "481   113.99  \n",
      "505   113.65  \n",
      "611   112.84  \n",
      "654   112.79  \n",
      "675   113.27  \n",
      "710   112.65  \n",
      "739   112.41  \n",
      "742   113.07  \n",
      "780   113.41  \n",
      "798   114.44  \n",
      "844   113.35  \n",
      "845   113.62  \n",
      "871   113.27  \n",
      "895   113.82  \n",
      "919   113.68  \n",
      "945   112.78  \n",
      "946   112.68  \n",
      "981   113.37  \n",
      "1076  111.87  \n",
      "1121  112.39  \n",
      "1176  111.29  \n",
      "1303  111.21  \n",
      "1315  112.29  \n",
      "1347  110.31  \n",
      "1435  111.47  \n",
      "1438  111.49  \n"
     ]
    }
   ],
   "source": [
    "# print null values in the 'margin low ' column\n",
    "print(df['margin_low'].isnull().sum())\n",
    "# print rows with null values in the 'margin low ' column\n",
    "print(df[df['margin_low'].isnull()])    \n",
    "#drop the rows with null values in the 'margin low ' column\n",
    "df_na = df.dropna(subset=['margin_low'])\n",
    "\n",
    "\n"
   ]
  },
  {
   "cell_type": "code",
   "execution_count": 37,
   "id": "59949f0b",
   "metadata": {},
   "outputs": [
    {
     "name": "stdout",
     "output_type": "stream",
     "text": [
      "<class 'pandas.core.frame.DataFrame'>\n",
      "Index: 1463 entries, 0 to 1499\n",
      "Data columns (total 7 columns):\n",
      " #   Column        Non-Null Count  Dtype  \n",
      "---  ------        --------------  -----  \n",
      " 0   is_genuine    1463 non-null   bool   \n",
      " 1   diagonal      1463 non-null   float64\n",
      " 2   height_left   1463 non-null   float64\n",
      " 3   height_right  1463 non-null   float64\n",
      " 4   margin_low    1463 non-null   float64\n",
      " 5   margin_up     1463 non-null   float64\n",
      " 6   length        1463 non-null   float64\n",
      "dtypes: bool(1), float64(6)\n",
      "memory usage: 81.4 KB\n"
     ]
    }
   ],
   "source": [
    "#check null values in df\n",
    "df_na.isnull().sum()\n",
    "\n",
    "df_na.info()\n",
    "\n",
    "\n",
    "\n"
   ]
  }
 ],
 "metadata": {
  "kernelspec": {
   "display_name": "base",
   "language": "python",
   "name": "python3"
  },
  "language_info": {
   "codemirror_mode": {
    "name": "ipython",
    "version": 3
   },
   "file_extension": ".py",
   "mimetype": "text/x-python",
   "name": "python",
   "nbconvert_exporter": "python",
   "pygments_lexer": "ipython3",
   "version": "3.12.7"
  }
 },
 "nbformat": 4,
 "nbformat_minor": 5
}
